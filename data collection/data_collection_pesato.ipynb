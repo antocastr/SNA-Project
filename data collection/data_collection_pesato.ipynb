{
 "cells": [
  {
   "cell_type": "code",
   "execution_count": 1,
   "id": "99271520-b4bd-4b83-9a49-c67fe28b9247",
   "metadata": {},
   "outputs": [],
   "source": [
    "import spotipy\n",
    "import numpy as np\n",
    "import networkx as nx\n",
    "import matplotlib.pyplot as plt\n",
    "import pickle"
   ]
  },
  {
   "cell_type": "code",
   "execution_count": 2,
   "id": "f1b7f563-311f-4409-bca1-f3e2854b49d2",
   "metadata": {},
   "outputs": [],
   "source": [
    "client_id = '38913c78c0a14880b6bea949a078cd53'\n",
    "client_secret = '2d09deca815d44d7b8feb4f924f1e9bc'"
   ]
  },
  {
   "cell_type": "code",
   "execution_count": 3,
   "id": "f1fad9f5-eeb2-47d1-8daa-599f961fac55",
   "metadata": {},
   "outputs": [],
   "source": [
    "from spotipy.oauth2 import SpotifyClientCredentials"
   ]
  },
  {
   "cell_type": "code",
   "execution_count": 4,
   "id": "b8c93aa8-fbd3-492b-bd97-82cfd2dbe090",
   "metadata": {},
   "outputs": [],
   "source": [
    "credmanager = SpotifyClientCredentials(client_id=client_id, client_secret=client_secret)\n",
    "sp = spotipy.Spotify(\n",
    "    client_credentials_manager=credmanager,\n",
    "    requests_timeout=20  # secondi\n",
    ")"
   ]
  },
  {
   "cell_type": "code",
   "execution_count": 5,
   "id": "e94c4f6c-1d38-4dbd-8ce3-4d8c1b3d677b",
   "metadata": {},
   "outputs": [],
   "source": [
    "def artist_features(spotify_search_result):\n",
    "    result = {\n",
    "        'artist_name': spotify_search_result.get('name', 'artist_name_not_available'),\n",
    "        'artist_id': spotify_search_result.get('id', 'artist_id_not_available'),\n",
    "        'artist_popularity': spotify_search_result.get('popularity', 0),\n",
    "        'artist_first_genre': (spotify_search_result.get('genres', ['genre_not_available']) + ['genre_not_available'])[0],\n",
    "        'artist_n_followers': spotify_search_result.get('followers', {}).get('total', 0),\n",
    "    }\n",
    "    return result"
   ]
  },
  {
   "cell_type": "code",
   "execution_count": 6,
   "id": "fb0d3e12-b16a-4144-b234-8bddce9fd153",
   "metadata": {},
   "outputs": [],
   "source": [
    "drake_search = sp.search('Drake', type='artist')['artists']['items'][0]"
   ]
  },
  {
   "cell_type": "code",
   "execution_count": 7,
   "id": "3b1c3ba9-c07f-46af-8a7b-cc5c90329fc5",
   "metadata": {},
   "outputs": [
    {
     "data": {
      "text/plain": [
       "{'artist_name': 'Drake',\n",
       " 'artist_id': '3TVXtAsR1Inumwj472S9r4',\n",
       " 'artist_popularity': 99,\n",
       " 'artist_first_genre': 'rap',\n",
       " 'artist_n_followers': 101439447}"
      ]
     },
     "execution_count": 7,
     "metadata": {},
     "output_type": "execute_result"
    }
   ],
   "source": [
    "drake_features = artist_features(drake_search)\n",
    "drake_features"
   ]
  },
  {
   "cell_type": "code",
   "execution_count": 8,
   "id": "b8cfb079-74b7-4e77-8e9d-c416aa011f8b",
   "metadata": {},
   "outputs": [],
   "source": [
    "from bs4 import BeautifulSoup\n",
    "import urllib.request"
   ]
  },
  {
   "cell_type": "code",
   "execution_count": 9,
   "id": "d8104d47-5476-4536-9091-8fb75923dfac",
   "metadata": {},
   "outputs": [],
   "source": [
    "#use as reference https://kworb.net/spotify/artists.html to find the top 3000 top stremed artists\n",
    "fp = urllib.request.urlopen(\"https://kworb.net/spotify/artists.html\")\n",
    "mybytes = fp.read()\n",
    "mystr = mybytes.decode(\"utf8\")\n",
    "fp.close()\n"
   ]
  },
  {
   "cell_type": "code",
   "execution_count": 10,
   "id": "ece0098e-5158-4b0b-ba94-42b9335104db",
   "metadata": {},
   "outputs": [],
   "source": [
    "def remove_bound(string):\n",
    "  string = str(string)\n",
    "  string = string.split('>')[1]\n",
    "  string = string.split('<')[0]\n",
    "  return string"
   ]
  },
  {
   "cell_type": "code",
   "execution_count": 11,
   "id": "d14c4de6-2c01-4d23-9edb-ea10dd64cb9f",
   "metadata": {},
   "outputs": [
    {
     "name": "stdout",
     "output_type": "stream",
     "text": [
      "Artisti trovati: 3000\n",
      "Primi 10: ['Drake', 'Taylor Swift', 'Bad Bunny', 'The Weeknd', 'Justin Bieber', 'Ariana Grande', 'Eminem', 'Ed Sheeran', 'Travis Scott', 'Kanye West']\n"
     ]
    }
   ],
   "source": [
    "from bs4 import BeautifulSoup\n",
    "\n",
    "soup = BeautifulSoup(mystr, 'html.parser')\n",
    "artists_html = soup.find_all('a')\n",
    "artist_names = [remove_bound(a) for a in artists_html][14:]  # escludi intestazioni e link inutili\n",
    "artist_names = [name.replace('&amp;', '&') for name in artist_names]  # decode HTML entity\n",
    "\n",
    "print(f\"Artisti trovati: {len(artist_names)}\")\n",
    "print(\"Primi 10:\", artist_names[:10])"
   ]
  },
  {
   "cell_type": "code",
   "execution_count": 12,
   "id": "a66c46f3-9d0a-41e0-8be4-9b15462ff3b1",
   "metadata": {},
   "outputs": [
    {
     "data": {
      "text/plain": [
       "(3000,\n",
       " ['Drake',\n",
       "  'Taylor Swift',\n",
       "  'Bad Bunny',\n",
       "  'The Weeknd',\n",
       "  'Justin Bieber',\n",
       "  'Ariana Grande',\n",
       "  'Eminem',\n",
       "  'Ed Sheeran',\n",
       "  'Travis Scott',\n",
       "  'Kanye West'])"
      ]
     },
     "execution_count": 12,
     "metadata": {},
     "output_type": "execute_result"
    }
   ],
   "source": [
    "(len(artist_names), artist_names[:10])"
   ]
  },
  {
   "cell_type": "code",
   "execution_count": 13,
   "id": "b0e3d407-a32d-4859-ae38-f0c66c5469c1",
   "metadata": {},
   "outputs": [
    {
     "name": "stdout",
     "output_type": "stream",
     "text": [
      "There are 3000 artists in the initial list.\n"
     ]
    }
   ],
   "source": [
    "artists_name_list = artist_names\n",
    "print('There are', len(artists_name_list), 'artists in the initial list.')"
   ]
  },
  {
   "cell_type": "code",
   "execution_count": 14,
   "id": "e377ad9e-34c3-4321-8ea7-22358218237d",
   "metadata": {},
   "outputs": [],
   "source": [
    "#we set a popularity_threshold for the artists to add in the graph in order to avoid too \"noisy\" elements (artists with very small population/relevance)\n",
    "popularity_threshold = 20"
   ]
  },
  {
   "cell_type": "code",
   "execution_count": 15,
   "id": "3c97dcef-6d07-43af-a520-649f2eb61252",
   "metadata": {},
   "outputs": [],
   "source": [
    "G = nx.Graph()"
   ]
  },
  {
   "cell_type": "code",
   "execution_count": 16,
   "id": "395aa626-063c-45f3-9c91-bf3a7b4e9676",
   "metadata": {},
   "outputs": [],
   "source": [
    "from itertools import combinations\n",
    "\n",
    "def add_weighted_edges_from_artists(G, artist_ids, pairwise=True, anchor=None):\n",
    "    \"\"\"\n",
    "    Aggiunge/incrementa archi pesati in base alle co-presenze su UNA traccia.\n",
    "\n",
    "    - pairwise=True  -> collega TUTTE le coppie (grafo di co-autorship \"completo\" per la traccia)\n",
    "    - pairwise=False -> collega solo l'anchor con gli altri (stella centrata su 'anchor')\n",
    "\n",
    "    anchor: id artista centrale (se pairwise=False). Se None e pairwise=False, non fa nulla.\n",
    "    \"\"\"\n",
    "    # togli duplicati intra-traccia\n",
    "    ids = list(dict.fromkeys(artist_ids))\n",
    "    if len(ids) < 2:\n",
    "        return\n",
    "\n",
    "    if pairwise:\n",
    "        pairs = combinations(sorted(ids), 2)\n",
    "    else:\n",
    "        if not anchor or anchor not in ids:\n",
    "            return\n",
    "        pairs = ((anchor, b) for b in ids if b != anchor)\n",
    "\n",
    "    for u, v in pairs:\n",
    "        if G.has_edge(u, v):\n",
    "            G[u][v]['weight'] = G[u][v].get('weight', 1) + 1\n",
    "        else:\n",
    "            G.add_edge(u, v, weight=1)"
   ]
  },
  {
   "cell_type": "code",
   "execution_count": 17,
   "id": "590653b2-a2d8-4e4d-b7f2-52f2ad9240df",
   "metadata": {},
   "outputs": [],
   "source": [
    "from collections import Counter\n",
    "\n",
    "def get_collaborators(artist_id, max_albums=5):\n",
    "    \"\"\"\n",
    "    Ritorna un Counter: collab_id -> #collaborazioni con artist_id\n",
    "    Conta una collaborazione ogni volta che artist_id e collab_id co-compaiono\n",
    "    tra gli 'artists' della stessa traccia.\n",
    "    \"\"\"\n",
    "    counts = Counter()\n",
    "    seen_album_ids = set()\n",
    "    got = 0\n",
    "\n",
    "    # Considera album, singoli e (opzionale) apparizioni\n",
    "    album_types = [\"album\", \"single\", \"appears_on\"]\n",
    "\n",
    "    for a_type in album_types:\n",
    "        offset = 0\n",
    "        while True:\n",
    "            res = sp.artist_albums(artist_id=artist_id, album_type=a_type, limit=50, offset=offset)\n",
    "            items = res.get(\"items\", [])\n",
    "            if not items:\n",
    "                break\n",
    "\n",
    "            for album in items:\n",
    "                aid = album.get(\"id\")\n",
    "                if not aid or aid in seen_album_ids:\n",
    "                    continue\n",
    "                seen_album_ids.add(aid)\n",
    "\n",
    "                got += 1\n",
    "                if max_albums is not None and got > max_albums:\n",
    "                    break\n",
    "\n",
    "                # scorro le tracce\n",
    "                tr_off = 0\n",
    "                while True:\n",
    "                    tr_res = sp.album_tracks(album_id=aid, limit=50, offset=tr_off)\n",
    "                    tracks = tr_res.get(\"items\", [])\n",
    "                    if not tracks:\n",
    "                        break\n",
    "\n",
    "                    for tr in tracks:\n",
    "                        tr_artists = [a.get(\"id\") for a in tr.get(\"artists\", []) if a.get(\"id\")]\n",
    "                        if artist_id in tr_artists:\n",
    "                            for cid in tr_artists:\n",
    "                                if cid and cid != artist_id:\n",
    "                                    counts[cid] += 1\n",
    "\n",
    "                    tr_off += 50\n",
    "\n",
    "            if (max_albums is not None and got > max_albums) or len(items) < 50:\n",
    "                break\n",
    "            offset += 50\n",
    "\n",
    "    return counts\n"
   ]
  },
  {
   "cell_type": "code",
   "execution_count": 18,
   "id": "7062d719-03a6-464f-85c6-1a9768eb6f6e",
   "metadata": {},
   "outputs": [],
   "source": [
    "with open(\"grafo_parziale.pkl\", \"rb\") as f:\n",
    "    G = pickle.load(f)"
   ]
  },
  {
   "cell_type": "code",
   "execution_count": 19,
   "id": "fa1b3825-40a9-4166-a8b0-896361968d7a",
   "metadata": {},
   "outputs": [],
   "source": [
    "start_index = 2751  # o il numero che ricordi (es. 620, 640…)"
   ]
  },
  {
   "cell_type": "code",
   "execution_count": 20,
   "id": "f6b9e71d-00dd-42f5-9559-25a02342f235",
   "metadata": {},
   "outputs": [],
   "source": [
    "import time"
   ]
  },
  {
   "cell_type": "code",
   "execution_count": null,
   "id": "79bbe636-c357-4d29-bfed-dd763571335c",
   "metadata": {},
   "outputs": [
    {
     "name": "stdout",
     "output_type": "stream",
     "text": [
      "[2752/3000] Analizzo artista: FAST BOY\n"
     ]
    },
    {
     "name": "stderr",
     "output_type": "stream",
     "text": [
      "WARNING:root:Your application has reached a rate/request limit. Retry will occur after: 84822\n"
     ]
    }
   ],
   "source": [
    "# Continua dal punto in cui eri rimasto\n",
    "for idx, name in enumerate(artists_name_list[start_index:], start=start_index):\n",
    "    print(f\"[{idx+1}/{len(artists_name_list)}] Analizzo artista: {name}\")\n",
    "    try:\n",
    "        search = sp.search(q=name, type='artist', limit=1)['artists']['items']\n",
    "        if not search:\n",
    "            continue\n",
    "        artist = search[0]\n",
    "        if artist['popularity'] < popularity_threshold:\n",
    "            continue\n",
    "\n",
    "        artist_data = artist_features(artist)\n",
    "        artist_id = artist_data['artist_id']\n",
    "\n",
    "        if artist_id in G:\n",
    "            continue  # Già elaborato\n",
    "\n",
    "        G.add_node(artist_id, **artist_data)\n",
    "\n",
    "        # Trova collaboratori: Counter(collab_id -> count)\n",
    "        collab_counts = get_collaborators(artist_id)\n",
    "\n",
    "        for collab_id, count in collab_counts.items():\n",
    "            # crea nodo collab se manca (rispettando la soglia)\n",
    "            if not G.has_node(collab_id):\n",
    "                try:\n",
    "                    collab_data = sp.artist(collab_id)\n",
    "                    collab_feat = artist_features(collab_data)\n",
    "                    if collab_feat['artist_popularity'] >= popularity_threshold:\n",
    "                        G.add_node(collab_id, **collab_feat)\n",
    "                    else:\n",
    "                        continue  # sotto soglia → salto arco\n",
    "                except:\n",
    "                    continue\n",
    "\n",
    "            # aggiorna/incrementa il peso dell'arco\n",
    "            if G.has_edge(artist_id, collab_id):\n",
    "                G[artist_id][collab_id]['weight'] = G[artist_id][collab_id].get('weight', 0) + int(count)\n",
    "            else:\n",
    "                G.add_edge(artist_id, collab_id, weight=int(count))\n",
    "\n",
    "        # Salva ogni 10 artisti\n",
    "        if idx % 10 == 0:\n",
    "            with open(\"grafo_parziale.pkl\", \"wb\") as f:\n",
    "                pickle.dump(G, f)\n",
    "            print(f\"💾 Grafo salvato a {idx} nodi.\")\n",
    "\n",
    "        time.sleep(1)\n",
    "\n",
    "    except spotipy.exceptions.SpotifyException as se:\n",
    "        if se.http_status == 429:\n",
    "            retry_after = int(se.headers.get(\"Retry-After\", 60))\n",
    "            print(f\"⏳ Rate limit raggiunto. Attendo {retry_after} secondi...\")\n",
    "            time.sleep(retry_after + 5)\n",
    "            continue\n",
    "        else:\n",
    "            print(f\"Errore Spotify per {name}: {se}\")\n",
    "            continue\n",
    "\n",
    "    except Exception as e:\n",
    "        print(f\"Errore generico per {name}: {e}\")\n",
    "        continue\n",
    "\n",
    "# Salvataggio finale\n",
    "with open(\"grafo_finale_pesato.pkl\", \"wb\") as f:\n",
    "    pickle.dump(G, f)\n",
    "\n",
    "print(\"✅ Raccolta completata. Grafo salvato.\")\n"
   ]
  },
  {
   "cell_type": "code",
   "execution_count": 2,
   "id": "d0ad8c11-e4e6-4b14-af6d-eafd9bdc331b",
   "metadata": {},
   "outputs": [],
   "source": [
    "with open(\"grafo_finale_pesato.pkl\", \"rb\") as f:\n",
    "    G = pickle.load(f)"
   ]
  },
  {
   "cell_type": "code",
   "execution_count": 3,
   "id": "c5469465-25cd-45dc-a288-3011672a33b5",
   "metadata": {},
   "outputs": [],
   "source": [
    "# save graph object to file\n",
    "pickle.dump(G, open('grafo_finale.pickle', 'wb'))"
   ]
  },
  {
   "cell_type": "code",
   "execution_count": 4,
   "id": "e6d2dcb5-48f7-4c34-b0a9-955e77aeaf92",
   "metadata": {},
   "outputs": [],
   "source": [
    "G_raw = nx.Graph()\n",
    "for u, v in G.edges():\n",
    "  G_raw.add_edge(u,v)\n",
    "nx.write_gexf(G_raw,\"grafo_finale_pesato.gexf\")"
   ]
  },
  {
   "cell_type": "code",
   "execution_count": null,
   "id": "2b7e8416-c202-4af1-88a1-333ce6f5dd68",
   "metadata": {},
   "outputs": [],
   "source": []
  }
 ],
 "metadata": {
  "kernelspec": {
   "display_name": "Python 3 (ipykernel)",
   "language": "python",
   "name": "python3"
  },
  "language_info": {
   "codemirror_mode": {
    "name": "ipython",
    "version": 3
   },
   "file_extension": ".py",
   "mimetype": "text/x-python",
   "name": "python",
   "nbconvert_exporter": "python",
   "pygments_lexer": "ipython3",
   "version": "3.11.7"
  }
 },
 "nbformat": 4,
 "nbformat_minor": 5
}
