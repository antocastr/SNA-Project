{
 "cells": [
  {
   "cell_type": "code",
   "execution_count": 1,
   "id": "7d338a6e",
   "metadata": {},
   "outputs": [
    {
     "name": "stdout",
     "output_type": "stream",
     "text": [
      "Requirement already satisfied: spotipy in c:\\users\\acast\\anaconda3\\lib\\site-packages (2.25.1)\n",
      "Requirement already satisfied: redis>=3.5.3 in c:\\users\\acast\\anaconda3\\lib\\site-packages (from spotipy) (6.4.0)\n",
      "Requirement already satisfied: requests>=2.25.0 in c:\\users\\acast\\anaconda3\\lib\\site-packages (from spotipy) (2.31.0)\n",
      "Requirement already satisfied: urllib3>=1.26.0 in c:\\users\\acast\\anaconda3\\lib\\site-packages (from spotipy) (2.0.7)\n",
      "Requirement already satisfied: charset-normalizer<4,>=2 in c:\\users\\acast\\anaconda3\\lib\\site-packages (from requests>=2.25.0->spotipy) (2.0.4)\n",
      "Requirement already satisfied: idna<4,>=2.5 in c:\\users\\acast\\anaconda3\\lib\\site-packages (from requests>=2.25.0->spotipy) (3.4)\n",
      "Requirement already satisfied: certifi>=2017.4.17 in c:\\users\\acast\\anaconda3\\lib\\site-packages (from requests>=2.25.0->spotipy) (2024.2.2)\n"
     ]
    }
   ],
   "source": [
    "#install required API spotify library\n",
    "!pip install spotipy"
   ]
  },
  {
   "cell_type": "code",
   "execution_count": 1,
   "id": "f5f596ab-e4a8-4712-a585-9bf47909f96f",
   "metadata": {},
   "outputs": [],
   "source": [
    "import spotipy\n",
    "import numpy as np\n",
    "import networkx as nx\n",
    "import matplotlib.pyplot as plt\n",
    "import pickle"
   ]
  },
  {
   "cell_type": "code",
   "execution_count": 2,
   "id": "419c309d-724e-4d18-abb2-7ea30f90bdba",
   "metadata": {},
   "outputs": [],
   "source": [
    "client_id = '1deb8af0ef8f4ef38a0000a5039c146a'\n",
    "client_secret = 'af6f61a89dac4a1c98dff51a6a45413f'"
   ]
  },
  {
   "cell_type": "code",
   "execution_count": 3,
   "id": "87cfaab0-49ec-4c76-ac9a-cb76e0ab0299",
   "metadata": {},
   "outputs": [],
   "source": [
    "from spotipy.oauth2 import SpotifyClientCredentials"
   ]
  },
  {
   "cell_type": "code",
   "execution_count": 4,
   "id": "d99f81bb-13ff-482c-bd89-7decd462b325",
   "metadata": {},
   "outputs": [],
   "source": [
    "credmanager = SpotifyClientCredentials(client_id=client_id, client_secret=client_secret)\n",
    "sp = spotipy.Spotify(\n",
    "    client_credentials_manager=credmanager,\n",
    "    requests_timeout=20  # secondi\n",
    ")"
   ]
  },
  {
   "cell_type": "code",
   "execution_count": 5,
   "id": "4cc215f2-2b5d-4601-916b-84e4606b1131",
   "metadata": {},
   "outputs": [],
   "source": [
    "def artist_features(spotify_search_result):\n",
    "    result = {\n",
    "        'artist_name': spotify_search_result.get('name', 'artist_name_not_available'),\n",
    "        'artist_id': spotify_search_result.get('id', 'artist_id_not_available'),\n",
    "        'artist_popularity': spotify_search_result.get('popularity', 0),\n",
    "        'artist_first_genre': (spotify_search_result.get('genres', ['genre_not_available']) + ['genre_not_available'])[0],\n",
    "        'artist_n_followers': spotify_search_result.get('followers', {}).get('total', 0),\n",
    "    }\n",
    "    return result"
   ]
  },
  {
   "cell_type": "code",
   "execution_count": 6,
   "id": "d2a5de14-b442-4358-9e5b-20a1987bb007",
   "metadata": {},
   "outputs": [],
   "source": [
    "drake_search = sp.search('Drake', type='artist')['artists']['items'][0]"
   ]
  },
  {
   "cell_type": "code",
   "execution_count": 7,
   "id": "35b51112-eba6-4593-ac99-8bb9fb346f2a",
   "metadata": {},
   "outputs": [
    {
     "data": {
      "text/plain": [
       "{'artist_name': 'Drake',\n",
       " 'artist_id': '3TVXtAsR1Inumwj472S9r4',\n",
       " 'artist_popularity': 99,\n",
       " 'artist_first_genre': 'rap',\n",
       " 'artist_n_followers': 100970883}"
      ]
     },
     "execution_count": 7,
     "metadata": {},
     "output_type": "execute_result"
    }
   ],
   "source": [
    "drake_features = artist_features(drake_search)\n",
    "drake_features"
   ]
  },
  {
   "cell_type": "code",
   "execution_count": 8,
   "id": "0db41824-4924-4109-9e97-5e2d3704c117",
   "metadata": {},
   "outputs": [],
   "source": [
    "from bs4 import BeautifulSoup\n",
    "import urllib.request"
   ]
  },
  {
   "cell_type": "code",
   "execution_count": 9,
   "id": "1e8a2639-18c5-4eb8-837c-2903d8c0dea6",
   "metadata": {},
   "outputs": [],
   "source": [
    "#use as reference https://kworb.net/spotify/artists.html to find the top 3000 top stremed artists\n",
    "fp = urllib.request.urlopen(\"https://kworb.net/spotify/artists.html\")\n",
    "mybytes = fp.read()\n",
    "mystr = mybytes.decode(\"utf8\")\n",
    "fp.close()\n"
   ]
  },
  {
   "cell_type": "code",
   "execution_count": 10,
   "id": "0bc73f1f-b18e-4aea-8a08-38effe84d674",
   "metadata": {},
   "outputs": [],
   "source": [
    "def remove_bound(string):\n",
    "  string = str(string)\n",
    "  string = string.split('>')[1]\n",
    "  string = string.split('<')[0]\n",
    "  return string"
   ]
  },
  {
   "cell_type": "code",
   "execution_count": 11,
   "id": "f075b25c-8820-46ee-97e8-d8543687f97e",
   "metadata": {},
   "outputs": [
    {
     "name": "stdout",
     "output_type": "stream",
     "text": [
      "Artisti trovati: 3000\n",
      "Primi 10: ['Drake', 'Taylor Swift', 'Bad Bunny', 'The Weeknd', 'Justin Bieber', 'Ed Sheeran', 'Ariana Grande', 'Travis Scott', 'Eminem', 'Kanye West']\n"
     ]
    }
   ],
   "source": [
    "from bs4 import BeautifulSoup\n",
    "\n",
    "soup = BeautifulSoup(mystr, 'html.parser')\n",
    "artists_html = soup.find_all('a')\n",
    "artist_names = [remove_bound(a) for a in artists_html][14:]  # escludi intestazioni e link inutili\n",
    "artist_names = [name.replace('&amp;', '&') for name in artist_names]  # decode HTML entity\n",
    "\n",
    "print(f\"Artisti trovati: {len(artist_names)}\")\n",
    "print(\"Primi 10:\", artist_names[:10])"
   ]
  },
  {
   "cell_type": "code",
   "execution_count": 12,
   "id": "b43072a9-51fa-421f-bb93-38be6d709c72",
   "metadata": {},
   "outputs": [
    {
     "data": {
      "text/plain": [
       "(3000,\n",
       " ['Drake',\n",
       "  'Taylor Swift',\n",
       "  'Bad Bunny',\n",
       "  'The Weeknd',\n",
       "  'Justin Bieber',\n",
       "  'Ed Sheeran',\n",
       "  'Ariana Grande',\n",
       "  'Travis Scott',\n",
       "  'Eminem',\n",
       "  'Kanye West'])"
      ]
     },
     "execution_count": 12,
     "metadata": {},
     "output_type": "execute_result"
    }
   ],
   "source": [
    "(len(artist_names), artist_names[:10])"
   ]
  },
  {
   "cell_type": "code",
   "execution_count": 13,
   "id": "dabb0361-7dac-44c4-af93-a96bfd376e1e",
   "metadata": {},
   "outputs": [
    {
     "name": "stdout",
     "output_type": "stream",
     "text": [
      "There are 3000 artists in the initial list.\n"
     ]
    }
   ],
   "source": [
    "artists_name_list = artist_names\n",
    "print('There are', len(artists_name_list), 'artists in the initial list.')"
   ]
  },
  {
   "cell_type": "code",
   "execution_count": 14,
   "id": "b1bb285a-a123-46bf-a19a-cb62c5c1a61b",
   "metadata": {},
   "outputs": [],
   "source": [
    "#we set a popularity_threshold for the artists to add in the graph in order to avoid too \"noisy\" elements (artists with very small population/relevance)\n",
    "popularity_threshold = 20"
   ]
  },
  {
   "cell_type": "code",
   "execution_count": 15,
   "id": "b1b37d70-e990-48d0-9b61-c056035a9e12",
   "metadata": {},
   "outputs": [],
   "source": [
    "G = nx.Graph()"
   ]
  },
  {
   "cell_type": "code",
   "execution_count": 16,
   "id": "8f2892e8-9ff6-49c2-bbb5-314b45b38bbb",
   "metadata": {},
   "outputs": [],
   "source": [
    "def get_collaborators(artist_id, max_albums=5):\n",
    "    \"\"\"\n",
    "    Restituisce una lista di collaboratori (altri artisti) che hanno lavorato\n",
    "    con l'artista specificato, basandosi sui brani dei suoi album/singoli.\n",
    "\n",
    "    Parameters:\n",
    "        artist_id (str): ID Spotify dell'artista principale\n",
    "        max_albums (int): Numero massimo di album da esplorare (default: 5)\n",
    "\n",
    "    Returns:\n",
    "        List[Tuple[str, str]]: Lista di tuple (id, nome) dei collaboratori\n",
    "    \"\"\"\n",
    "    collaborators = set()\n",
    "    try:\n",
    "        albums = sp.artist_albums(artist_id, include_groups='album,single', limit=max_albums)['items']\n",
    "        for album in albums:\n",
    "            tracks = sp.album_tracks(album['id'])['items']\n",
    "            for track in tracks:\n",
    "                for artist in track['artists']:\n",
    "                    if artist['id'] != artist_id:\n",
    "                        collaborators.add((artist['id'], artist['name']))\n",
    "    except Exception as e:\n",
    "        print(f\"Errore nel recupero collaboratori per {artist_id}: {e}\")\n",
    "    return list(collaborators)"
   ]
  },
  {
   "cell_type": "code",
   "execution_count": 17,
   "id": "f9898329-d4cc-4a53-9bd4-5ae99e927932",
   "metadata": {},
   "outputs": [],
   "source": [
    "with open(\"grafo_parziale.pkl\", \"rb\") as f:\n",
    "    G = pickle.load(f)"
   ]
  },
  {
   "cell_type": "code",
   "execution_count": 18,
   "id": "b69cbf0c-c557-4012-8e3f-55c6b20ad571",
   "metadata": {},
   "outputs": [],
   "source": [
    "start_index = 2811  # o il numero che ricordi (es. 620, 640…)"
   ]
  },
  {
   "cell_type": "code",
   "execution_count": 19,
   "id": "71571446-5e10-457d-962d-d5992a1cd84e",
   "metadata": {},
   "outputs": [],
   "source": [
    "import time"
   ]
  },
  {
   "cell_type": "code",
   "execution_count": 20,
   "id": "bfa7d6a2-57da-42e8-9061-be43e53ca1a1",
   "metadata": {},
   "outputs": [
    {
     "name": "stdout",
     "output_type": "stream",
     "text": [
      "[2812/3000] Analizzo artista: Academy of St. Martin in the Fields\n",
      "[2813/3000] Analizzo artista: Vengaboys\n",
      "[2814/3000] Analizzo artista: Charlie Wilson\n",
      "[2815/3000] Analizzo artista: Yura Yunita\n",
      "[2816/3000] Analizzo artista: Lali\n",
      "[2817/3000] Analizzo artista: Monica\n",
      "[2818/3000] Analizzo artista: Bresh\n",
      "[2819/3000] Analizzo artista: Hunter Hayes\n",
      "[2820/3000] Analizzo artista: Sujatha\n",
      "[2821/3000] Analizzo artista: Suki Waterhouse\n",
      "[2822/3000] Analizzo artista: Brian Eno\n",
      "[2823/3000] Analizzo artista: Los Panchos\n",
      "[2824/3000] Analizzo artista: Eddie Vedder\n",
      "[2825/3000] Analizzo artista: Poison\n",
      "[2826/3000] Analizzo artista: Ol' Dirty Bastard\n",
      "[2827/3000] Analizzo artista: VINAI\n",
      "[2828/3000] Analizzo artista: Charly Black\n",
      "[2829/3000] Analizzo artista: Yovie & Nuno\n",
      "[2830/3000] Analizzo artista: Vigiland\n",
      "[2831/3000] Analizzo artista: Joey Montana\n",
      "[2832/3000] Analizzo artista: Uzielito Mix\n",
      "[2833/3000] Analizzo artista: COIN\n",
      "[2834/3000] Analizzo artista: Migrantes\n",
      "[2835/3000] Analizzo artista: Sergio Vega \"El Shaka\"\n",
      "[2836/3000] Analizzo artista: Cafuné\n",
      "[2837/3000] Analizzo artista: Los Pericos\n",
      "[2838/3000] Analizzo artista: 6arelyhuman\n",
      "[2839/3000] Analizzo artista: ARASHI\n",
      "[2840/3000] Analizzo artista: Harrdy Sandhu\n",
      "[2841/3000] Analizzo artista: Murillo e LT no Beat\n",
      "[2842/3000] Analizzo artista: Soft Cell\n",
      "[2843/3000] Analizzo artista: Sobel\n",
      "[2844/3000] Analizzo artista: Niro\n",
      "[2845/3000] Analizzo artista: Diego Verdaguer\n",
      "[2846/3000] Analizzo artista: Fred De Palma\n",
      "[2847/3000] Analizzo artista: Adrianne Lenker\n",
      "[2848/3000] Analizzo artista: Aldo Trujillo\n",
      "[2849/3000] Analizzo artista: Ramirez\n",
      "[2850/3000] Analizzo artista: Henrique & Diego\n",
      "[2851/3000] Analizzo artista: ArrDee\n",
      "[2852/3000] Analizzo artista: Cher Lloyd\n",
      "[2853/3000] Analizzo artista: Buena Vista Social Club\n",
      "[2854/3000] Analizzo artista: Amaarae\n",
      "[2855/3000] Analizzo artista: 311\n",
      "[2856/3000] Analizzo artista: El Malilla\n",
      "[2857/3000] Analizzo artista: Madame\n",
      "[2858/3000] Analizzo artista: KC & The Sunshine Band\n",
      "[2859/3000] Analizzo artista: Julien Baker\n",
      "[2860/3000] Analizzo artista: KEVVO\n",
      "[2861/3000] Analizzo artista: Zé Ramalho\n",
      "[2862/3000] Analizzo artista: Callejeros\n",
      "[2863/3000] Analizzo artista: Simba La Rue\n",
      "[2864/3000] Analizzo artista: Witt Lowry\n",
      "[2865/3000] Analizzo artista: Bellakath\n",
      "[2866/3000] Analizzo artista: Emicida\n",
      "[2867/3000] Analizzo artista: Ronan Keating\n",
      "[2868/3000] Analizzo artista: Atitude 67\n",
      "[2869/3000] Analizzo artista: YFN Lucci\n",
      "[2870/3000] Analizzo artista: The Band\n",
      "[2871/3000] Analizzo artista: MC Rick\n",
      "[2872/3000] Analizzo artista: Nancy Sinatra\n",
      "[2873/3000] Analizzo artista: Norma Jean Martine\n",
      "[2874/3000] Analizzo artista: Peggy Gou\n",
      "[2875/3000] Analizzo artista: Shashaa Tirupati\n",
      "[2876/3000] Analizzo artista: tatool\n",
      "[2877/3000] Analizzo artista: Bad Wolves\n",
      "[2878/3000] Analizzo artista: Tommee Profitt\n",
      "[2879/3000] Analizzo artista: Passion\n",
      "[2880/3000] Analizzo artista: bôa\n",
      "[2881/3000] Analizzo artista: Ebru Gündeş\n",
      "[2882/3000] Analizzo artista: Snelle\n",
      "[2883/3000] Analizzo artista: The Red Jumpsuit Apparatus\n",
      "[2884/3000] Analizzo artista: Frankie Valli & The Four Seasons\n",
      "[2885/3000] Analizzo artista: Solange\n",
      "[2886/3000] Analizzo artista: Travis Tritt\n",
      "[2887/3000] Analizzo artista: DigDat\n",
      "[2888/3000] Analizzo artista: Los Caligaris\n",
      "[2889/3000] Analizzo artista: Mumuzinho\n",
      "[2890/3000] Analizzo artista: Ryan Riback\n",
      "[2891/3000] Analizzo artista: XG\n",
      "[2892/3000] Analizzo artista: Mayday Parade\n",
      "[2893/3000] Analizzo artista: sped up nightcore\n",
      "[2894/3000] Analizzo artista: Fidel Rueda\n",
      "[2895/3000] Analizzo artista: Pendulum\n",
      "[2896/3000] Analizzo artista: Stevie Ray Vaughan\n",
      "[2897/3000] Analizzo artista: Batuflex\n",
      "[2898/3000] Analizzo artista: K. J. Yesudas\n",
      "[2899/3000] Analizzo artista: Jessie Ware\n",
      "[2900/3000] Analizzo artista: Mako\n",
      "[2901/3000] Analizzo artista: Emilee\n",
      "[2902/3000] Analizzo artista: GoonRock\n",
      "[2903/3000] Analizzo artista: Teyana Taylor\n",
      "[2904/3000] Analizzo artista: Los Gemelos De Sinaloa\n",
      "[2905/3000] Analizzo artista: Panter Bélico\n",
      "[2906/3000] Analizzo artista: Ludwig Göransson\n",
      "[2907/3000] Analizzo artista: Leonardo\n",
      "[2908/3000] Analizzo artista: Kiana Ledé\n",
      "[2909/3000] Analizzo artista: DJ Antoine\n",
      "[2910/3000] Analizzo artista: Metronomy\n",
      "[2911/3000] Analizzo artista: DDG\n",
      "[2912/3000] Analizzo artista: Yuri\n",
      "[2913/3000] Analizzo artista: Benjamin Ingrosso\n",
      "[2914/3000] Analizzo artista: Javier Rosas Y Su Artillería Pesada\n",
      "[2915/3000] Analizzo artista: Reneé Rapp\n",
      "[2916/3000] Analizzo artista: TAEYANG\n",
      "[2917/3000] Analizzo artista: 347aidan\n",
      "[2918/3000] Analizzo artista: Mc Lele JP\n",
      "[2919/3000] Analizzo artista: Gilli\n",
      "[2920/3000] Analizzo artista: Jota Quest\n",
      "[2921/3000] Analizzo artista: SHINee\n",
      "[2922/3000] Analizzo artista: EJAE\n",
      "[2923/3000] Analizzo artista: Vika Jigulina\n",
      "[2924/3000] Analizzo artista: Starley\n",
      "[2925/3000] Analizzo artista: Electric Callboy\n",
      "[2926/3000] Analizzo artista: Echosmith\n",
      "[2927/3000] Analizzo artista: Todd Terry\n",
      "[2928/3000] Analizzo artista: Kenya Grace\n",
      "[2929/3000] Analizzo artista: Damien Rice\n",
      "[2930/3000] Analizzo artista: dvsn\n",
      "[2931/3000] Analizzo artista: Raj Shekhar\n",
      "[2932/3000] Analizzo artista: Sophie Ellis-Bextor\n",
      "[2933/3000] Analizzo artista: Three 6 Mafia\n",
      "[2934/3000] Analizzo artista: Ñejo & Dalmata\n",
      "[2935/3000] Analizzo artista: Joan Jett & the Blackhearts\n",
      "[2936/3000] Analizzo artista: Yunk Vino\n",
      "[2937/3000] Analizzo artista: Jet\n",
      "[2938/3000] Analizzo artista: Justine Skye\n",
      "[2939/3000] Analizzo artista: Die Antwoord\n",
      "[2940/3000] Analizzo artista: Aditya Rikhari\n",
      "[2941/3000] Analizzo artista: Mario Winans\n",
      "[2942/3000] Analizzo artista: Mi Banda El Mexicano\n",
      "[2943/3000] Analizzo artista: Olivia Dean\n",
      "[2944/3000] Analizzo artista: AronChupa\n",
      "[2945/3000] Analizzo artista: Gang Starr\n",
      "[2946/3000] Analizzo artista: Neo Pistea\n",
      "[2947/3000] Analizzo artista: Mufasa & Hypeman\n",
      "[2948/3000] Analizzo artista: boy pablo\n",
      "[2949/3000] Analizzo artista: Natalie Imbruglia\n",
      "[2950/3000] Analizzo artista: YouNotUs\n",
      "[2951/3000] Analizzo artista: Slimane\n",
      "[2952/3000] Analizzo artista: Danny Brown\n",
      "[2953/3000] Analizzo artista: Dani Flow\n",
      "[2954/3000] Analizzo artista: Anthony Santos\n",
      "[2955/3000] Analizzo artista: Fort Minor\n",
      "[2956/3000] Analizzo artista: The Used\n",
      "[2957/3000] Analizzo artista: Band of Horses\n",
      "[2958/3000] Analizzo artista: BAEKHYUN\n",
      "[2959/3000] Analizzo artista: Ingrid Michaelson\n",
      "[2960/3000] Analizzo artista: Daniel Hope\n",
      "[2961/3000] Analizzo artista: Ulices Chaidez\n",
      "[2962/3000] Analizzo artista: Extremoduro\n",
      "[2963/3000] Analizzo artista: Saba\n",
      "[2964/3000] Analizzo artista: Michael Schulte\n",
      "[2965/3000] Analizzo artista: Westside Gunn\n",
      "[2966/3000] Analizzo artista: Mýa\n",
      "[2967/3000] Analizzo artista: Kyan\n",
      "[2968/3000] Analizzo artista: AUDREY NUNA\n",
      "[2969/3000] Analizzo artista: Los Rehenes\n",
      "[2970/3000] Analizzo artista: Paty Cantú\n",
      "[2971/3000] Analizzo artista: Yung Beef\n",
      "[2972/3000] Analizzo artista: Troy\n",
      "[2973/3000] Analizzo artista: Duster\n",
      "[2974/3000] Analizzo artista: Mark Morrison\n",
      "[2975/3000] Analizzo artista: The Backseat Lovers\n",
      "[2976/3000] Analizzo artista: Mufasa\n",
      "[2977/3000] Analizzo artista: Little Dragon\n",
      "[2978/3000] Analizzo artista: Gilberto Gil\n",
      "[2979/3000] Analizzo artista: Meat Loaf\n",
      "[2980/3000] Analizzo artista: JPEGMAFIA\n",
      "[2981/3000] Analizzo artista: Sushin Shyam\n",
      "[2982/3000] Analizzo artista: Andrew Underberg\n",
      "[2983/3000] Analizzo artista: Redimi2\n",
      "[2984/3000] Analizzo artista: Roar\n",
      "[2985/3000] Analizzo artista: Black Veil Brides\n",
      "[2986/3000] Analizzo artista: The Pointer Sisters\n",
      "[2987/3000] Analizzo artista: Vitor Fernandes\n",
      "[2988/3000] Analizzo artista: Żabson\n",
      "[2989/3000] Analizzo artista: Renée Elise Goldsberry\n",
      "[2990/3000] Analizzo artista: Joni Mitchell\n",
      "[2991/3000] Analizzo artista: Reyli Barba\n",
      "[2992/3000] Analizzo artista: Malú\n",
      "[2993/3000] Analizzo artista: Gulzar\n",
      "[2994/3000] Analizzo artista: Within Temptation\n",
      "[2995/3000] Analizzo artista: Mc Lipi\n",
      "[2996/3000] Analizzo artista: ZAAC\n",
      "[2997/3000] Analizzo artista: Shakthisree Gopalan\n",
      "[2998/3000] Analizzo artista: RK\n",
      "[2999/3000] Analizzo artista: Baby Bash\n",
      "[3000/3000] Analizzo artista: Los Yonic's\n",
      "✅ Raccolta completata. Grafo salvato.\n"
     ]
    }
   ],
   "source": [
    "# Continua dal punto in cui eri rimasto\n",
    "for idx, name in enumerate(artists_name_list[start_index:], start=start_index):\n",
    "    print(f\"[{idx+1}/{len(artists_name_list)}] Analizzo artista: {name}\")\n",
    "    try:\n",
    "        search = sp.search(q=name, type='artist', limit=1)['artists']['items']\n",
    "        if not search:\n",
    "            continue\n",
    "        artist = search[0]\n",
    "        if artist['popularity'] < popularity_threshold:\n",
    "            continue\n",
    "\n",
    "        artist_data = artist_features(artist)\n",
    "        artist_id = artist_data['artist_id']\n",
    "\n",
    "        if artist_id in G:\n",
    "            continue  # Già elaborato\n",
    "\n",
    "        G.add_node(artist_id, **artist_data)\n",
    "\n",
    "        # Trova collaboratori\n",
    "        collaborators = get_collaborators(artist_id)\n",
    "        for collab_id, collab_name in collaborators:\n",
    "            if not G.has_node(collab_id):\n",
    "                try:\n",
    "                    collab_data = sp.artist(collab_id)\n",
    "                    collab_feat = artist_features(collab_data)\n",
    "                    if collab_feat['artist_popularity'] >= popularity_threshold:\n",
    "                        G.add_node(collab_id, **collab_feat)\n",
    "                except:\n",
    "                    continue\n",
    "            if G.has_node(collab_id):\n",
    "                G.add_edge(artist_id, collab_id)\n",
    "\n",
    "        # Salva ogni 10 artisti\n",
    "        if idx % 10 == 0:\n",
    "            with open(\"grafo_parziale.pkl\", \"wb\") as f:\n",
    "                pickle.dump(G, f)\n",
    "            print(f\"💾 Grafo salvato a {idx} nodi.\")\n",
    "\n",
    "        time.sleep(1)\n",
    "\n",
    "    except spotipy.exceptions.SpotifyException as se:\n",
    "        if se.http_status == 429:\n",
    "            retry_after = int(se.headers.get(\"Retry-After\", 60))\n",
    "            print(f\"⏳ Rate limit raggiunto. Attendo {retry_after} secondi...\")\n",
    "            time.sleep(retry_after + 5)\n",
    "            continue\n",
    "        else:\n",
    "            print(f\"Errore Spotify per {name}: {se}\")\n",
    "            continue\n",
    "\n",
    "    except Exception as e:\n",
    "        print(f\"Errore generico per {name}: {e}\")\n",
    "        continue\n",
    "\n",
    "# Salvataggio finale\n",
    "with open(\"grafo_finale.pkl\", \"wb\") as f:\n",
    "    pickle.dump(G, f)\n",
    "\n",
    "print(\"✅ Raccolta completata. Grafo salvato.\")"
   ]
  },
  {
   "cell_type": "code",
   "execution_count": 21,
   "id": "0d88ebc0-0441-4b57-8531-f91013533918",
   "metadata": {},
   "outputs": [],
   "source": [
    "# save graph object to file\n",
    "pickle.dump(G, open('grafo_finale.pickle', 'wb'))"
   ]
  },
  {
   "cell_type": "code",
   "execution_count": 22,
   "id": "9368a4fa-1bb4-45e5-ac5c-f4e405ae40d5",
   "metadata": {},
   "outputs": [],
   "source": [
    "G_raw = nx.Graph()\n",
    "for u, v in G.edges():\n",
    "  G_raw.add_edge(u,v)\n",
    "nx.write_gexf(G_raw,\"grafo_finale.gexf\")"
   ]
  },
  {
   "cell_type": "code",
   "execution_count": null,
   "id": "e587fe3d-1d51-49e1-90ed-a84ac643d57e",
   "metadata": {},
   "outputs": [],
   "source": []
  }
 ],
 "metadata": {
  "kernelspec": {
   "display_name": "Python 3 (ipykernel)",
   "language": "python",
   "name": "python3"
  },
  "language_info": {
   "codemirror_mode": {
    "name": "ipython",
    "version": 3
   },
   "file_extension": ".py",
   "mimetype": "text/x-python",
   "name": "python",
   "nbconvert_exporter": "python",
   "pygments_lexer": "ipython3",
   "version": "3.11.7"
  }
 },
 "nbformat": 4,
 "nbformat_minor": 5
}
