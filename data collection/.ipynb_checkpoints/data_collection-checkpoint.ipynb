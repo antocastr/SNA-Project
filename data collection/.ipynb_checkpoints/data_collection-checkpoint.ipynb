{
 "cells": [
  {
   "cell_type": "code",
   "execution_count": 1,
   "id": "7d338a6e",
   "metadata": {},
   "outputs": [
    {
     "name": "stdout",
     "output_type": "stream",
     "text": [
      "Requirement already satisfied: spotipy in c:\\users\\acast\\anaconda3\\lib\\site-packages (2.25.1)\n",
      "Requirement already satisfied: redis>=3.5.3 in c:\\users\\acast\\anaconda3\\lib\\site-packages (from spotipy) (6.4.0)\n",
      "Requirement already satisfied: requests>=2.25.0 in c:\\users\\acast\\anaconda3\\lib\\site-packages (from spotipy) (2.31.0)\n",
      "Requirement already satisfied: urllib3>=1.26.0 in c:\\users\\acast\\anaconda3\\lib\\site-packages (from spotipy) (2.0.7)\n",
      "Requirement already satisfied: charset-normalizer<4,>=2 in c:\\users\\acast\\anaconda3\\lib\\site-packages (from requests>=2.25.0->spotipy) (2.0.4)\n",
      "Requirement already satisfied: idna<4,>=2.5 in c:\\users\\acast\\anaconda3\\lib\\site-packages (from requests>=2.25.0->spotipy) (3.4)\n",
      "Requirement already satisfied: certifi>=2017.4.17 in c:\\users\\acast\\anaconda3\\lib\\site-packages (from requests>=2.25.0->spotipy) (2024.2.2)\n"
     ]
    }
   ],
   "source": [
    "#install required API spotify library\n",
    "!pip install spotipy"
   ]
  },
  {
   "cell_type": "code",
   "execution_count": 1,
   "id": "f5f596ab-e4a8-4712-a585-9bf47909f96f",
   "metadata": {},
   "outputs": [],
   "source": [
    "import spotipy\n",
    "import numpy as np\n",
    "import networkx as nx\n",
    "import matplotlib.pyplot as plt\n",
    "import pickle"
   ]
  },
  {
   "cell_type": "code",
   "execution_count": 2,
   "id": "419c309d-724e-4d18-abb2-7ea30f90bdba",
   "metadata": {},
   "outputs": [],
   "source": [
    "client_id = '1deb8af0ef8f4ef38a0000a5039c146a'\n",
    "client_secret = 'af6f61a89dac4a1c98dff51a6a45413f'"
   ]
  },
  {
   "cell_type": "code",
   "execution_count": 3,
   "id": "87cfaab0-49ec-4c76-ac9a-cb76e0ab0299",
   "metadata": {},
   "outputs": [],
   "source": [
    "from spotipy.oauth2 import SpotifyClientCredentials"
   ]
  },
  {
   "cell_type": "code",
   "execution_count": 4,
   "id": "d99f81bb-13ff-482c-bd89-7decd462b325",
   "metadata": {},
   "outputs": [],
   "source": [
    "credmanager = SpotifyClientCredentials(client_id=client_id, client_secret=client_secret)\n",
    "sp = spotipy.Spotify(\n",
    "    client_credentials_manager=credmanager,\n",
    "    requests_timeout=20  # secondi\n",
    ")"
   ]
  },
  {
   "cell_type": "code",
   "execution_count": 5,
   "id": "4cc215f2-2b5d-4601-916b-84e4606b1131",
   "metadata": {},
   "outputs": [],
   "source": [
    "def artist_features(spotify_search_result):\n",
    "    result = {\n",
    "        'artist_name': spotify_search_result.get('name', 'artist_name_not_available'),\n",
    "        'artist_id': spotify_search_result.get('id', 'artist_id_not_available'),\n",
    "        'artist_popularity': spotify_search_result.get('popularity', 0),\n",
    "        'artist_first_genre': (spotify_search_result.get('genres', ['genre_not_available']) + ['genre_not_available'])[0],\n",
    "        'artist_n_followers': spotify_search_result.get('followers', {}).get('total', 0),\n",
    "    }\n",
    "    return result"
   ]
  },
  {
   "cell_type": "code",
   "execution_count": 6,
   "id": "d2a5de14-b442-4358-9e5b-20a1987bb007",
   "metadata": {},
   "outputs": [],
   "source": [
    "drake_search = sp.search('Drake', type='artist')['artists']['items'][0]"
   ]
  },
  {
   "cell_type": "code",
   "execution_count": 7,
   "id": "35b51112-eba6-4593-ac99-8bb9fb346f2a",
   "metadata": {},
   "outputs": [
    {
     "data": {
      "text/plain": [
       "{'artist_name': 'Drake',\n",
       " 'artist_id': '3TVXtAsR1Inumwj472S9r4',\n",
       " 'artist_popularity': 99,\n",
       " 'artist_first_genre': 'rap',\n",
       " 'artist_n_followers': 100970883}"
      ]
     },
     "execution_count": 7,
     "metadata": {},
     "output_type": "execute_result"
    }
   ],
   "source": [
    "drake_features = artist_features(drake_search)\n",
    "drake_features"
   ]
  },
  {
   "cell_type": "code",
   "execution_count": 8,
   "id": "0db41824-4924-4109-9e97-5e2d3704c117",
   "metadata": {},
   "outputs": [],
   "source": [
    "from bs4 import BeautifulSoup\n",
    "import urllib.request"
   ]
  },
  {
   "cell_type": "code",
   "execution_count": 9,
   "id": "1e8a2639-18c5-4eb8-837c-2903d8c0dea6",
   "metadata": {},
   "outputs": [],
   "source": [
    "#use as reference https://kworb.net/spotify/artists.html to find the top 3000 top stremed artists\n",
    "fp = urllib.request.urlopen(\"https://kworb.net/spotify/artists.html\")\n",
    "mybytes = fp.read()\n",
    "mystr = mybytes.decode(\"utf8\")\n",
    "fp.close()\n"
   ]
  },
  {
   "cell_type": "code",
   "execution_count": 10,
   "id": "0bc73f1f-b18e-4aea-8a08-38effe84d674",
   "metadata": {},
   "outputs": [],
   "source": [
    "def remove_bound(string):\n",
    "  string = str(string)\n",
    "  string = string.split('>')[1]\n",
    "  string = string.split('<')[0]\n",
    "  return string"
   ]
  },
  {
   "cell_type": "code",
   "execution_count": 11,
   "id": "f075b25c-8820-46ee-97e8-d8543687f97e",
   "metadata": {},
   "outputs": [
    {
     "name": "stdout",
     "output_type": "stream",
     "text": [
      "Artisti trovati: 3000\n",
      "Primi 10: ['Drake', 'Taylor Swift', 'Bad Bunny', 'The Weeknd', 'Justin Bieber', 'Ed Sheeran', 'Ariana Grande', 'Travis Scott', 'Eminem', 'Kanye West']\n"
     ]
    }
   ],
   "source": [
    "from bs4 import BeautifulSoup\n",
    "\n",
    "soup = BeautifulSoup(mystr, 'html.parser')\n",
    "artists_html = soup.find_all('a')\n",
    "artist_names = [remove_bound(a) for a in artists_html][14:]  # escludi intestazioni e link inutili\n",
    "artist_names = [name.replace('&amp;', '&') for name in artist_names]  # decode HTML entity\n",
    "\n",
    "print(f\"Artisti trovati: {len(artist_names)}\")\n",
    "print(\"Primi 10:\", artist_names[:10])"
   ]
  },
  {
   "cell_type": "code",
   "execution_count": 12,
   "id": "b43072a9-51fa-421f-bb93-38be6d709c72",
   "metadata": {},
   "outputs": [
    {
     "data": {
      "text/plain": [
       "(3000,\n",
       " ['Drake',\n",
       "  'Taylor Swift',\n",
       "  'Bad Bunny',\n",
       "  'The Weeknd',\n",
       "  'Justin Bieber',\n",
       "  'Ed Sheeran',\n",
       "  'Ariana Grande',\n",
       "  'Travis Scott',\n",
       "  'Eminem',\n",
       "  'Kanye West'])"
      ]
     },
     "execution_count": 12,
     "metadata": {},
     "output_type": "execute_result"
    }
   ],
   "source": [
    "(len(artist_names), artist_names[:10])"
   ]
  },
  {
   "cell_type": "code",
   "execution_count": 13,
   "id": "dabb0361-7dac-44c4-af93-a96bfd376e1e",
   "metadata": {},
   "outputs": [
    {
     "name": "stdout",
     "output_type": "stream",
     "text": [
      "There are 3000 artists in the initial list.\n"
     ]
    }
   ],
   "source": [
    "artists_name_list = artist_names\n",
    "print('There are', len(artists_name_list), 'artists in the initial list.')"
   ]
  },
  {
   "cell_type": "code",
   "execution_count": 14,
   "id": "b1bb285a-a123-46bf-a19a-cb62c5c1a61b",
   "metadata": {},
   "outputs": [],
   "source": [
    "#we set a popularity_threshold for the artists to add in the graph in order to avoid too \"noisy\" elements (artists with very small population/relevance)\n",
    "popularity_threshold = 20"
   ]
  },
  {
   "cell_type": "code",
   "execution_count": 15,
   "id": "b1b37d70-e990-48d0-9b61-c056035a9e12",
   "metadata": {},
   "outputs": [],
   "source": [
    "G = nx.Graph()"
   ]
  },
  {
   "cell_type": "code",
   "execution_count": 16,
   "id": "8f2892e8-9ff6-49c2-bbb5-314b45b38bbb",
   "metadata": {},
   "outputs": [],
   "source": [
    "def get_collaborators(artist_id, max_albums=5):\n",
    "    \"\"\"\n",
    "    Restituisce una lista di collaboratori (altri artisti) che hanno lavorato\n",
    "    con l'artista specificato, basandosi sui brani dei suoi album/singoli.\n",
    "\n",
    "    Parameters:\n",
    "        artist_id (str): ID Spotify dell'artista principale\n",
    "        max_albums (int): Numero massimo di album da esplorare (default: 5)\n",
    "\n",
    "    Returns:\n",
    "        List[Tuple[str, str]]: Lista di tuple (id, nome) dei collaboratori\n",
    "    \"\"\"\n",
    "    collaborators = set()\n",
    "    try:\n",
    "        albums = sp.artist_albums(artist_id, include_groups='album,single', limit=max_albums)['items']\n",
    "        for album in albums:\n",
    "            tracks = sp.album_tracks(album['id'])['items']\n",
    "            for track in tracks:\n",
    "                for artist in track['artists']:\n",
    "                    if artist['id'] != artist_id:\n",
    "                        collaborators.add((artist['id'], artist['name']))\n",
    "    except Exception as e:\n",
    "        print(f\"Errore nel recupero collaboratori per {artist_id}: {e}\")\n",
    "    return list(collaborators)"
   ]
  },
  {
   "cell_type": "code",
   "execution_count": 17,
   "id": "f9898329-d4cc-4a53-9bd4-5ae99e927932",
   "metadata": {},
   "outputs": [],
   "source": [
    "with open(\"grafo_parziale.pkl\", \"rb\") as f:\n",
    "    G = pickle.load(f)"
   ]
  },
  {
   "cell_type": "code",
   "execution_count": 18,
   "id": "b69cbf0c-c557-4012-8e3f-55c6b20ad571",
   "metadata": {},
   "outputs": [],
   "source": [
    "start_index = 2811  # o il numero che ricordi (es. 620, 640…)"
   ]
  },
  {
   "cell_type": "code",
   "execution_count": 19,
   "id": "71571446-5e10-457d-962d-d5992a1cd84e",
   "metadata": {},
   "outputs": [],
   "source": [
    "import time"
   ]
  },
  {
   "cell_type": "code",
   "execution_count": null,
   "id": "bfa7d6a2-57da-42e8-9061-be43e53ca1a1",
   "metadata": {},
   "outputs": [
    {
     "name": "stdout",
     "output_type": "stream",
     "text": [
      "[2812/3000] Analizzo artista: Academy of St. Martin in the Fields\n",
      "[2813/3000] Analizzo artista: Vengaboys\n",
      "[2814/3000] Analizzo artista: Charlie Wilson\n",
      "[2815/3000] Analizzo artista: Yura Yunita\n",
      "[2816/3000] Analizzo artista: Lali\n",
      "[2817/3000] Analizzo artista: Monica\n",
      "[2818/3000] Analizzo artista: Bresh\n",
      "[2819/3000] Analizzo artista: Hunter Hayes\n",
      "[2820/3000] Analizzo artista: Sujatha\n",
      "[2821/3000] Analizzo artista: Suki Waterhouse\n",
      "[2822/3000] Analizzo artista: Brian Eno\n",
      "[2823/3000] Analizzo artista: Los Panchos\n"
     ]
    },
    {
     "name": "stderr",
     "output_type": "stream",
     "text": [
      "WARNING:root:Your application has reached a rate/request limit. Retry will occur after: 14471\n"
     ]
    }
   ],
   "source": [
    "# Continua dal punto in cui eri rimasto\n",
    "for idx, name in enumerate(artists_name_list[start_index:], start=start_index):\n",
    "    print(f\"[{idx+1}/{len(artists_name_list)}] Analizzo artista: {name}\")\n",
    "    try:\n",
    "        search = sp.search(q=name, type='artist', limit=1)['artists']['items']\n",
    "        if not search:\n",
    "            continue\n",
    "        artist = search[0]\n",
    "        if artist['popularity'] < popularity_threshold:\n",
    "            continue\n",
    "\n",
    "        artist_data = artist_features(artist)\n",
    "        artist_id = artist_data['artist_id']\n",
    "\n",
    "        if artist_id in G:\n",
    "            continue  # Già elaborato\n",
    "\n",
    "        G.add_node(artist_id, **artist_data)\n",
    "\n",
    "        # Trova collaboratori\n",
    "        collaborators = get_collaborators(artist_id)\n",
    "        for collab_id, collab_name in collaborators:\n",
    "            if not G.has_node(collab_id):\n",
    "                try:\n",
    "                    collab_data = sp.artist(collab_id)\n",
    "                    collab_feat = artist_features(collab_data)\n",
    "                    if collab_feat['artist_popularity'] >= popularity_threshold:\n",
    "                        G.add_node(collab_id, **collab_feat)\n",
    "                except:\n",
    "                    continue\n",
    "            if G.has_node(collab_id):\n",
    "                G.add_edge(artist_id, collab_id)\n",
    "\n",
    "        # Salva ogni 10 artisti\n",
    "        if idx % 10 == 0:\n",
    "            with open(\"grafo_parziale.pkl\", \"wb\") as f:\n",
    "                pickle.dump(G, f)\n",
    "            print(f\"💾 Grafo salvato a {idx} nodi.\")\n",
    "\n",
    "        time.sleep(1)\n",
    "\n",
    "    except spotipy.exceptions.SpotifyException as se:\n",
    "        if se.http_status == 429:\n",
    "            retry_after = int(se.headers.get(\"Retry-After\", 60))\n",
    "            print(f\"⏳ Rate limit raggiunto. Attendo {retry_after} secondi...\")\n",
    "            time.sleep(retry_after + 5)\n",
    "            continue\n",
    "        else:\n",
    "            print(f\"Errore Spotify per {name}: {se}\")\n",
    "            continue\n",
    "\n",
    "    except Exception as e:\n",
    "        print(f\"Errore generico per {name}: {e}\")\n",
    "        continue\n",
    "\n",
    "# Salvataggio finale\n",
    "with open(\"grafo_finale.pkl\", \"wb\") as f:\n",
    "    pickle.dump(G, f)\n",
    "\n",
    "print(\"✅ Raccolta completata. Grafo salvato.\")"
   ]
  },
  {
   "cell_type": "code",
   "execution_count": null,
   "id": "ee43c300-51b3-4922-abc8-1653d9296bec",
   "metadata": {},
   "outputs": [],
   "source": [
    "#for each artist we save in an extra attribute called 'main_genre' the first element of the 'artist_first_genre' list associated with the node\n",
    "for node in G.nodes():\n",
    "  G.nodes[node]['main_genre'] = G.nodes[node]['artist_first_genre'][0]"
   ]
  },
  {
   "cell_type": "code",
   "execution_count": null,
   "id": "0d88ebc0-0441-4b57-8531-f91013533918",
   "metadata": {},
   "outputs": [],
   "source": [
    "# save graph object to file\n",
    "pickle.dump(G, open('artists_graph_20.pickle', 'wb'))"
   ]
  },
  {
   "cell_type": "code",
   "execution_count": null,
   "id": "9368a4fa-1bb4-45e5-ac5c-f4e405ae40d5",
   "metadata": {},
   "outputs": [],
   "source": [
    "G_raw = nx.Graph()\n",
    "for u, v in G.edges():\n",
    "  G_raw.add_edge(u,v)\n",
    "nx.write_gexf(G_raw,\"artists_graph.gexf\")"
   ]
  }
 ],
 "metadata": {
  "kernelspec": {
   "display_name": "Python 3 (ipykernel)",
   "language": "python",
   "name": "python3"
  },
  "language_info": {
   "codemirror_mode": {
    "name": "ipython",
    "version": 3
   },
   "file_extension": ".py",
   "mimetype": "text/x-python",
   "name": "python",
   "nbconvert_exporter": "python",
   "pygments_lexer": "ipython3",
   "version": "3.11.7"
  }
 },
 "nbformat": 4,
 "nbformat_minor": 5
}
