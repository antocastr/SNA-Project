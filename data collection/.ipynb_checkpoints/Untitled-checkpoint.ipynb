{
 "cells": [
  {
   "cell_type": "code",
   "execution_count": 1,
   "id": "99271520-b4bd-4b83-9a49-c67fe28b9247",
   "metadata": {},
   "outputs": [],
   "source": [
    "import spotipy\n",
    "import numpy as np\n",
    "import networkx as nx\n",
    "import matplotlib.pyplot as plt\n",
    "import pickle"
   ]
  },
  {
   "cell_type": "code",
   "execution_count": 2,
   "id": "f1b7f563-311f-4409-bca1-f3e2854b49d2",
   "metadata": {},
   "outputs": [],
   "source": [
    "client_id = '38913c78c0a14880b6bea949a078cd53'\n",
    "client_secret = '2d09deca815d44d7b8feb4f924f1e9bc'"
   ]
  },
  {
   "cell_type": "code",
   "execution_count": 3,
   "id": "f1fad9f5-eeb2-47d1-8daa-599f961fac55",
   "metadata": {},
   "outputs": [],
   "source": [
    "from spotipy.oauth2 import SpotifyClientCredentials"
   ]
  },
  {
   "cell_type": "code",
   "execution_count": 4,
   "id": "b8c93aa8-fbd3-492b-bd97-82cfd2dbe090",
   "metadata": {},
   "outputs": [],
   "source": [
    "credmanager = SpotifyClientCredentials(client_id=client_id, client_secret=client_secret)\n",
    "sp = spotipy.Spotify(\n",
    "    client_credentials_manager=credmanager,\n",
    "    requests_timeout=20  # secondi\n",
    ")"
   ]
  },
  {
   "cell_type": "code",
   "execution_count": 5,
   "id": "e94c4f6c-1d38-4dbd-8ce3-4d8c1b3d677b",
   "metadata": {},
   "outputs": [],
   "source": [
    "def artist_features(spotify_search_result):\n",
    "    result = {\n",
    "        'artist_name': spotify_search_result.get('name', 'artist_name_not_available'),\n",
    "        'artist_id': spotify_search_result.get('id', 'artist_id_not_available'),\n",
    "        'artist_popularity': spotify_search_result.get('popularity', 0),\n",
    "        'artist_first_genre': (spotify_search_result.get('genres', ['genre_not_available']) + ['genre_not_available'])[0],\n",
    "        'artist_n_followers': spotify_search_result.get('followers', {}).get('total', 0),\n",
    "    }\n",
    "    return result"
   ]
  },
  {
   "cell_type": "code",
   "execution_count": 6,
   "id": "fb0d3e12-b16a-4144-b234-8bddce9fd153",
   "metadata": {},
   "outputs": [],
   "source": [
    "drake_search = sp.search('Drake', type='artist')['artists']['items'][0]"
   ]
  },
  {
   "cell_type": "code",
   "execution_count": 7,
   "id": "3b1c3ba9-c07f-46af-8a7b-cc5c90329fc5",
   "metadata": {},
   "outputs": [
    {
     "data": {
      "text/plain": [
       "{'artist_name': 'Drake',\n",
       " 'artist_id': '3TVXtAsR1Inumwj472S9r4',\n",
       " 'artist_popularity': 99,\n",
       " 'artist_first_genre': 'rap',\n",
       " 'artist_n_followers': 101439447}"
      ]
     },
     "execution_count": 7,
     "metadata": {},
     "output_type": "execute_result"
    }
   ],
   "source": [
    "drake_features = artist_features(drake_search)\n",
    "drake_features"
   ]
  },
  {
   "cell_type": "code",
   "execution_count": 8,
   "id": "b8cfb079-74b7-4e77-8e9d-c416aa011f8b",
   "metadata": {},
   "outputs": [],
   "source": [
    "from bs4 import BeautifulSoup\n",
    "import urllib.request"
   ]
  },
  {
   "cell_type": "code",
   "execution_count": 9,
   "id": "d8104d47-5476-4536-9091-8fb75923dfac",
   "metadata": {},
   "outputs": [],
   "source": [
    "#use as reference https://kworb.net/spotify/artists.html to find the top 3000 top stremed artists\n",
    "fp = urllib.request.urlopen(\"https://kworb.net/spotify/artists.html\")\n",
    "mybytes = fp.read()\n",
    "mystr = mybytes.decode(\"utf8\")\n",
    "fp.close()\n"
   ]
  },
  {
   "cell_type": "code",
   "execution_count": 10,
   "id": "ece0098e-5158-4b0b-ba94-42b9335104db",
   "metadata": {},
   "outputs": [],
   "source": [
    "def remove_bound(string):\n",
    "  string = str(string)\n",
    "  string = string.split('>')[1]\n",
    "  string = string.split('<')[0]\n",
    "  return string"
   ]
  },
  {
   "cell_type": "code",
   "execution_count": 11,
   "id": "d14c4de6-2c01-4d23-9edb-ea10dd64cb9f",
   "metadata": {},
   "outputs": [
    {
     "name": "stdout",
     "output_type": "stream",
     "text": [
      "Artisti trovati: 3000\n",
      "Primi 10: ['Drake', 'Taylor Swift', 'Bad Bunny', 'The Weeknd', 'Justin Bieber', 'Ariana Grande', 'Eminem', 'Ed Sheeran', 'Travis Scott', 'Kanye West']\n"
     ]
    }
   ],
   "source": [
    "from bs4 import BeautifulSoup\n",
    "\n",
    "soup = BeautifulSoup(mystr, 'html.parser')\n",
    "artists_html = soup.find_all('a')\n",
    "artist_names = [remove_bound(a) for a in artists_html][14:]  # escludi intestazioni e link inutili\n",
    "artist_names = [name.replace('&amp;', '&') for name in artist_names]  # decode HTML entity\n",
    "\n",
    "print(f\"Artisti trovati: {len(artist_names)}\")\n",
    "print(\"Primi 10:\", artist_names[:10])"
   ]
  },
  {
   "cell_type": "code",
   "execution_count": 12,
   "id": "a66c46f3-9d0a-41e0-8be4-9b15462ff3b1",
   "metadata": {},
   "outputs": [
    {
     "data": {
      "text/plain": [
       "(3000,\n",
       " ['Drake',\n",
       "  'Taylor Swift',\n",
       "  'Bad Bunny',\n",
       "  'The Weeknd',\n",
       "  'Justin Bieber',\n",
       "  'Ariana Grande',\n",
       "  'Eminem',\n",
       "  'Ed Sheeran',\n",
       "  'Travis Scott',\n",
       "  'Kanye West'])"
      ]
     },
     "execution_count": 12,
     "metadata": {},
     "output_type": "execute_result"
    }
   ],
   "source": [
    "(len(artist_names), artist_names[:10])"
   ]
  },
  {
   "cell_type": "code",
   "execution_count": 13,
   "id": "b0e3d407-a32d-4859-ae38-f0c66c5469c1",
   "metadata": {},
   "outputs": [
    {
     "name": "stdout",
     "output_type": "stream",
     "text": [
      "There are 3000 artists in the initial list.\n"
     ]
    }
   ],
   "source": [
    "artists_name_list = artist_names\n",
    "print('There are', len(artists_name_list), 'artists in the initial list.')"
   ]
  },
  {
   "cell_type": "code",
   "execution_count": 14,
   "id": "e377ad9e-34c3-4321-8ea7-22358218237d",
   "metadata": {},
   "outputs": [],
   "source": [
    "#we set a popularity_threshold for the artists to add in the graph in order to avoid too \"noisy\" elements (artists with very small population/relevance)\n",
    "popularity_threshold = 20"
   ]
  },
  {
   "cell_type": "code",
   "execution_count": 15,
   "id": "3c97dcef-6d07-43af-a520-649f2eb61252",
   "metadata": {},
   "outputs": [],
   "source": [
    "G = nx.Graph()"
   ]
  },
  {
   "cell_type": "code",
   "execution_count": 16,
   "id": "395aa626-063c-45f3-9c91-bf3a7b4e9676",
   "metadata": {},
   "outputs": [],
   "source": [
    "from itertools import combinations\n",
    "\n",
    "def add_weighted_edges_from_artists(G, artist_ids, pairwise=True, anchor=None):\n",
    "    \"\"\"\n",
    "    Aggiunge/incrementa archi pesati in base alle co-presenze su UNA traccia.\n",
    "\n",
    "    - pairwise=True  -> collega TUTTE le coppie (grafo di co-autorship \"completo\" per la traccia)\n",
    "    - pairwise=False -> collega solo l'anchor con gli altri (stella centrata su 'anchor')\n",
    "\n",
    "    anchor: id artista centrale (se pairwise=False). Se None e pairwise=False, non fa nulla.\n",
    "    \"\"\"\n",
    "    # togli duplicati intra-traccia\n",
    "    ids = list(dict.fromkeys(artist_ids))\n",
    "    if len(ids) < 2:\n",
    "        return\n",
    "\n",
    "    if pairwise:\n",
    "        pairs = combinations(sorted(ids), 2)\n",
    "    else:\n",
    "        if not anchor or anchor not in ids:\n",
    "            return\n",
    "        pairs = ((anchor, b) for b in ids if b != anchor)\n",
    "\n",
    "    for u, v in pairs:\n",
    "        if G.has_edge(u, v):\n",
    "            G[u][v]['weight'] = G[u][v].get('weight', 1) + 1\n",
    "        else:\n",
    "            G.add_edge(u, v, weight=1)"
   ]
  },
  {
   "cell_type": "code",
   "execution_count": 17,
   "id": "590653b2-a2d8-4e4d-b7f2-52f2ad9240df",
   "metadata": {},
   "outputs": [],
   "source": [
    "from collections import Counter\n",
    "\n",
    "def get_collaborators(artist_id, max_albums=5):\n",
    "    \"\"\"\n",
    "    Ritorna un Counter: collab_id -> #collaborazioni con artist_id\n",
    "    Conta una collaborazione ogni volta che artist_id e collab_id co-compaiono\n",
    "    tra gli 'artists' della stessa traccia.\n",
    "    \"\"\"\n",
    "    counts = Counter()\n",
    "    seen_album_ids = set()\n",
    "    got = 0\n",
    "\n",
    "    # Considera album, singoli e (opzionale) apparizioni\n",
    "    album_types = [\"album\", \"single\", \"appears_on\"]\n",
    "\n",
    "    for a_type in album_types:\n",
    "        offset = 0\n",
    "        while True:\n",
    "            res = sp.artist_albums(artist_id=artist_id, album_type=a_type, limit=50, offset=offset)\n",
    "            items = res.get(\"items\", [])\n",
    "            if not items:\n",
    "                break\n",
    "\n",
    "            for album in items:\n",
    "                aid = album.get(\"id\")\n",
    "                if not aid or aid in seen_album_ids:\n",
    "                    continue\n",
    "                seen_album_ids.add(aid)\n",
    "\n",
    "                got += 1\n",
    "                if max_albums is not None and got > max_albums:\n",
    "                    break\n",
    "\n",
    "                # scorro le tracce\n",
    "                tr_off = 0\n",
    "                while True:\n",
    "                    tr_res = sp.album_tracks(album_id=aid, limit=50, offset=tr_off)\n",
    "                    tracks = tr_res.get(\"items\", [])\n",
    "                    if not tracks:\n",
    "                        break\n",
    "\n",
    "                    for tr in tracks:\n",
    "                        tr_artists = [a.get(\"id\") for a in tr.get(\"artists\", []) if a.get(\"id\")]\n",
    "                        if artist_id in tr_artists:\n",
    "                            for cid in tr_artists:\n",
    "                                if cid and cid != artist_id:\n",
    "                                    counts[cid] += 1\n",
    "\n",
    "                    tr_off += 50\n",
    "\n",
    "            if (max_albums is not None and got > max_albums) or len(items) < 50:\n",
    "                break\n",
    "            offset += 50\n",
    "\n",
    "    return counts\n"
   ]
  },
  {
   "cell_type": "code",
   "execution_count": 18,
   "id": "7062d719-03a6-464f-85c6-1a9768eb6f6e",
   "metadata": {},
   "outputs": [],
   "source": [
    "with open(\"grafo_parziale.pkl\", \"rb\") as f:\n",
    "    G = pickle.load(f)"
   ]
  },
  {
   "cell_type": "code",
   "execution_count": 19,
   "id": "fa1b3825-40a9-4166-a8b0-896361968d7a",
   "metadata": {},
   "outputs": [],
   "source": [
    "start_index = 2751  # o il numero che ricordi (es. 620, 640…)"
   ]
  },
  {
   "cell_type": "code",
   "execution_count": 20,
   "id": "f6b9e71d-00dd-42f5-9559-25a02342f235",
   "metadata": {},
   "outputs": [],
   "source": [
    "import time"
   ]
  },
  {
   "cell_type": "code",
   "execution_count": null,
   "id": "79bbe636-c357-4d29-bfed-dd763571335c",
   "metadata": {},
   "outputs": [
    {
     "name": "stdout",
     "output_type": "stream",
     "text": [
      "[2392/3000] Analizzo artista: Damas Gratis\n",
      "[2393/3000] Analizzo artista: Vicentico\n",
      "[2394/3000] Analizzo artista: Mandy Moore\n",
      "[2395/3000] Analizzo artista: Chris MC\n",
      "[2396/3000] Analizzo artista: Bishop Briggs\n",
      "[2397/3000] Analizzo artista: TREASURE\n",
      "[2398/3000] Analizzo artista: Frank Miami\n",
      "[2399/3000] Analizzo artista: Corinne Bailey Rae\n",
      "[2400/3000] Analizzo artista: Tom Rosenthal\n",
      "[2401/3000] Analizzo artista: SiR\n",
      "[2402/3000] Analizzo artista: KeBlack\n",
      "[2403/3000] Analizzo artista: Chet Baker\n",
      "[2404/3000] Analizzo artista: R. D. Burman\n",
      "[2405/3000] Analizzo artista: Szpaku\n",
      "[2406/3000] Analizzo artista: Jeet Gannguli\n",
      "[2407/3000] Analizzo artista: Olexesh\n",
      "[2408/3000] Analizzo artista: Maelo Ruiz\n",
      "[2409/3000] Analizzo artista: Jay Park\n",
      "[2410/3000] Analizzo artista: Herencia de Patrones\n",
      "[2411/3000] Analizzo artista: Dhruv\n",
      "💾 Grafo salvato a 2410 nodi.\n",
      "[2412/3000] Analizzo artista: Kailash Kher\n",
      "[2413/3000] Analizzo artista: DJ Scheme\n",
      "[2414/3000] Analizzo artista: SUGA\n",
      "[2415/3000] Analizzo artista: Franglish\n",
      "[2416/3000] Analizzo artista: A R I Z O N A\n",
      "[2417/3000] Analizzo artista: The Magician\n",
      "[2418/3000] Analizzo artista: ATB\n",
      "[2419/3000] Analizzo artista: TheFatRat\n",
      "[2420/3000] Analizzo artista: Sefo\n",
      "[2421/3000] Analizzo artista: Pol Granch\n",
      "💾 Grafo salvato a 2420 nodi.\n",
      "[2422/3000] Analizzo artista: Madcon\n",
      "[2423/3000] Analizzo artista: BANKS\n",
      "[2424/3000] Analizzo artista: Raça Negra\n",
      "[2425/3000] Analizzo artista: Leony\n",
      "[2426/3000] Analizzo artista: Hopsin\n",
      "[2427/3000] Analizzo artista: Silvio Rodríguez\n",
      "[2428/3000] Analizzo artista: Super Yei\n",
      "[2429/3000] Analizzo artista: Soprano\n",
      "[2430/3000] Analizzo artista: BIN\n",
      "[2431/3000] Analizzo artista: Halestorm\n",
      "💾 Grafo salvato a 2430 nodi.\n",
      "[2432/3000] Analizzo artista: Kid Yugi\n",
      "[2433/3000] Analizzo artista: Hillsong Young & Free\n",
      "[2434/3000] Analizzo artista: Bill Evans\n",
      "[2435/3000] Analizzo artista: Big Time Rush\n",
      "[2436/3000] Analizzo artista: Kelis\n",
      "[2437/3000] Analizzo artista: Sam Barber\n",
      "[2438/3000] Analizzo artista: Omarion\n",
      "[2439/3000] Analizzo artista: Marcos & Belutti\n",
      "[2440/3000] Analizzo artista: Bladee\n",
      "[2441/3000] Analizzo artista: Frah Quintale\n",
      "[2442/3000] Analizzo artista: Zoe Wees\n",
      "[2443/3000] Analizzo artista: Cookin' On 3 Burners\n",
      "[2444/3000] Analizzo artista: Jaideep Sahni\n",
      "[2445/3000] Analizzo artista: Chandler Moore\n",
      "[2446/3000] Analizzo artista: Donna Summer\n",
      "[2447/3000] Analizzo artista: Toni Braxton\n",
      "[2448/3000] Analizzo artista: Edward Maya\n",
      "[2449/3000] Analizzo artista: Slim Jxmmi\n",
      "[2450/3000] Analizzo artista: Too $hort\n",
      "[2451/3000] Analizzo artista: Dropkick Murphys\n",
      "💾 Grafo salvato a 2450 nodi.\n",
      "[2452/3000] Analizzo artista: Kenny G\n",
      "[2453/3000] Analizzo artista: Dom Dolla\n",
      "[2454/3000] Analizzo artista: Blackstreet\n",
      "[2455/3000] Analizzo artista: Ólafur Arnalds\n",
      "[2456/3000] Analizzo artista: Sevn Alias\n",
      "[2457/3000] Analizzo artista: Håkan Hellström\n",
      "[2458/3000] Analizzo artista: AgroPlay\n",
      "[2459/3000] Analizzo artista: Gazzelle\n",
      "[2460/3000] Analizzo artista: Clinton Kane\n",
      "[2461/3000] Analizzo artista: Kevin\n",
      "💾 Grafo salvato a 2460 nodi.\n",
      "[2462/3000] Analizzo artista: Jordin Sparks\n",
      "[2463/3000] Analizzo artista: Los Angeles De Charly\n",
      "[2464/3000] Analizzo artista: Luther Vandross\n",
      "[2465/3000] Analizzo artista: Nina Chuba\n",
      "[2466/3000] Analizzo artista: Nick Cave & The Bad Seeds\n",
      "[2467/3000] Analizzo artista: Clams Casino\n",
      "[2468/3000] Analizzo artista: Matt Maltese\n",
      "[2469/3000] Analizzo artista: Claptone\n",
      "[2470/3000] Analizzo artista: NCT U\n",
      "[2471/3000] Analizzo artista: Parson James\n",
      "[2472/3000] Analizzo artista: Joy Division\n",
      "[2473/3000] Analizzo artista: BABYMETAL\n",
      "[2474/3000] Analizzo artista: Emir Can İğrek\n",
      "[2475/3000] Analizzo artista: PSY\n",
      "[2476/3000] Analizzo artista: Kizzy\n",
      "[2477/3000] Analizzo artista: Chase Rice\n",
      "[2478/3000] Analizzo artista: El Bebeto\n",
      "[2479/3000] Analizzo artista: Nightcrawlers\n",
      "[2480/3000] Analizzo artista: Los Bunkers\n",
      "[2481/3000] Analizzo artista: KITSCHKRIEG\n",
      "💾 Grafo salvato a 2480 nodi.\n",
      "[2482/3000] Analizzo artista: Vanessa Carlton\n",
      "[2483/3000] Analizzo artista: ERNEST\n",
      "[2484/3000] Analizzo artista: Jonathan Groff\n",
      "[2485/3000] Analizzo artista: TJ Monterde\n",
      "[2486/3000] Analizzo artista: William Singe\n",
      "[2487/3000] Analizzo artista: Grupo Arriesgado\n",
      "[2488/3000] Analizzo artista: Liberación\n",
      "[2489/3000] Analizzo artista: Silent Sanctuary\n",
      "[2490/3000] Analizzo artista: Diego Torres\n",
      "[2491/3000] Analizzo artista: Manuel Carrasco\n",
      "💾 Grafo salvato a 2490 nodi.\n",
      "[2492/3000] Analizzo artista: Eason Chan\n",
      "[2493/3000] Analizzo artista: Eric Prydz\n",
      "[2494/3000] Analizzo artista: EST Gee\n",
      "[2495/3000] Analizzo artista: for KING & COUNTRY\n",
      "[2496/3000] Analizzo artista: G-Unit\n",
      "[2497/3000] Analizzo artista: Kool Savas\n",
      "[2498/3000] Analizzo artista: Young Buck\n",
      "[2499/3000] Analizzo artista: Frankie Valli\n",
      "[2500/3000] Analizzo artista: El Canto Del Loco\n",
      "[2501/3000] Analizzo artista: Pixote\n",
      "[2502/3000] Analizzo artista: Lil Xan\n",
      "[2503/3000] Analizzo artista: Seal\n",
      "[2504/3000] Analizzo artista: Sameer Anjaan\n",
      "[2505/3000] Analizzo artista: Raí Saia Rodada\n",
      "[2506/3000] Analizzo artista: Barbra Streisand\n",
      "[2507/3000] Analizzo artista: CamelPhat\n",
      "[2508/3000] Analizzo artista: Brandi Carlile\n",
      "[2509/3000] Analizzo artista: Takagi & Ketra\n",
      "[2510/3000] Analizzo artista: Gminxr\n",
      "[2511/3000] Analizzo artista: Ximena Sariñana\n",
      "[2512/3000] Analizzo artista: 01099\n",
      "[2513/3000] Analizzo artista: James Newton Howard\n",
      "[2514/3000] Analizzo artista: Allman Brothers Band\n",
      "[2515/3000] Analizzo artista: Jazeek\n",
      "[2516/3000] Analizzo artista: Shy Glizzy\n",
      "[2517/3000] Analizzo artista: Juelz Santana\n",
      "[2518/3000] Analizzo artista: Lamb of God\n",
      "[2519/3000] Analizzo artista: Ken-Y\n",
      "[2520/3000] Analizzo artista: hey daisy\n",
      "[2521/3000] Analizzo artista: Broederliefde\n",
      "💾 Grafo salvato a 2520 nodi.\n",
      "[2522/3000] Analizzo artista: Rodney Atkins\n",
      "[2523/3000] Analizzo artista: Mohammed Rafi\n",
      "[2524/3000] Analizzo artista: Regina Spektor\n",
      "[2525/3000] Analizzo artista: The Shins\n",
      "[2526/3000] Analizzo artista: Emily Warren\n",
      "[2527/3000] Analizzo artista: Kizo\n",
      "[2528/3000] Analizzo artista: Zuna\n",
      "[2529/3000] Analizzo artista: Trettmann\n",
      "[2530/3000] Analizzo artista: Simge\n",
      "[2531/3000] Analizzo artista: Ina Wroldsen\n",
      "[2532/3000] Analizzo artista: Run The Jewels\n",
      "[2533/3000] Analizzo artista: King Princess\n",
      "[2534/3000] Analizzo artista: Mindless Self Indulgence\n",
      "[2535/3000] Analizzo artista: Naza\n",
      "[2536/3000] Analizzo artista: BNXN\n",
      "[2537/3000] Analizzo artista: Gorgon City\n",
      "[2538/3000] Analizzo artista: Plies\n",
      "[2539/3000] Analizzo artista: The Velvet Underground\n",
      "[2540/3000] Analizzo artista: Pradeep Kumar\n",
      "[2541/3000] Analizzo artista: Klingande\n",
      "💾 Grafo salvato a 2540 nodi.\n",
      "[2542/3000] Analizzo artista: Matt Simons\n",
      "[2543/3000] Analizzo artista: G-DRAGON\n",
      "[2544/3000] Analizzo artista: Zaz\n",
      "[2545/3000] Analizzo artista: Vicetone\n",
      "[2546/3000] Analizzo artista: BHZ\n",
      "[2547/3000] Analizzo artista: Whiskey Myers\n",
      "[2548/3000] Analizzo artista: Víctor Manuelle\n",
      "[2549/3000] Analizzo artista: TrapLaudo\n",
      "[2550/3000] Analizzo artista: Böhse Onkelz\n",
      "[2551/3000] Analizzo artista: Young Money\n",
      "💾 Grafo salvato a 2550 nodi.\n",
      "[2552/3000] Analizzo artista: Parcels\n",
      "[2553/3000] Analizzo artista: Hilltop Hoods\n",
      "[2554/3000] Analizzo artista: Kukon\n",
      "[2555/3000] Analizzo artista: Sam Martin\n",
      "[2556/3000] Analizzo artista: Four Tops\n",
      "[2557/3000] Analizzo artista: Alice Cooper\n",
      "[2558/3000] Analizzo artista: Night Skinny\n",
      "[2559/3000] Analizzo artista: Coyote Beatz\n",
      "[2560/3000] Analizzo artista: José Feliciano\n",
      "[2561/3000] Analizzo artista: Thomas Bergersen\n",
      "💾 Grafo salvato a 2560 nodi.\n",
      "[2562/3000] Analizzo artista: Dance Gavin Dance\n",
      "[2563/3000] Analizzo artista: Alabama\n",
      "[2564/3000] Analizzo artista: ILLIT\n",
      "[2565/3000] Analizzo artista: Vidyasagar\n",
      "[2566/3000] Analizzo artista: Elliott Smith\n",
      "[2567/3000] Analizzo artista: Vitão\n",
      "[2568/3000] Analizzo artista: Ele A El Dominio\n",
      "[2569/3000] Analizzo artista: Academy of St. Martin in the Fields\n",
      "[2570/3000] Analizzo artista: George Benson\n",
      "[2571/3000] Analizzo artista: Fredo\n",
      "💾 Grafo salvato a 2570 nodi.\n",
      "[2572/3000] Analizzo artista: Freeze corleone\n",
      "[2573/3000] Analizzo artista: Héctor Lavoe\n",
      "[2574/3000] Analizzo artista: Marc Seguí\n",
      "[2575/3000] Analizzo artista: Mahmood\n",
      "[2576/3000] Analizzo artista: Haftbefehl\n",
      "[2577/3000] Analizzo artista: Maher Zain\n",
      "[2578/3000] Analizzo artista: High School Musical Cast\n",
      "[2579/3000] Analizzo artista: Vanesa Martín\n",
      "[2580/3000] Analizzo artista: Dzeko\n",
      "[2581/3000] Analizzo artista: Haddaway\n",
      "💾 Grafo salvato a 2580 nodi.\n",
      "[2582/3000] Analizzo artista: GOT7\n",
      "[2583/3000] Analizzo artista: Brothers Osborne\n",
      "[2584/3000] Analizzo artista: Cuisillos De Arturo Macias\n",
      "[2585/3000] Analizzo artista: Mozzy\n",
      "[2586/3000] Analizzo artista: Swizz Beatz\n",
      "[2587/3000] Analizzo artista: Kizz Daniel\n",
      "[2588/3000] Analizzo artista: Don Henley\n",
      "[2589/3000] Analizzo artista: Chris Isaak\n",
      "[2590/3000] Analizzo artista: J-AX\n",
      "[2591/3000] Analizzo artista: Ennio Morricone\n",
      "💾 Grafo salvato a 2590 nodi.\n",
      "[2592/3000] Analizzo artista: salvia palth\n",
      "[2593/3000] Analizzo artista: Shenseea\n",
      "[2594/3000] Analizzo artista: Sadhana Sargam\n",
      "[2595/3000] Analizzo artista: CJ\n",
      "[2596/3000] Analizzo artista: NEIKED\n",
      "[2597/3000] Analizzo artista: Grupo Codiciado\n",
      "[2598/3000] Analizzo artista: Mr.Kitty\n",
      "[2599/3000] Analizzo artista: Shweta Mohan\n",
      "[2600/3000] Analizzo artista: Bagua Records\n",
      "[2601/3000] Analizzo artista: Ramon Ayala Y Sus Bravos Del Norte\n",
      "[2602/3000] Analizzo artista: La Factoria\n",
      "[2603/3000] Analizzo artista: Joey Montana\n",
      "[2604/3000] Analizzo artista: Adam Port\n",
      "[2605/3000] Analizzo artista: Cochise\n",
      "[2606/3000] Analizzo artista: Murda Beatz\n",
      "[2607/3000] Analizzo artista: Fenix Flexin\n",
      "[2608/3000] Analizzo artista: Parkway Drive\n",
      "[2609/3000] Analizzo artista: Marco Mengoni\n",
      "[2610/3000] Analizzo artista: Muni Long\n",
      "[2611/3000] Analizzo artista: Divya Kumar\n",
      "💾 Grafo salvato a 2610 nodi.\n",
      "[2612/3000] Analizzo artista: Andmesh\n",
      "[2613/3000] Analizzo artista: Dakota\n",
      "[2614/3000] Analizzo artista: Surf Mesa\n",
      "[2615/3000] Analizzo artista: Cast of EPIC: The Musical\n",
      "[2616/3000] Analizzo artista: Janis Joplin\n",
      "[2617/3000] Analizzo artista: Shirin David\n",
      "[2618/3000] Analizzo artista: SG Lewis\n",
      "[2619/3000] Analizzo artista: Deepend\n",
      "[2620/3000] Analizzo artista: Armandinho\n",
      "[2621/3000] Analizzo artista: Exaltasamba\n",
      "💾 Grafo salvato a 2620 nodi.\n",
      "[2622/3000] Analizzo artista: Mark Ambor\n",
      "[2623/3000] Analizzo artista: Sofiane\n",
      "[2624/3000] Analizzo artista: Stephen Schwartz\n",
      "[2625/3000] Analizzo artista: Andy Rivera\n",
      "[2626/3000] Analizzo artista: Wings\n",
      "[2627/3000] Analizzo artista: Don McLean\n",
      "[2628/3000] Analizzo artista: K/DA\n",
      "[2629/3000] Analizzo artista: Tony Boy\n",
      "[2630/3000] Analizzo artista: Yellowcard\n",
      "[2631/3000] Analizzo artista: Nate Smith\n",
      "[2632/3000] Analizzo artista: A-Trak\n",
      "[2633/3000] Analizzo artista: Banda Machos\n",
      "[2634/3000] Analizzo artista: Chimbala\n",
      "[2635/3000] Analizzo artista: ItaloBrothers\n",
      "[2636/3000] Analizzo artista: El Jordan 23\n",
      "[2637/3000] Analizzo artista: Lou Reed\n",
      "[2638/3000] Analizzo artista: LXNGVX\n",
      "[2639/3000] Analizzo artista: Cream\n",
      "[2640/3000] Analizzo artista: Andrew Lloyd Webber\n",
      "[2641/3000] Analizzo artista: Bootsy Collins\n",
      "[2642/3000] Analizzo artista: Yot Club\n",
      "[2643/3000] Analizzo artista: Giggs\n",
      "[2644/3000] Analizzo artista: Tom Jones\n",
      "[2645/3000] Analizzo artista: Gus Dapperton\n",
      "[2646/3000] Analizzo artista: Achille Lauro\n",
      "[2647/3000] Analizzo artista: Payung Teduh\n",
      "[2648/3000] Analizzo artista: Raekwon\n",
      "[2649/3000] Analizzo artista: Curren$y\n",
      "[2650/3000] Analizzo artista: Trivium\n",
      "[2651/3000] Analizzo artista: Eric Chou\n",
      "💾 Grafo salvato a 2650 nodi.\n",
      "[2652/3000] Analizzo artista: Big Thief\n",
      "[2653/3000] Analizzo artista: Del The Funky Homosapien\n",
      "[2654/3000] Analizzo artista: Action Bronson\n",
      "[2655/3000] Analizzo artista: Porter Robinson\n",
      "[2656/3000] Analizzo artista: Faith Hill\n",
      "[2657/3000] Analizzo artista: JoJo\n",
      "[2658/3000] Analizzo artista: Birdman\n",
      "[2659/3000] Analizzo artista: Randy Travis\n",
      "[2660/3000] Analizzo artista: Justice\n",
      "[2661/3000] Analizzo artista: Andrés Cepeda\n",
      "[2662/3000] Analizzo artista: Nathan Evans\n",
      "[2663/3000] Analizzo artista: Yung Bleu\n",
      "[2664/3000] Analizzo artista: Sujatha\n",
      "[2665/3000] Analizzo artista: Sturgill Simpson\n",
      "[2666/3000] Analizzo artista: Mc Delux\n",
      "[2667/3000] Analizzo artista: Miel San Marcos\n",
      "[2668/3000] Analizzo artista: Denny Caknan\n",
      "[2669/3000] Analizzo artista: Sertab Erener\n",
      "[2670/3000] Analizzo artista: Hivi!\n",
      "[2671/3000] Analizzo artista: Olivia Dean\n",
      "💾 Grafo salvato a 2670 nodi.\n",
      "[2672/3000] Analizzo artista: Passion Pit\n",
      "[2673/3000] Analizzo artista: Two Steps from Hell\n",
      "[2674/3000] Analizzo artista: Irene Cara\n",
      "[2675/3000] Analizzo artista: Iggy Pop\n",
      "[2676/3000] Analizzo artista: Enigma Norteño\n",
      "[2677/3000] Analizzo artista: Preme\n",
      "[2678/3000] Analizzo artista: Bugzy Malone\n",
      "[2679/3000] Analizzo artista: Engenheiros Do Hawaii\n",
      "[2680/3000] Analizzo artista: Lulu Santos\n",
      "[2681/3000] Analizzo artista: Architects\n",
      "💾 Grafo salvato a 2680 nodi.\n",
      "[2682/3000] Analizzo artista: Aphex Twin\n",
      "[2683/3000] Analizzo artista: Rico Nasty\n",
      "[2684/3000] Analizzo artista: Eliza Doolittle\n",
      "[2685/3000] Analizzo artista: Isadora Pompeo\n",
      "[2686/3000] Analizzo artista: iZaak\n",
      "[2687/3000] Analizzo artista: Common\n",
      "[2688/3000] Analizzo artista: Neoni\n",
      "[2689/3000] Analizzo artista: Vanessa Da Mata\n",
      "[2690/3000] Analizzo artista: Ginuwine\n",
      "[2691/3000] Analizzo artista: Lucky Daye\n",
      "[2692/3000] Analizzo artista: Perry Como\n",
      "[2693/3000] Analizzo artista: Noyz Narcos\n",
      "[2694/3000] Analizzo artista: Kip Moore\n",
      "[2695/3000] Analizzo artista: HUNTR/X\n",
      "[2696/3000] Analizzo artista: Einár\n",
      "[2697/3000] Analizzo artista: João Bosco & Vinícius\n",
      "[2698/3000] Analizzo artista: Marcela Gandara\n",
      "[2699/3000] Analizzo artista: Misfits\n",
      "[2700/3000] Analizzo artista: Blue Öyster Cult\n",
      "[2701/3000] Analizzo artista: BJ The Chicago Kid\n",
      "[2702/3000] Analizzo artista: The Lonely Island\n",
      "[2703/3000] Analizzo artista: LL COOL J\n",
      "[2704/3000] Analizzo artista: Crush\n",
      "[2705/3000] Analizzo artista: Annalisa\n",
      "[2706/3000] Analizzo artista: Artie 5ive\n",
      "[2707/3000] Analizzo artista: Guyon Waton\n",
      "[2708/3000] Analizzo artista: Fatboy Slim\n",
      "[2709/3000] Analizzo artista: Adam Lambert\n",
      "[2710/3000] Analizzo artista: Luciano Pavarotti\n",
      "[2711/3000] Analizzo artista: Jeremy Soule\n"
     ]
    },
    {
     "name": "stderr",
     "output_type": "stream",
     "text": [
      "WARNING:root:Your application has reached a rate/request limit. Retry will occur after: 2\n",
      "WARNING:root:Your application has reached a rate/request limit. Retry will occur after: 1\n"
     ]
    },
    {
     "name": "stdout",
     "output_type": "stream",
     "text": [
      "💾 Grafo salvato a 2710 nodi.\n",
      "[2712/3000] Analizzo artista: Ari Lennox\n",
      "[2713/3000] Analizzo artista: Danny Elfman\n"
     ]
    },
    {
     "name": "stderr",
     "output_type": "stream",
     "text": [
      "WARNING:root:Your application has reached a rate/request limit. Retry will occur after: 2\n",
      "WARNING:root:Your application has reached a rate/request limit. Retry will occur after: 1\n"
     ]
    },
    {
     "name": "stdout",
     "output_type": "stream",
     "text": [
      "[2714/3000] Analizzo artista: El Trono de Mexico\n",
      "[2715/3000] Analizzo artista: A Perfect Circle\n"
     ]
    },
    {
     "name": "stderr",
     "output_type": "stream",
     "text": [
      "WARNING:root:Your application has reached a rate/request limit. Retry will occur after: 1\n",
      "WARNING:root:Your application has reached a rate/request limit. Retry will occur after: 1\n"
     ]
    },
    {
     "name": "stdout",
     "output_type": "stream",
     "text": [
      "[2716/3000] Analizzo artista: Hoodie Allen\n",
      "[2717/3000] Analizzo artista: Foxes\n"
     ]
    },
    {
     "name": "stderr",
     "output_type": "stream",
     "text": [
      "WARNING:root:Your application has reached a rate/request limit. Retry will occur after: 2\n"
     ]
    },
    {
     "name": "stdout",
     "output_type": "stream",
     "text": [
      "[2718/3000] Analizzo artista: Tai Verdes\n"
     ]
    },
    {
     "name": "stderr",
     "output_type": "stream",
     "text": [
      "WARNING:root:Your application has reached a rate/request limit. Retry will occur after: 1\n"
     ]
    },
    {
     "name": "stdout",
     "output_type": "stream",
     "text": [
      "[2719/3000] Analizzo artista: Ben Harper\n",
      "[2720/3000] Analizzo artista: Gurlez Akhtar\n",
      "[2721/3000] Analizzo artista: Naresh Iyer\n",
      "[2722/3000] Analizzo artista: Parov Stelar\n"
     ]
    },
    {
     "name": "stderr",
     "output_type": "stream",
     "text": [
      "WARNING:root:Your application has reached a rate/request limit. Retry will occur after: 1\n"
     ]
    },
    {
     "name": "stdout",
     "output_type": "stream",
     "text": [
      "[2723/3000] Analizzo artista: Sam Fischer\n",
      "[2724/3000] Analizzo artista: BM\n"
     ]
    },
    {
     "name": "stderr",
     "output_type": "stream",
     "text": [
      "WARNING:root:Your application has reached a rate/request limit. Retry will occur after: 3\n",
      "WARNING:root:Your application has reached a rate/request limit. Retry will occur after: 1\n"
     ]
    },
    {
     "name": "stdout",
     "output_type": "stream",
     "text": [
      "[2725/3000] Analizzo artista: Shaarib Toshi\n",
      "[2726/3000] Analizzo artista: 4 Non Blondes\n"
     ]
    },
    {
     "name": "stderr",
     "output_type": "stream",
     "text": [
      "WARNING:root:Your application has reached a rate/request limit. Retry will occur after: 3\n"
     ]
    },
    {
     "name": "stdout",
     "output_type": "stream",
     "text": [
      "[2727/3000] Analizzo artista: Dj Guuga\n",
      "[2728/3000] Analizzo artista: ACRAZE\n"
     ]
    },
    {
     "name": "stderr",
     "output_type": "stream",
     "text": [
      "WARNING:root:Your application has reached a rate/request limit. Retry will occur after: 4\n",
      "WARNING:root:Your application has reached a rate/request limit. Retry will occur after: 1\n"
     ]
    },
    {
     "name": "stdout",
     "output_type": "stream",
     "text": [
      "[2729/3000] Analizzo artista: Dizzee Rascal\n",
      "[2730/3000] Analizzo artista: Saint Motel\n",
      "[2731/3000] Analizzo artista: Landon Cube\n"
     ]
    },
    {
     "name": "stderr",
     "output_type": "stream",
     "text": [
      "WARNING:root:Your application has reached a rate/request limit. Retry will occur after: 2\n",
      "WARNING:root:Your application has reached a rate/request limit. Retry will occur after: 1\n"
     ]
    },
    {
     "name": "stdout",
     "output_type": "stream",
     "text": [
      "💾 Grafo salvato a 2730 nodi.\n",
      "[2732/3000] Analizzo artista: The Cinematic Orchestra\n"
     ]
    },
    {
     "name": "stderr",
     "output_type": "stream",
     "text": [
      "WARNING:root:Your application has reached a rate/request limit. Retry will occur after: 2\n",
      "WARNING:root:Your application has reached a rate/request limit. Retry will occur after: 1\n"
     ]
    },
    {
     "name": "stdout",
     "output_type": "stream",
     "text": [
      "[2733/3000] Analizzo artista: Teoman\n",
      "[2734/3000] Analizzo artista: Dubdogz\n"
     ]
    },
    {
     "name": "stderr",
     "output_type": "stream",
     "text": [
      "WARNING:root:Your application has reached a rate/request limit. Retry will occur after: 1\n",
      "WARNING:root:Your application has reached a rate/request limit. Retry will occur after: 1\n"
     ]
    },
    {
     "name": "stdout",
     "output_type": "stream",
     "text": [
      "[2735/3000] Analizzo artista: Elodie\n",
      "[2736/3000] Analizzo artista: KATSEYE\n"
     ]
    },
    {
     "name": "stderr",
     "output_type": "stream",
     "text": [
      "WARNING:root:Your application has reached a rate/request limit. Retry will occur after: 2\n"
     ]
    },
    {
     "name": "stdout",
     "output_type": "stream",
     "text": [
      "[2737/3000] Analizzo artista: Rebelution\n"
     ]
    },
    {
     "name": "stderr",
     "output_type": "stream",
     "text": [
      "WARNING:root:Your application has reached a rate/request limit. Retry will occur after: 1\n"
     ]
    },
    {
     "name": "stdout",
     "output_type": "stream",
     "text": [
      "[2738/3000] Analizzo artista: Leiva\n",
      "[2739/3000] Analizzo artista: Jazmine Sullivan\n"
     ]
    },
    {
     "name": "stderr",
     "output_type": "stream",
     "text": [
      "WARNING:root:Your application has reached a rate/request limit. Retry will occur after: 2\n",
      "WARNING:root:Your application has reached a rate/request limit. Retry will occur after: 1\n"
     ]
    },
    {
     "name": "stdout",
     "output_type": "stream",
     "text": [
      "[2740/3000] Analizzo artista: Mitchell Tenpenny\n",
      "[2741/3000] Analizzo artista: La T y La M\n",
      "[2742/3000] Analizzo artista: St. Vincent\n",
      "[2743/3000] Analizzo artista: Against The Current\n",
      "[2744/3000] Analizzo artista: Vybz Kartel\n",
      "[2745/3000] Analizzo artista: Young M.A\n"
     ]
    },
    {
     "name": "stderr",
     "output_type": "stream",
     "text": [
      "WARNING:root:Your application has reached a rate/request limit. Retry will occur after: 1\n",
      "WARNING:root:Your application has reached a rate/request limit. Retry will occur after: 1\n"
     ]
    },
    {
     "name": "stdout",
     "output_type": "stream",
     "text": [
      "[2746/3000] Analizzo artista: Pia Mia\n",
      "[2747/3000] Analizzo artista: José Alfredo Jimenez\n",
      "[2748/3000] Analizzo artista: HIRAIDAI\n"
     ]
    },
    {
     "name": "stderr",
     "output_type": "stream",
     "text": [
      "WARNING:root:Your application has reached a rate/request limit. Retry will occur after: 1\n",
      "WARNING:root:Your application has reached a rate/request limit. Retry will occur after: 1\n"
     ]
    },
    {
     "name": "stdout",
     "output_type": "stream",
     "text": [
      "[2749/3000] Analizzo artista: Laylow\n",
      "[2750/3000] Analizzo artista: Serdar Ortaç\n",
      "[2751/3000] Analizzo artista: Harrdy Sandhu\n"
     ]
    },
    {
     "name": "stderr",
     "output_type": "stream",
     "text": [
      "WARNING:root:Your application has reached a rate/request limit. Retry will occur after: 1\n",
      "WARNING:root:Your application has reached a rate/request limit. Retry will occur after: 1\n"
     ]
    },
    {
     "name": "stdout",
     "output_type": "stream",
     "text": [
      "💾 Grafo salvato a 2750 nodi.\n",
      "[2752/3000] Analizzo artista: FAST BOY\n",
      "[2753/3000] Analizzo artista: Timbiriche\n"
     ]
    },
    {
     "name": "stderr",
     "output_type": "stream",
     "text": [
      "WARNING:root:Your application has reached a rate/request limit. Retry will occur after: 2\n",
      "WARNING:root:Your application has reached a rate/request limit. Retry will occur after: 1\n"
     ]
    },
    {
     "name": "stdout",
     "output_type": "stream",
     "text": [
      "[2754/3000] Analizzo artista: Wolfine\n",
      "[2755/3000] Analizzo artista: Rizky Febian\n"
     ]
    },
    {
     "name": "stderr",
     "output_type": "stream",
     "text": [
      "WARNING:root:Your application has reached a rate/request limit. Retry will occur after: 1\n",
      "WARNING:root:Your application has reached a rate/request limit. Retry will occur after: 1\n"
     ]
    },
    {
     "name": "stdout",
     "output_type": "stream",
     "text": [
      "[2756/3000] Analizzo artista: Loredana\n",
      "[2757/3000] Analizzo artista: Sawano Hiroyuki\n"
     ]
    },
    {
     "name": "stderr",
     "output_type": "stream",
     "text": [
      "WARNING:root:Your application has reached a rate/request limit. Retry will occur after: 3\n"
     ]
    },
    {
     "name": "stdout",
     "output_type": "stream",
     "text": [
      "[2758/3000] Analizzo artista: Veysel\n",
      "[2759/3000] Analizzo artista: Alabama Shakes\n",
      "[2760/3000] Analizzo artista: Marcos Witt\n",
      "[2761/3000] Analizzo artista: Hades66\n",
      "[2762/3000] Analizzo artista: Tash Sultana\n",
      "[2763/3000] Analizzo artista: Paky\n",
      "[2764/3000] Analizzo artista: Caloncho\n"
     ]
    },
    {
     "name": "stderr",
     "output_type": "stream",
     "text": [
      "WARNING:root:Your application has reached a rate/request limit. Retry will occur after: 2\n"
     ]
    },
    {
     "name": "stdout",
     "output_type": "stream",
     "text": [
      "[2765/3000] Analizzo artista: Chaka Khan\n",
      "[2766/3000] Analizzo artista: Lil Jon & The East Side Boyz\n"
     ]
    },
    {
     "name": "stderr",
     "output_type": "stream",
     "text": [
      "WARNING:root:Your application has reached a rate/request limit. Retry will occur after: 3\n",
      "WARNING:root:Your application has reached a rate/request limit. Retry will occur after: 1\n"
     ]
    },
    {
     "name": "stdout",
     "output_type": "stream",
     "text": [
      "[2767/3000] Analizzo artista: Glenn Fredly\n"
     ]
    },
    {
     "name": "stderr",
     "output_type": "stream",
     "text": [
      "WARNING:root:Your application has reached a rate/request limit. Retry will occur after: 85430\n"
     ]
    }
   ],
   "source": [
    "# Continua dal punto in cui eri rimasto\n",
    "for idx, name in enumerate(artists_name_list[start_index:], start=start_index):\n",
    "    print(f\"[{idx+1}/{len(artists_name_list)}] Analizzo artista: {name}\")\n",
    "    try:\n",
    "        search = sp.search(q=name, type='artist', limit=1)['artists']['items']\n",
    "        if not search:\n",
    "            continue\n",
    "        artist = search[0]\n",
    "        if artist['popularity'] < popularity_threshold:\n",
    "            continue\n",
    "\n",
    "        artist_data = artist_features(artist)\n",
    "        artist_id = artist_data['artist_id']\n",
    "\n",
    "        if artist_id in G:\n",
    "            continue  # Già elaborato\n",
    "\n",
    "        G.add_node(artist_id, **artist_data)\n",
    "\n",
    "        # Trova collaboratori: Counter(collab_id -> count)\n",
    "        collab_counts = get_collaborators(artist_id)\n",
    "\n",
    "        for collab_id, count in collab_counts.items():\n",
    "            # crea nodo collab se manca (rispettando la soglia)\n",
    "            if not G.has_node(collab_id):\n",
    "                try:\n",
    "                    collab_data = sp.artist(collab_id)\n",
    "                    collab_feat = artist_features(collab_data)\n",
    "                    if collab_feat['artist_popularity'] >= popularity_threshold:\n",
    "                        G.add_node(collab_id, **collab_feat)\n",
    "                    else:\n",
    "                        continue  # sotto soglia → salto arco\n",
    "                except:\n",
    "                    continue\n",
    "\n",
    "            # aggiorna/incrementa il peso dell'arco\n",
    "            if G.has_edge(artist_id, collab_id):\n",
    "                G[artist_id][collab_id]['weight'] = G[artist_id][collab_id].get('weight', 0) + int(count)\n",
    "            else:\n",
    "                G.add_edge(artist_id, collab_id, weight=int(count))\n",
    "\n",
    "        # Salva ogni 10 artisti\n",
    "        if idx % 10 == 0:\n",
    "            with open(\"grafo_parziale.pkl\", \"wb\") as f:\n",
    "                pickle.dump(G, f)\n",
    "            print(f\"💾 Grafo salvato a {idx} nodi.\")\n",
    "\n",
    "        time.sleep(1)\n",
    "\n",
    "    except spotipy.exceptions.SpotifyException as se:\n",
    "        if se.http_status == 429:\n",
    "            retry_after = int(se.headers.get(\"Retry-After\", 60))\n",
    "            print(f\"⏳ Rate limit raggiunto. Attendo {retry_after} secondi...\")\n",
    "            time.sleep(retry_after + 5)\n",
    "            continue\n",
    "        else:\n",
    "            print(f\"Errore Spotify per {name}: {se}\")\n",
    "            continue\n",
    "\n",
    "    except Exception as e:\n",
    "        print(f\"Errore generico per {name}: {e}\")\n",
    "        continue\n",
    "\n",
    "# Salvataggio finale\n",
    "with open(\"grafo_finale_pesato.pkl\", \"wb\") as f:\n",
    "    pickle.dump(G, f)\n",
    "\n",
    "print(\"✅ Raccolta completata. Grafo salvato.\")\n"
   ]
  },
  {
   "cell_type": "code",
   "execution_count": null,
   "id": "d0ad8c11-e4e6-4b14-af6d-eafd9bdc331b",
   "metadata": {},
   "outputs": [],
   "source": []
  }
 ],
 "metadata": {
  "kernelspec": {
   "display_name": "Python 3 (ipykernel)",
   "language": "python",
   "name": "python3"
  },
  "language_info": {
   "codemirror_mode": {
    "name": "ipython",
    "version": 3
   },
   "file_extension": ".py",
   "mimetype": "text/x-python",
   "name": "python",
   "nbconvert_exporter": "python",
   "pygments_lexer": "ipython3",
   "version": "3.11.7"
  }
 },
 "nbformat": 4,
 "nbformat_minor": 5
}
