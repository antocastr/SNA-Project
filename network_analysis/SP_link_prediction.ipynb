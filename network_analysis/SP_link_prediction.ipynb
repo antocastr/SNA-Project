{
 "cells": [
  {
   "cell_type": "code",
   "execution_count": 1,
   "id": "d0f244ce-34df-453c-86e2-e2caf372f396",
   "metadata": {},
   "outputs": [
    {
     "name": "stdout",
     "output_type": "stream",
     "text": [
      "Python 3.11.7\n"
     ]
    }
   ],
   "source": [
    "!python --version "
   ]
  },
  {
   "cell_type": "code",
   "execution_count": 3,
   "id": "f3fdcae5-a02a-4208-9fb4-f58ce18b87e1",
   "metadata": {},
   "outputs": [
    {
     "name": "stdout",
     "output_type": "stream",
     "text": [
      "Collecting pandasNote: you may need to restart the kernel to use updated packages.\n",
      "\n",
      "  Downloading pandas-2.3.2-cp312-cp312-win_amd64.whl.metadata (19 kB)\n",
      "Requirement already satisfied: numpy>=1.26.0 in c:\\users\\acast\\appdata\\local\\programs\\python\\python312\\lib\\site-packages (from pandas) (1.26.4)\n",
      "Requirement already satisfied: python-dateutil>=2.8.2 in c:\\users\\acast\\appdata\\local\\programs\\python\\python312\\lib\\site-packages (from pandas) (2.9.0.post0)\n",
      "Collecting pytz>=2020.1 (from pandas)\n",
      "  Using cached pytz-2025.2-py2.py3-none-any.whl.metadata (22 kB)\n",
      "Collecting tzdata>=2022.7 (from pandas)\n",
      "  Using cached tzdata-2025.2-py2.py3-none-any.whl.metadata (1.4 kB)\n",
      "Requirement already satisfied: six>=1.5 in c:\\users\\acast\\appdata\\local\\programs\\python\\python312\\lib\\site-packages (from python-dateutil>=2.8.2->pandas) (1.16.0)\n",
      "Downloading pandas-2.3.2-cp312-cp312-win_amd64.whl (11.0 MB)\n",
      "   ---------------------------------------- 0.0/11.0 MB ? eta -:--:--\n",
      "   ---------------------------------------- 0.1/11.0 MB 2.6 MB/s eta 0:00:05\n",
      "    --------------------------------------- 0.2/11.0 MB 3.6 MB/s eta 0:00:04\n",
      "   -- ------------------------------------- 0.6/11.0 MB 4.4 MB/s eta 0:00:03\n",
      "   --- ------------------------------------ 0.9/11.0 MB 5.2 MB/s eta 0:00:02\n",
      "   ----- ---------------------------------- 1.5/11.0 MB 6.7 MB/s eta 0:00:02\n",
      "   ------ --------------------------------- 1.9/11.0 MB 7.6 MB/s eta 0:00:02\n",
      "   --------- ------------------------------ 2.5/11.0 MB 7.9 MB/s eta 0:00:02\n",
      "   ---------- ----------------------------- 2.9/11.0 MB 8.2 MB/s eta 0:00:01\n",
      "   ----------- ---------------------------- 3.1/11.0 MB 8.2 MB/s eta 0:00:01\n",
      "   ------------ --------------------------- 3.5/11.0 MB 7.6 MB/s eta 0:00:01\n",
      "   --------------- ------------------------ 4.3/11.0 MB 8.5 MB/s eta 0:00:01\n",
      "   ----------------- ---------------------- 4.8/11.0 MB 8.7 MB/s eta 0:00:01\n",
      "   ------------------- -------------------- 5.3/11.0 MB 9.1 MB/s eta 0:00:01\n",
      "   -------------------- ------------------- 5.7/11.0 MB 9.1 MB/s eta 0:00:01\n",
      "   -------------------- ------------------- 5.7/11.0 MB 9.1 MB/s eta 0:00:01\n",
      "   -------------------- ------------------- 5.7/11.0 MB 8.2 MB/s eta 0:00:01\n",
      "   ------------------------- -------------- 7.1/11.0 MB 9.3 MB/s eta 0:00:01\n",
      "   --------------------------- ------------ 7.6/11.0 MB 9.5 MB/s eta 0:00:01\n",
      "   ---------------------------- ----------- 8.0/11.0 MB 9.4 MB/s eta 0:00:01\n",
      "   ------------------------------ --------- 8.4/11.0 MB 9.4 MB/s eta 0:00:01\n",
      "   -------------------------------- ------- 8.8/11.0 MB 9.4 MB/s eta 0:00:01\n",
      "   --------------------------------- ------ 9.2/11.0 MB 9.5 MB/s eta 0:00:01\n",
      "   ----------------------------------- ---- 9.7/11.0 MB 9.7 MB/s eta 0:00:01\n",
      "   ------------------------------------ --- 10.1/11.0 MB 9.5 MB/s eta 0:00:01\n",
      "   -------------------------------------- - 10.6/11.0 MB 10.2 MB/s eta 0:00:01\n",
      "   ---------------------------------------  11.0/11.0 MB 10.4 MB/s eta 0:00:01\n",
      "   ---------------------------------------- 11.0/11.0 MB 9.9 MB/s eta 0:00:00\n",
      "Using cached pytz-2025.2-py2.py3-none-any.whl (509 kB)\n",
      "Using cached tzdata-2025.2-py2.py3-none-any.whl (347 kB)\n",
      "Installing collected packages: pytz, tzdata, pandas\n",
      "Successfully installed pandas-2.3.2 pytz-2025.2 tzdata-2025.2\n"
     ]
    },
    {
     "name": "stderr",
     "output_type": "stream",
     "text": [
      "\n",
      "[notice] A new release of pip is available: 24.0 -> 25.2\n",
      "[notice] To update, run: C:\\Users\\acast\\AppData\\Local\\Programs\\Python\\Python312\\python.exe -m pip install --upgrade pip\n"
     ]
    }
   ],
   "source": [
    "pip install pandas"
   ]
  },
  {
   "cell_type": "code",
   "execution_count": 4,
   "id": "9f024003-7b84-498a-b79d-17ab7298f070",
   "metadata": {},
   "outputs": [
    {
     "name": "stdout",
     "output_type": "stream",
     "text": [
      "Requirement already satisfied: numpy in c:\\users\\acast\\appdata\\local\\programs\\python\\python312\\lib\\site-packages (1.26.4)\n",
      "Note: you may need to restart the kernel to use updated packages.\n"
     ]
    },
    {
     "name": "stderr",
     "output_type": "stream",
     "text": [
      "\n",
      "[notice] A new release of pip is available: 24.0 -> 25.2\n",
      "[notice] To update, run: C:\\Users\\acast\\AppData\\Local\\Programs\\Python\\Python312\\python.exe -m pip install --upgrade pip\n"
     ]
    }
   ],
   "source": [
    "pip install numpy"
   ]
  },
  {
   "cell_type": "code",
   "execution_count": 2,
   "id": "96511fe0-636b-44a4-a7d0-d5b4c52e4f16",
   "metadata": {},
   "outputs": [
    {
     "name": "stdout",
     "output_type": "stream",
     "text": [
      "NumPy: 1.26.4\n",
      "Pandas: 2.2.2\n"
     ]
    }
   ],
   "source": [
    "import numpy, pandas\n",
    "print(\"NumPy:\", numpy.__version__)\n",
    "print(\"Pandas:\", pandas.__version__)"
   ]
  },
  {
   "cell_type": "code",
   "execution_count": 7,
   "id": "8c34e75f-9810-4165-9fdb-72a56b3572f2",
   "metadata": {},
   "outputs": [
    {
     "name": "stdout",
     "output_type": "stream",
     "text": [
      "Collecting networkx\n",
      "  Downloading networkx-3.5-py3-none-any.whl.metadata (6.3 kB)\n",
      "Downloading networkx-3.5-py3-none-any.whl (2.0 MB)\n",
      "   ---------------------------------------- 0.0/2.0 MB ? eta -:--:--\n",
      "   ---------------------------------------- 0.0/2.0 MB ? eta -:--:--\n",
      "   ---------------------------------------- 0.0/2.0 MB ? eta -:--:--\n",
      "   ---------------------------------------- 0.0/2.0 MB ? eta -:--:--\n",
      "    --------------------------------------- 0.0/2.0 MB 279.3 kB/s eta 0:00:08\n",
      "   -- ------------------------------------- 0.1/2.0 MB 722.1 kB/s eta 0:00:03\n",
      "   ---- ----------------------------------- 0.2/2.0 MB 958.4 kB/s eta 0:00:02\n",
      "   ---- ----------------------------------- 0.2/2.0 MB 958.6 kB/s eta 0:00:02\n",
      "   -------- ------------------------------- 0.4/2.0 MB 1.5 MB/s eta 0:00:02\n",
      "   ------------- -------------------------- 0.7/2.0 MB 2.1 MB/s eta 0:00:01\n",
      "   ----------------- ---------------------- 0.9/2.0 MB 2.5 MB/s eta 0:00:01\n",
      "   ---------------------- ----------------- 1.1/2.0 MB 2.7 MB/s eta 0:00:01\n",
      "   --------------------------- ------------ 1.4/2.0 MB 3.1 MB/s eta 0:00:01\n",
      "   -------------------------------- ------- 1.6/2.0 MB 3.4 MB/s eta 0:00:01\n",
      "   ------------------------------------- -- 1.9/2.0 MB 3.4 MB/s eta 0:00:01\n",
      "   ---------------------------------------- 2.0/2.0 MB 3.5 MB/s eta 0:00:00\n",
      "Installing collected packages: networkx\n",
      "Successfully installed networkx-3.5\n",
      "Note: you may need to restart the kernel to use updated packages.\n"
     ]
    },
    {
     "name": "stderr",
     "output_type": "stream",
     "text": [
      "\n",
      "[notice] A new release of pip is available: 24.0 -> 25.2\n",
      "[notice] To update, run: C:\\Users\\acast\\AppData\\Local\\Programs\\Python\\Python312\\python.exe -m pip install --upgrade pip\n"
     ]
    }
   ],
   "source": [
    "pip install networkx"
   ]
  },
  {
   "cell_type": "code",
   "execution_count": 10,
   "id": "098923dd-8817-460c-b13b-166fe5afe0ff",
   "metadata": {},
   "outputs": [
    {
     "name": "stdout",
     "output_type": "stream",
     "text": [
      "Collecting scikit-learn\n",
      "  Downloading scikit_learn-1.7.1-cp312-cp312-win_amd64.whl.metadata (11 kB)\n",
      "Requirement already satisfied: numpy>=1.22.0 in c:\\users\\acast\\appdata\\local\\programs\\python\\python312\\lib\\site-packages (from scikit-learn) (1.26.4)\n",
      "Collecting scipy>=1.8.0 (from scikit-learn)\n",
      "  Downloading scipy-1.16.1-cp312-cp312-win_amd64.whl.metadata (60 kB)\n",
      "     ---------------------------------------- 0.0/60.8 kB ? eta -:--:--\n",
      "     ------ --------------------------------- 10.2/60.8 kB ? eta -:--:--\n",
      "     ------------------- ------------------ 30.7/60.8 kB 435.7 kB/s eta 0:00:01\n",
      "     -------------------------------------- 60.8/60.8 kB 537.9 kB/s eta 0:00:00\n",
      "Collecting joblib>=1.2.0 (from scikit-learn)\n",
      "  Using cached joblib-1.5.2-py3-none-any.whl.metadata (5.6 kB)\n",
      "Collecting threadpoolctl>=3.1.0 (from scikit-learn)\n",
      "  Downloading threadpoolctl-3.6.0-py3-none-any.whl.metadata (13 kB)\n",
      "Downloading scikit_learn-1.7.1-cp312-cp312-win_amd64.whl (8.7 MB)\n",
      "   ---------------------------------------- 0.0/8.7 MB ? eta -:--:--\n",
      "   ---------------------------------------- 0.1/8.7 MB 2.6 MB/s eta 0:00:04\n",
      "   - -------------------------------------- 0.3/8.7 MB 4.2 MB/s eta 0:00:02\n",
      "   -- ------------------------------------- 0.6/8.7 MB 5.0 MB/s eta 0:00:02\n",
      "   ----- ---------------------------------- 1.1/8.7 MB 7.0 MB/s eta 0:00:02\n",
      "   ------- -------------------------------- 1.6/8.7 MB 7.9 MB/s eta 0:00:01\n",
      "   ---------- ----------------------------- 2.2/8.7 MB 8.7 MB/s eta 0:00:01\n",
      "   ------------ --------------------------- 2.7/8.7 MB 8.6 MB/s eta 0:00:01\n",
      "   ------------ --------------------------- 2.8/8.7 MB 8.8 MB/s eta 0:00:01\n",
      "   ------------ --------------------------- 2.8/8.7 MB 7.2 MB/s eta 0:00:01\n",
      "   ----------------- ---------------------- 3.9/8.7 MB 8.8 MB/s eta 0:00:01\n",
      "   ------------------ --------------------- 4.1/8.7 MB 8.6 MB/s eta 0:00:01\n",
      "   --------------------- ------------------ 4.6/8.7 MB 8.7 MB/s eta 0:00:01\n",
      "   ----------------------- ---------------- 5.1/8.7 MB 9.0 MB/s eta 0:00:01\n",
      "   ------------------------- -------------- 5.6/8.7 MB 9.1 MB/s eta 0:00:01\n",
      "   ---------------------------- ----------- 6.2/8.7 MB 9.4 MB/s eta 0:00:01\n",
      "   ------------------------------ --------- 6.7/8.7 MB 9.5 MB/s eta 0:00:01\n",
      "   ------------------------------ --------- 6.8/8.7 MB 9.4 MB/s eta 0:00:01\n",
      "   -------------------------------- ------- 7.2/8.7 MB 9.0 MB/s eta 0:00:01\n",
      "   ------------------------------------- -- 8.1/8.7 MB 9.6 MB/s eta 0:00:01\n",
      "   ---------------------------------------  8.6/8.7 MB 9.7 MB/s eta 0:00:01\n",
      "   ---------------------------------------  8.7/8.7 MB 9.6 MB/s eta 0:00:01\n",
      "   ---------------------------------------- 8.7/8.7 MB 9.2 MB/s eta 0:00:00\n",
      "Using cached joblib-1.5.2-py3-none-any.whl (308 kB)\n",
      "Downloading scipy-1.16.1-cp312-cp312-win_amd64.whl (38.5 MB)\n",
      "   ---------------------------------------- 0.0/38.5 MB ? eta -:--:--\n",
      "   ---------------------------------------- 0.4/38.5 MB 11.2 MB/s eta 0:00:04\n",
      "    --------------------------------------- 0.9/38.5 MB 13.8 MB/s eta 0:00:03\n",
      "   - -------------------------------------- 1.4/38.5 MB 14.5 MB/s eta 0:00:03\n",
      "   - -------------------------------------- 1.8/38.5 MB 11.5 MB/s eta 0:00:04\n",
      "   -- ------------------------------------- 2.3/38.5 MB 12.2 MB/s eta 0:00:03\n",
      "   -- ------------------------------------- 2.9/38.5 MB 12.2 MB/s eta 0:00:03\n",
      "   --- ------------------------------------ 3.3/38.5 MB 11.7 MB/s eta 0:00:04\n",
      "   ---- ----------------------------------- 3.9/38.5 MB 11.9 MB/s eta 0:00:03\n",
      "   ---- ----------------------------------- 4.5/38.5 MB 12.0 MB/s eta 0:00:03\n",
      "   ----- ---------------------------------- 4.9/38.5 MB 11.6 MB/s eta 0:00:03\n",
      "   ----- ---------------------------------- 5.4/38.5 MB 11.9 MB/s eta 0:00:03\n",
      "   ------ --------------------------------- 5.9/38.5 MB 11.3 MB/s eta 0:00:03\n",
      "   ------ --------------------------------- 6.3/38.5 MB 11.6 MB/s eta 0:00:03\n",
      "   ------- -------------------------------- 6.9/38.5 MB 11.7 MB/s eta 0:00:03\n",
      "   ------- -------------------------------- 7.4/38.5 MB 11.9 MB/s eta 0:00:03\n",
      "   -------- ------------------------------- 7.9/38.5 MB 11.8 MB/s eta 0:00:03\n",
      "   -------- ------------------------------- 8.4/38.5 MB 11.7 MB/s eta 0:00:03\n",
      "   --------- ------------------------------ 9.0/38.5 MB 11.7 MB/s eta 0:00:03\n",
      "   --------- ------------------------------ 9.5/38.5 MB 11.7 MB/s eta 0:00:03\n",
      "   ---------- ----------------------------- 10.1/38.5 MB 11.8 MB/s eta 0:00:03\n",
      "   ----------- ---------------------------- 10.6/38.5 MB 11.7 MB/s eta 0:00:03\n",
      "   ----------- ---------------------------- 11.1/38.5 MB 11.7 MB/s eta 0:00:03\n",
      "   ------------ --------------------------- 11.6/38.5 MB 11.7 MB/s eta 0:00:03\n",
      "   ------------ --------------------------- 12.1/38.5 MB 11.5 MB/s eta 0:00:03\n",
      "   ------------- -------------------------- 12.6/38.5 MB 11.5 MB/s eta 0:00:03\n",
      "   ------------- -------------------------- 13.2/38.5 MB 11.7 MB/s eta 0:00:03\n",
      "   -------------- ------------------------- 13.8/38.5 MB 11.7 MB/s eta 0:00:03\n",
      "   -------------- ------------------------- 14.3/38.5 MB 11.5 MB/s eta 0:00:03\n",
      "   --------------- ------------------------ 14.8/38.5 MB 11.7 MB/s eta 0:00:03\n",
      "   --------------- ------------------------ 15.2/38.5 MB 11.5 MB/s eta 0:00:03\n",
      "   ---------------- ----------------------- 15.7/38.5 MB 11.7 MB/s eta 0:00:02\n",
      "   ---------------- ----------------------- 16.1/38.5 MB 11.5 MB/s eta 0:00:02\n",
      "   ----------------- ---------------------- 16.8/38.5 MB 11.5 MB/s eta 0:00:02\n",
      "   ----------------- ---------------------- 17.3/38.5 MB 11.7 MB/s eta 0:00:02\n",
      "   ------------------ --------------------- 17.7/38.5 MB 11.5 MB/s eta 0:00:02\n",
      "   ------------------ --------------------- 18.1/38.5 MB 11.5 MB/s eta 0:00:02\n",
      "   ------------------- -------------------- 18.6/38.5 MB 11.5 MB/s eta 0:00:02\n",
      "   ------------------- -------------------- 19.1/38.5 MB 11.7 MB/s eta 0:00:02\n",
      "   -------------------- ------------------- 19.7/38.5 MB 11.5 MB/s eta 0:00:02\n",
      "   -------------------- ------------------- 20.2/38.5 MB 11.7 MB/s eta 0:00:02\n",
      "   --------------------- ------------------ 20.6/38.5 MB 11.5 MB/s eta 0:00:02\n",
      "   --------------------- ------------------ 21.2/38.5 MB 11.5 MB/s eta 0:00:02\n",
      "   ---------------------- ----------------- 21.8/38.5 MB 11.5 MB/s eta 0:00:02\n",
      "   ----------------------- ---------------- 22.3/38.5 MB 11.5 MB/s eta 0:00:02\n",
      "   ----------------------- ---------------- 22.8/38.5 MB 11.5 MB/s eta 0:00:02\n",
      "   ------------------------ --------------- 23.3/38.5 MB 11.5 MB/s eta 0:00:02\n",
      "   ------------------------ --------------- 23.8/38.5 MB 11.5 MB/s eta 0:00:02\n",
      "   ------------------------- -------------- 24.3/38.5 MB 11.5 MB/s eta 0:00:02\n",
      "   ------------------------- -------------- 24.8/38.5 MB 11.3 MB/s eta 0:00:02\n",
      "   -------------------------- ------------- 25.2/38.5 MB 11.5 MB/s eta 0:00:02\n",
      "   -------------------------- ------------- 25.7/38.5 MB 11.3 MB/s eta 0:00:02\n",
      "   --------------------------- ------------ 26.2/38.5 MB 11.5 MB/s eta 0:00:02\n",
      "   --------------------------- ------------ 26.7/38.5 MB 11.5 MB/s eta 0:00:02\n",
      "   ---------------------------- ----------- 27.2/38.5 MB 11.5 MB/s eta 0:00:01\n",
      "   ---------------------------- ----------- 27.6/38.5 MB 11.7 MB/s eta 0:00:01\n",
      "   ----------------------------- ---------- 28.2/38.5 MB 11.5 MB/s eta 0:00:01\n",
      "   ----------------------------- ---------- 28.7/38.5 MB 11.5 MB/s eta 0:00:01\n",
      "   ------------------------------ --------- 29.2/38.5 MB 11.5 MB/s eta 0:00:01\n",
      "   ------------------------------ --------- 29.6/38.5 MB 11.5 MB/s eta 0:00:01\n",
      "   ------------------------------- -------- 30.3/38.5 MB 11.5 MB/s eta 0:00:01\n",
      "   -------------------------------- ------- 30.9/38.5 MB 11.5 MB/s eta 0:00:01\n",
      "   -------------------------------- ------- 31.5/38.5 MB 11.9 MB/s eta 0:00:01\n",
      "   --------------------------------- ------ 31.9/38.5 MB 11.5 MB/s eta 0:00:01\n",
      "   --------------------------------- ------ 32.6/38.5 MB 11.7 MB/s eta 0:00:01\n",
      "   ---------------------------------- ----- 33.0/38.5 MB 11.5 MB/s eta 0:00:01\n",
      "   ---------------------------------- ----- 33.6/38.5 MB 11.7 MB/s eta 0:00:01\n",
      "   ----------------------------------- ---- 34.0/38.5 MB 11.5 MB/s eta 0:00:01\n",
      "   ----------------------------------- ---- 34.5/38.5 MB 11.5 MB/s eta 0:00:01\n",
      "   ------------------------------------ --- 34.9/38.5 MB 11.5 MB/s eta 0:00:01\n",
      "   ------------------------------------ --- 35.4/38.5 MB 11.7 MB/s eta 0:00:01\n",
      "   ------------------------------------- -- 35.9/38.5 MB 11.7 MB/s eta 0:00:01\n",
      "   ------------------------------------- -- 36.4/38.5 MB 11.7 MB/s eta 0:00:01\n",
      "   -------------------------------------- - 37.0/38.5 MB 11.5 MB/s eta 0:00:01\n",
      "   -------------------------------------- - 37.5/38.5 MB 11.5 MB/s eta 0:00:01\n",
      "   ---------------------------------------  38.0/38.5 MB 11.5 MB/s eta 0:00:01\n",
      "   ---------------------------------------  38.5/38.5 MB 11.7 MB/s eta 0:00:01\n",
      "   ---------------------------------------  38.5/38.5 MB 11.7 MB/s eta 0:00:01\n",
      "   ---------------------------------------  38.5/38.5 MB 11.7 MB/s eta 0:00:01\n",
      "   ---------------------------------------  38.5/38.5 MB 11.7 MB/s eta 0:00:01\n",
      "   ---------------------------------------  38.5/38.5 MB 11.7 MB/s eta 0:00:01\n",
      "   ---------------------------------------- 38.5/38.5 MB 9.2 MB/s eta 0:00:00\n",
      "Downloading threadpoolctl-3.6.0-py3-none-any.whl (18 kB)\n",
      "Installing collected packages: threadpoolctl, scipy, joblib, scikit-learn\n",
      "Successfully installed joblib-1.5.2 scikit-learn-1.7.1 scipy-1.16.1 threadpoolctl-3.6.0\n",
      "Note: you may need to restart the kernel to use updated packages.\n"
     ]
    },
    {
     "name": "stderr",
     "output_type": "stream",
     "text": [
      "\n",
      "[notice] A new release of pip is available: 24.0 -> 25.2\n",
      "[notice] To update, run: C:\\Users\\acast\\AppData\\Local\\Programs\\Python\\Python312\\python.exe -m pip install --upgrade pip\n"
     ]
    }
   ],
   "source": [
    "pip install scikit-learn"
   ]
  },
  {
   "cell_type": "code",
   "execution_count": 12,
   "id": "e17e39f2-007f-494f-b5a0-878b11eb8159",
   "metadata": {},
   "outputs": [
    {
     "name": "stdout",
     "output_type": "stream",
     "text": [
      "Collecting matplotlib\n",
      "  Downloading matplotlib-3.10.6-cp312-cp312-win_amd64.whl.metadata (11 kB)\n",
      "Collecting contourpy>=1.0.1 (from matplotlib)\n",
      "  Downloading contourpy-1.3.3-cp312-cp312-win_amd64.whl.metadata (5.5 kB)\n",
      "Collecting cycler>=0.10 (from matplotlib)\n",
      "  Using cached cycler-0.12.1-py3-none-any.whl.metadata (3.8 kB)\n",
      "Collecting fonttools>=4.22.0 (from matplotlib)\n",
      "  Downloading fonttools-4.59.2-cp312-cp312-win_amd64.whl.metadata (111 kB)\n",
      "     ---------------------------------------- 0.0/111.9 kB ? eta -:--:--\n",
      "     ------- -------------------------------- 20.5/111.9 kB ? eta -:--:--\n",
      "     ------------- ----------------------- 41.0/111.9 kB 653.6 kB/s eta 0:00:01\n",
      "     -------------------------------------- 111.9/111.9 kB 1.1 MB/s eta 0:00:00\n",
      "Collecting kiwisolver>=1.3.1 (from matplotlib)\n",
      "  Downloading kiwisolver-1.4.9-cp312-cp312-win_amd64.whl.metadata (6.4 kB)\n",
      "Requirement already satisfied: numpy>=1.23 in c:\\users\\acast\\appdata\\local\\programs\\python\\python312\\lib\\site-packages (from matplotlib) (1.26.4)\n",
      "Requirement already satisfied: packaging>=20.0 in c:\\users\\acast\\appdata\\local\\programs\\python\\python312\\lib\\site-packages (from matplotlib) (24.0)\n",
      "Collecting pillow>=8 (from matplotlib)\n",
      "  Downloading pillow-11.3.0-cp312-cp312-win_amd64.whl.metadata (9.2 kB)\n",
      "Collecting pyparsing>=2.3.1 (from matplotlib)\n",
      "  Using cached pyparsing-3.2.3-py3-none-any.whl.metadata (5.0 kB)\n",
      "Requirement already satisfied: python-dateutil>=2.7 in c:\\users\\acast\\appdata\\local\\programs\\python\\python312\\lib\\site-packages (from matplotlib) (2.9.0.post0)\n",
      "Requirement already satisfied: six>=1.5 in c:\\users\\acast\\appdata\\local\\programs\\python\\python312\\lib\\site-packages (from python-dateutil>=2.7->matplotlib) (1.16.0)\n",
      "Downloading matplotlib-3.10.6-cp312-cp312-win_amd64.whl (8.1 MB)\n",
      "   ---------------------------------------- 0.0/8.1 MB ? eta -:--:--\n",
      "    --------------------------------------- 0.1/8.1 MB 4.3 MB/s eta 0:00:02\n",
      "   -- ------------------------------------- 0.5/8.1 MB 6.7 MB/s eta 0:00:02\n",
      "   ---- ----------------------------------- 0.9/8.1 MB 7.2 MB/s eta 0:00:02\n",
      "   ------ --------------------------------- 1.4/8.1 MB 7.9 MB/s eta 0:00:01\n",
      "   --------- ------------------------------ 1.9/8.1 MB 9.2 MB/s eta 0:00:01\n",
      "   ----------- ---------------------------- 2.3/8.1 MB 9.1 MB/s eta 0:00:01\n",
      "   ------------- -------------------------- 2.8/8.1 MB 9.9 MB/s eta 0:00:01\n",
      "   ------------- -------------------------- 2.8/8.1 MB 9.9 MB/s eta 0:00:01\n",
      "   ------------------ --------------------- 3.7/8.1 MB 9.7 MB/s eta 0:00:01\n",
      "   -------------------- ------------------- 4.1/8.1 MB 9.7 MB/s eta 0:00:01\n",
      "   ----------------------- ---------------- 4.7/8.1 MB 10.1 MB/s eta 0:00:01\n",
      "   ------------------------- -------------- 5.2/8.1 MB 10.1 MB/s eta 0:00:01\n",
      "   -------------------------- ------------- 5.4/8.1 MB 9.7 MB/s eta 0:00:01\n",
      "   ---------------------------- ----------- 5.8/8.1 MB 9.3 MB/s eta 0:00:01\n",
      "   ------------------------------- -------- 6.4/8.1 MB 9.8 MB/s eta 0:00:01\n",
      "   --------------------------------- ------ 6.8/8.1 MB 9.6 MB/s eta 0:00:01\n",
      "   ------------------------------------ --- 7.3/8.1 MB 9.7 MB/s eta 0:00:01\n",
      "   -------------------------------------- - 7.7/8.1 MB 9.9 MB/s eta 0:00:01\n",
      "   ---------------------------------------  8.1/8.1 MB 10.0 MB/s eta 0:00:01\n",
      "   ---------------------------------------- 8.1/8.1 MB 9.4 MB/s eta 0:00:00\n",
      "Downloading contourpy-1.3.3-cp312-cp312-win_amd64.whl (226 kB)\n",
      "   ---------------------------------------- 0.0/226.6 kB ? eta -:--:--\n",
      "   --------------------------------------- 226.6/226.6 kB 14.4 MB/s eta 0:00:00\n",
      "Using cached cycler-0.12.1-py3-none-any.whl (8.3 kB)\n",
      "Downloading fonttools-4.59.2-cp312-cp312-win_amd64.whl (2.3 MB)\n",
      "   ---------------------------------------- 0.0/2.3 MB ? eta -:--:--\n",
      "   ------ --------------------------------- 0.4/2.3 MB 11.6 MB/s eta 0:00:01\n",
      "   ------------------ --------------------- 1.0/2.3 MB 11.0 MB/s eta 0:00:01\n",
      "   --------------------------- ------------ 1.5/2.3 MB 12.2 MB/s eta 0:00:01\n",
      "   ----------------------------------- ---- 2.0/2.3 MB 11.4 MB/s eta 0:00:01\n",
      "   ---------------------------------------  2.3/2.3 MB 12.0 MB/s eta 0:00:01\n",
      "   ---------------------------------------- 2.3/2.3 MB 10.2 MB/s eta 0:00:00\n",
      "Downloading kiwisolver-1.4.9-cp312-cp312-win_amd64.whl (73 kB)\n",
      "   ---------------------------------------- 0.0/73.9 kB ? eta -:--:--\n",
      "   ---------------------------------------- 73.9/73.9 kB 4.0 MB/s eta 0:00:00\n",
      "Downloading pillow-11.3.0-cp312-cp312-win_amd64.whl (7.0 MB)\n",
      "   ---------------------------------------- 0.0/7.0 MB ? eta -:--:--\n",
      "   -- ------------------------------------- 0.4/7.0 MB 12.9 MB/s eta 0:00:01\n",
      "   ----- ---------------------------------- 0.9/7.0 MB 11.3 MB/s eta 0:00:01\n",
      "   ------- -------------------------------- 1.4/7.0 MB 12.3 MB/s eta 0:00:01\n",
      "   ---------- ----------------------------- 1.8/7.0 MB 11.6 MB/s eta 0:00:01\n",
      "   ------------- -------------------------- 2.3/7.0 MB 11.3 MB/s eta 0:00:01\n",
      "   --------------- ------------------------ 2.7/7.0 MB 11.6 MB/s eta 0:00:01\n",
      "   ------------------ --------------------- 3.2/7.0 MB 11.4 MB/s eta 0:00:01\n",
      "   --------------------- ------------------ 3.8/7.0 MB 10.9 MB/s eta 0:00:01\n",
      "   ------------------------ --------------- 4.3/7.0 MB 11.4 MB/s eta 0:00:01\n",
      "   -------------------------- ------------- 4.7/7.0 MB 11.1 MB/s eta 0:00:01\n",
      "   ----------------------------- ---------- 5.2/7.0 MB 11.5 MB/s eta 0:00:01\n",
      "   --------------------------------- ------ 5.9/7.0 MB 11.4 MB/s eta 0:00:01\n",
      "   ------------------------------------ --- 6.4/7.0 MB 11.4 MB/s eta 0:00:01\n",
      "   ---------------------------------------  7.0/7.0 MB 11.7 MB/s eta 0:00:01\n",
      "   ---------------------------------------  7.0/7.0 MB 11.7 MB/s eta 0:00:01\n",
      "   ---------------------------------------- 7.0/7.0 MB 10.4 MB/s eta 0:00:00\n",
      "Using cached pyparsing-3.2.3-py3-none-any.whl (111 kB)\n",
      "Installing collected packages: pyparsing, pillow, kiwisolver, fonttools, cycler, contourpy, matplotlib\n",
      "Successfully installed contourpy-1.3.3 cycler-0.12.1 fonttools-4.59.2 kiwisolver-1.4.9 matplotlib-3.10.6 pillow-11.3.0 pyparsing-3.2.3\n",
      "Note: you may need to restart the kernel to use updated packages.\n"
     ]
    },
    {
     "name": "stderr",
     "output_type": "stream",
     "text": [
      "\n",
      "[notice] A new release of pip is available: 24.0 -> 25.2\n",
      "[notice] To update, run: C:\\Users\\acast\\AppData\\Local\\Programs\\Python\\Python312\\python.exe -m pip install --upgrade pip\n"
     ]
    }
   ],
   "source": [
    "pip install matplotlib"
   ]
  },
  {
   "cell_type": "code",
   "execution_count": 3,
   "id": "fa24b919-36c3-4164-9c52-9f078425dbc5",
   "metadata": {},
   "outputs": [],
   "source": [
    "# STEP 0 — Import essenziali\n",
    "import numpy as np\n",
    "import pandas as pd\n",
    "import networkx as nx\n",
    "import random\n",
    "\n",
    "# metriche e modello per la parte supervisionata\n",
    "from sklearn.model_selection import train_test_split\n",
    "from sklearn.linear_model import LogisticRegression\n",
    "from sklearn.metrics import (\n",
    "    roc_auc_score, average_precision_score,\n",
    "    roc_curve, precision_recall_curve, classification_report\n",
    ")\n",
    "\n",
    "# plotting (per ROC/PR, opzionale ma utile)\n",
    "import matplotlib.pyplot as plt"
   ]
  },
  {
   "cell_type": "code",
   "execution_count": 4,
   "id": "97650dbd-0e29-4bc7-bbec-c1e9a1139054",
   "metadata": {},
   "outputs": [],
   "source": [
    "import pickle"
   ]
  },
  {
   "cell_type": "code",
   "execution_count": 16,
   "id": "9e4eed0a-c1f5-48d0-96d5-d5c61bc3823c",
   "metadata": {},
   "outputs": [
    {
     "name": "stdout",
     "output_type": "stream",
     "text": [
      "Collecting linkpredNote: you may need to restart the kernel to use updated packages.\n",
      "\n",
      "  Using cached linkpred-0.6-py3-none-any.whl.metadata (5.5 kB)\n",
      "Requirement already satisfied: matplotlib>=3.5 in c:\\users\\acast\\appdata\\local\\programs\\python\\python312\\lib\\site-packages (from linkpred) (3.10.6)\n",
      "Requirement already satisfied: networkx>=3.0 in c:\\users\\acast\\appdata\\local\\programs\\python\\python312\\lib\\site-packages (from linkpred) (3.5)\n",
      "Requirement already satisfied: numpy>=1.23 in c:\\users\\acast\\appdata\\local\\programs\\python\\python312\\lib\\site-packages (from linkpred) (1.26.4)\n",
      "Requirement already satisfied: pyyaml>=3.0 in c:\\users\\acast\\appdata\\local\\programs\\python\\python312\\lib\\site-packages (from linkpred) (6.0.1)\n",
      "Requirement already satisfied: scipy>=1.10 in c:\\users\\acast\\appdata\\local\\programs\\python\\python312\\lib\\site-packages (from linkpred) (1.16.1)\n",
      "Collecting smokesignal>=0.7 (from linkpred)\n",
      "  Using cached smokesignal-0.7.0.tar.gz (5.9 kB)\n",
      "  Installing build dependencies: started\n",
      "  Installing build dependencies: finished with status 'done'\n",
      "  Getting requirements to build wheel: started\n",
      "  Getting requirements to build wheel: finished with status 'done'\n",
      "  Preparing metadata (pyproject.toml): started\n",
      "  Preparing metadata (pyproject.toml): finished with status 'done'\n",
      "Requirement already satisfied: contourpy>=1.0.1 in c:\\users\\acast\\appdata\\local\\programs\\python\\python312\\lib\\site-packages (from matplotlib>=3.5->linkpred) (1.3.3)\n",
      "Requirement already satisfied: cycler>=0.10 in c:\\users\\acast\\appdata\\local\\programs\\python\\python312\\lib\\site-packages (from matplotlib>=3.5->linkpred) (0.12.1)\n",
      "Requirement already satisfied: fonttools>=4.22.0 in c:\\users\\acast\\appdata\\local\\programs\\python\\python312\\lib\\site-packages (from matplotlib>=3.5->linkpred) (4.59.2)\n",
      "Requirement already satisfied: kiwisolver>=1.3.1 in c:\\users\\acast\\appdata\\local\\programs\\python\\python312\\lib\\site-packages (from matplotlib>=3.5->linkpred) (1.4.9)\n",
      "Requirement already satisfied: packaging>=20.0 in c:\\users\\acast\\appdata\\local\\programs\\python\\python312\\lib\\site-packages (from matplotlib>=3.5->linkpred) (24.0)\n",
      "Requirement already satisfied: pillow>=8 in c:\\users\\acast\\appdata\\local\\programs\\python\\python312\\lib\\site-packages (from matplotlib>=3.5->linkpred) (11.3.0)\n",
      "Requirement already satisfied: pyparsing>=2.3.1 in c:\\users\\acast\\appdata\\local\\programs\\python\\python312\\lib\\site-packages (from matplotlib>=3.5->linkpred) (3.2.3)\n",
      "Requirement already satisfied: python-dateutil>=2.7 in c:\\users\\acast\\appdata\\local\\programs\\python\\python312\\lib\\site-packages (from matplotlib>=3.5->linkpred) (2.9.0.post0)\n",
      "Requirement already satisfied: six>=1.5 in c:\\users\\acast\\appdata\\local\\programs\\python\\python312\\lib\\site-packages (from python-dateutil>=2.7->matplotlib>=3.5->linkpred) (1.16.0)\n",
      "Using cached linkpred-0.6-py3-none-any.whl (28 kB)\n",
      "Building wheels for collected packages: smokesignal\n",
      "  Building wheel for smokesignal (pyproject.toml): started\n",
      "  Building wheel for smokesignal (pyproject.toml): finished with status 'done'\n",
      "  Created wheel for smokesignal: filename=smokesignal-0.7.0-py3-none-any.whl size=6156 sha256=5a88b0ae418ad4bd0548ae9bacd58e66573fa3df70f8f54e7c68541c56f3ec00\n",
      "  Stored in directory: c:\\users\\acast\\appdata\\local\\pip\\cache\\wheels\\83\\ed\\cd\\e74e315a7b2a7c7587b1eaf391d9d10e99982c8d4e58bfb882\n",
      "Successfully built smokesignal\n",
      "Installing collected packages: smokesignal, linkpred\n",
      "Successfully installed linkpred-0.6 smokesignal-0.7.0\n"
     ]
    },
    {
     "name": "stderr",
     "output_type": "stream",
     "text": [
      "\n",
      "[notice] A new release of pip is available: 24.0 -> 25.2\n",
      "[notice] To update, run: C:\\Users\\acast\\AppData\\Local\\Programs\\Python\\Python312\\python.exe -m pip install --upgrade pip\n"
     ]
    }
   ],
   "source": [
    "pip install linkpred"
   ]
  },
  {
   "cell_type": "code",
   "execution_count": 5,
   "id": "af13c471-4f41-4519-8a4f-c35b4b8e0454",
   "metadata": {},
   "outputs": [],
   "source": [
    "import linkpred"
   ]
  },
  {
   "cell_type": "code",
   "execution_count": 19,
   "id": "81653ff6-9082-4fcb-aabe-9e49cee2c6a7",
   "metadata": {},
   "outputs": [
    {
     "name": "stdout",
     "output_type": "stream",
     "text": [
      "Collecting node2vec\n",
      "  Using cached node2vec-0.5.0-py3-none-any.whl.metadata (849 bytes)\n",
      "Collecting gensim<5.0.0,>=4.3.0 (from node2vec)\n",
      "  Downloading gensim-4.3.3-cp312-cp312-win_amd64.whl.metadata (8.2 kB)\n",
      "Requirement already satisfied: joblib<2.0.0,>=1.4.0 in c:\\users\\acast\\appdata\\local\\programs\\python\\python312\\lib\\site-packages (from node2vec) (1.5.2)\n",
      "Requirement already satisfied: networkx<4.0.0,>=3.1.0 in c:\\users\\acast\\appdata\\local\\programs\\python\\python312\\lib\\site-packages (from node2vec) (3.5)\n",
      "Requirement already satisfied: numpy<2.0.0,>=1.24.0 in c:\\users\\acast\\appdata\\local\\programs\\python\\python312\\lib\\site-packages (from node2vec) (1.26.4)\n",
      "Collecting tqdm<5.0.0,>=4.66.1 (from node2vec)\n",
      "  Using cached tqdm-4.67.1-py3-none-any.whl.metadata (57 kB)\n",
      "Collecting scipy<1.14.0,>=1.7.0 (from gensim<5.0.0,>=4.3.0->node2vec)\n",
      "  Downloading scipy-1.13.1-cp312-cp312-win_amd64.whl.metadata (60 kB)\n",
      "     ---------------------------------------- 0.0/60.6 kB ? eta -:--:--\n",
      "     ---------------------------------------- 60.6/60.6 kB 1.6 MB/s eta 0:00:00\n",
      "Collecting smart-open>=1.8.1 (from gensim<5.0.0,>=4.3.0->node2vec)\n",
      "  Using cached smart_open-7.3.0.post1-py3-none-any.whl.metadata (24 kB)\n",
      "Requirement already satisfied: colorama in c:\\users\\acast\\appdata\\local\\programs\\python\\python312\\lib\\site-packages (from tqdm<5.0.0,>=4.66.1->node2vec) (0.4.6)\n",
      "Collecting wrapt (from smart-open>=1.8.1->gensim<5.0.0,>=4.3.0->node2vec)\n",
      "  Downloading wrapt-1.17.3-cp312-cp312-win_amd64.whl.metadata (6.5 kB)\n",
      "Using cached node2vec-0.5.0-py3-none-any.whl (7.2 kB)\n",
      "Downloading gensim-4.3.3-cp312-cp312-win_amd64.whl (24.0 MB)\n",
      "   ---------------------------------------- 0.0/24.0 MB ? eta -:--:--\n",
      "   ---------------------------------------- 0.2/24.0 MB 4.8 MB/s eta 0:00:05\n",
      "   - -------------------------------------- 0.6/24.0 MB 6.5 MB/s eta 0:00:04\n",
      "   - -------------------------------------- 1.0/24.0 MB 7.3 MB/s eta 0:00:04\n",
      "   -- ------------------------------------- 1.3/24.0 MB 6.9 MB/s eta 0:00:04\n",
      "   -- ------------------------------------- 1.8/24.0 MB 8.1 MB/s eta 0:00:03\n",
      "   --- ------------------------------------ 2.1/24.0 MB 8.3 MB/s eta 0:00:03\n",
      "   ---- ----------------------------------- 2.5/24.0 MB 7.6 MB/s eta 0:00:03\n",
      "   ----- ---------------------------------- 3.0/24.0 MB 8.0 MB/s eta 0:00:03\n",
      "   ----- ---------------------------------- 3.3/24.0 MB 7.8 MB/s eta 0:00:03\n",
      "   ------ --------------------------------- 3.8/24.0 MB 8.1 MB/s eta 0:00:03\n",
      "   ------ --------------------------------- 4.2/24.0 MB 8.4 MB/s eta 0:00:03\n",
      "   ------- -------------------------------- 4.5/24.0 MB 8.0 MB/s eta 0:00:03\n",
      "   -------- ------------------------------- 5.1/24.0 MB 8.3 MB/s eta 0:00:03\n",
      "   -------- ------------------------------- 5.3/24.0 MB 8.1 MB/s eta 0:00:03\n",
      "   --------- ------------------------------ 5.8/24.0 MB 8.3 MB/s eta 0:00:03\n",
      "   --------- ------------------------------ 5.9/24.0 MB 8.2 MB/s eta 0:00:03\n",
      "   --------- ------------------------------ 5.9/24.0 MB 8.2 MB/s eta 0:00:03\n",
      "   ----------- ---------------------------- 6.7/24.0 MB 8.1 MB/s eta 0:00:03\n",
      "   ------------ --------------------------- 7.2/24.0 MB 8.2 MB/s eta 0:00:03\n",
      "   ------------ --------------------------- 7.7/24.0 MB 8.3 MB/s eta 0:00:02\n",
      "   ------------- -------------------------- 8.2/24.0 MB 8.6 MB/s eta 0:00:02\n",
      "   -------------- ------------------------- 8.5/24.0 MB 8.4 MB/s eta 0:00:02\n",
      "   -------------- ------------------------- 9.0/24.0 MB 8.5 MB/s eta 0:00:02\n",
      "   --------------- ------------------------ 9.4/24.0 MB 8.6 MB/s eta 0:00:02\n",
      "   --------------- ------------------------ 9.5/24.0 MB 8.2 MB/s eta 0:00:02\n",
      "   ---------------- ----------------------- 9.9/24.0 MB 8.3 MB/s eta 0:00:02\n",
      "   ----------------- ---------------------- 10.5/24.0 MB 8.6 MB/s eta 0:00:02\n",
      "   ----------------- ---------------------- 10.5/24.0 MB 8.4 MB/s eta 0:00:02\n",
      "   ------------------ --------------------- 11.0/24.0 MB 8.4 MB/s eta 0:00:02\n",
      "   ------------------- -------------------- 11.5/24.0 MB 8.6 MB/s eta 0:00:02\n",
      "   ------------------- -------------------- 11.8/24.0 MB 8.5 MB/s eta 0:00:02\n",
      "   -------------------- ------------------- 12.4/24.0 MB 8.7 MB/s eta 0:00:02\n",
      "   -------------------- ------------------- 12.6/24.0 MB 8.7 MB/s eta 0:00:02\n",
      "   --------------------- ------------------ 12.8/24.0 MB 8.4 MB/s eta 0:00:02\n",
      "   ---------------------- ----------------- 13.3/24.0 MB 8.4 MB/s eta 0:00:02\n",
      "   ---------------------- ----------------- 13.6/24.0 MB 8.5 MB/s eta 0:00:02\n",
      "   ----------------------- ---------------- 14.0/24.0 MB 8.3 MB/s eta 0:00:02\n",
      "   ------------------------ --------------- 14.6/24.0 MB 8.5 MB/s eta 0:00:02\n",
      "   ------------------------ --------------- 14.9/24.0 MB 8.4 MB/s eta 0:00:02\n",
      "   ------------------------- -------------- 15.4/24.0 MB 8.4 MB/s eta 0:00:02\n",
      "   -------------------------- ------------- 15.7/24.0 MB 8.5 MB/s eta 0:00:01\n",
      "   -------------------------- ------------- 15.7/24.0 MB 8.5 MB/s eta 0:00:01\n",
      "   -------------------------- ------------- 15.7/24.0 MB 8.5 MB/s eta 0:00:01\n",
      "   -------------------------- ------------- 16.1/24.0 MB 7.7 MB/s eta 0:00:02\n",
      "   --------------------------- ------------ 16.4/24.0 MB 8.1 MB/s eta 0:00:01\n",
      "   --------------------------- ------------ 16.7/24.0 MB 7.8 MB/s eta 0:00:01\n",
      "   ---------------------------- ----------- 17.1/24.0 MB 7.7 MB/s eta 0:00:01\n",
      "   ----------------------------- ---------- 17.6/24.0 MB 7.7 MB/s eta 0:00:01\n",
      "   ------------------------------ --------- 18.1/24.0 MB 7.7 MB/s eta 0:00:01\n",
      "   ------------------------------- -------- 18.8/24.0 MB 7.8 MB/s eta 0:00:01\n",
      "   ------------------------------- -------- 19.0/24.0 MB 7.6 MB/s eta 0:00:01\n",
      "   -------------------------------- ------- 19.6/24.0 MB 7.7 MB/s eta 0:00:01\n",
      "   --------------------------------- ------ 19.9/24.0 MB 8.0 MB/s eta 0:00:01\n",
      "   --------------------------------- ------ 20.2/24.0 MB 7.7 MB/s eta 0:00:01\n",
      "   ---------------------------------- ----- 20.8/24.0 MB 7.9 MB/s eta 0:00:01\n",
      "   ----------------------------------- ---- 21.1/24.0 MB 7.8 MB/s eta 0:00:01\n",
      "   ------------------------------------ --- 21.6/24.0 MB 7.9 MB/s eta 0:00:01\n",
      "   ------------------------------------ --- 22.0/24.0 MB 8.0 MB/s eta 0:00:01\n",
      "   ------------------------------------- -- 22.5/24.0 MB 7.8 MB/s eta 0:00:01\n",
      "   -------------------------------------- - 23.0/24.0 MB 8.2 MB/s eta 0:00:01\n",
      "   -------------------------------------- - 23.2/24.0 MB 8.1 MB/s eta 0:00:01\n",
      "   ---------------------------------------  23.9/24.0 MB 8.2 MB/s eta 0:00:01\n",
      "   ---------------------------------------  24.0/24.0 MB 8.3 MB/s eta 0:00:01\n",
      "   ---------------------------------------  24.0/24.0 MB 8.3 MB/s eta 0:00:01\n",
      "   ---------------------------------------- 24.0/24.0 MB 7.4 MB/s eta 0:00:00\n",
      "Using cached tqdm-4.67.1-py3-none-any.whl (78 kB)\n",
      "Downloading scipy-1.13.1-cp312-cp312-win_amd64.whl (45.9 MB)\n",
      "   ---------------------------------------- 0.0/45.9 MB ? eta -:--:--\n",
      "   ---------------------------------------- 0.5/45.9 MB 9.8 MB/s eta 0:00:05\n",
      "    --------------------------------------- 1.0/45.9 MB 10.6 MB/s eta 0:00:05\n",
      "   - -------------------------------------- 1.4/45.9 MB 9.7 MB/s eta 0:00:05\n",
      "   - -------------------------------------- 2.1/45.9 MB 10.2 MB/s eta 0:00:05\n",
      "   - -------------------------------------- 2.3/45.9 MB 8.1 MB/s eta 0:00:06\n",
      "   -- ------------------------------------- 2.8/45.9 MB 8.6 MB/s eta 0:00:05\n",
      "   -- ------------------------------------- 3.1/45.9 MB 9.1 MB/s eta 0:00:05\n",
      "   -- ------------------------------------- 3.4/45.9 MB 7.8 MB/s eta 0:00:06\n",
      "   --- ------------------------------------ 3.9/45.9 MB 8.0 MB/s eta 0:00:06\n",
      "   --- ------------------------------------ 4.2/45.9 MB 8.6 MB/s eta 0:00:05\n",
      "   --- ------------------------------------ 4.5/45.9 MB 8.1 MB/s eta 0:00:06\n",
      "   ---- ----------------------------------- 5.0/45.9 MB 8.5 MB/s eta 0:00:05\n",
      "   ---- ----------------------------------- 5.2/45.9 MB 8.4 MB/s eta 0:00:05\n",
      "   ---- ----------------------------------- 5.4/45.9 MB 7.9 MB/s eta 0:00:06\n",
      "   ----- ---------------------------------- 6.2/45.9 MB 8.4 MB/s eta 0:00:05\n",
      "   ----- ---------------------------------- 6.3/45.9 MB 8.1 MB/s eta 0:00:05\n",
      "   ------ --------------------------------- 7.0/45.9 MB 8.4 MB/s eta 0:00:05\n",
      "   ------ --------------------------------- 7.4/45.9 MB 8.3 MB/s eta 0:00:05\n",
      "   ------ --------------------------------- 8.0/45.9 MB 8.4 MB/s eta 0:00:05\n",
      "   ------- -------------------------------- 8.4/45.9 MB 8.5 MB/s eta 0:00:05\n",
      "   ------- -------------------------------- 8.4/45.9 MB 8.5 MB/s eta 0:00:05\n",
      "   ------- -------------------------------- 8.7/45.9 MB 8.1 MB/s eta 0:00:05\n",
      "   -------- ------------------------------- 9.3/45.9 MB 8.3 MB/s eta 0:00:05\n",
      "   -------- ------------------------------- 9.6/45.9 MB 8.2 MB/s eta 0:00:05\n",
      "   -------- ------------------------------- 10.0/45.9 MB 8.3 MB/s eta 0:00:05\n",
      "   --------- ------------------------------ 10.5/45.9 MB 8.5 MB/s eta 0:00:05\n",
      "   --------- ------------------------------ 10.8/45.9 MB 8.3 MB/s eta 0:00:05\n",
      "   ---------- ----------------------------- 11.5/45.9 MB 8.4 MB/s eta 0:00:05\n",
      "   ---------- ----------------------------- 11.5/45.9 MB 8.4 MB/s eta 0:00:05\n",
      "   ---------- ----------------------------- 11.8/45.9 MB 8.1 MB/s eta 0:00:05\n",
      "   ---------- ----------------------------- 12.3/45.9 MB 8.0 MB/s eta 0:00:05\n",
      "   ---------- ----------------------------- 12.6/45.9 MB 8.5 MB/s eta 0:00:04\n",
      "   ----------- ---------------------------- 12.9/45.9 MB 8.3 MB/s eta 0:00:04\n",
      "   ----------- ---------------------------- 13.4/45.9 MB 8.5 MB/s eta 0:00:04\n",
      "   ----------- ---------------------------- 13.7/45.9 MB 8.4 MB/s eta 0:00:04\n",
      "   ------------ --------------------------- 14.1/45.9 MB 8.5 MB/s eta 0:00:04\n",
      "   ------------ --------------------------- 14.7/45.9 MB 8.6 MB/s eta 0:00:04\n",
      "   ------------ --------------------------- 14.8/45.9 MB 8.4 MB/s eta 0:00:04\n",
      "   ------------- -------------------------- 15.2/45.9 MB 8.4 MB/s eta 0:00:04\n",
      "   ------------- -------------------------- 15.8/45.9 MB 8.7 MB/s eta 0:00:04\n",
      "   -------------- ------------------------- 16.2/45.9 MB 8.6 MB/s eta 0:00:04\n",
      "   -------------- ------------------------- 16.8/45.9 MB 8.7 MB/s eta 0:00:04\n",
      "   -------------- ------------------------- 17.2/45.9 MB 8.5 MB/s eta 0:00:04\n",
      "   --------------- ------------------------ 17.7/45.9 MB 8.7 MB/s eta 0:00:04\n",
      "   --------------- ------------------------ 17.9/45.9 MB 8.6 MB/s eta 0:00:04\n",
      "   ---------------- ----------------------- 18.6/45.9 MB 8.5 MB/s eta 0:00:04\n",
      "   ---------------- ----------------------- 18.9/45.9 MB 9.1 MB/s eta 0:00:03\n",
      "   ---------------- ----------------------- 19.3/45.9 MB 8.7 MB/s eta 0:00:04\n",
      "   ----------------- ---------------------- 19.7/45.9 MB 8.8 MB/s eta 0:00:03\n",
      "   ----------------- ---------------------- 19.9/45.9 MB 8.8 MB/s eta 0:00:03\n",
      "   ----------------- ---------------------- 20.2/45.9 MB 8.6 MB/s eta 0:00:03\n",
      "   ------------------ --------------------- 20.7/45.9 MB 8.7 MB/s eta 0:00:03\n",
      "   ------------------ --------------------- 21.0/45.9 MB 8.8 MB/s eta 0:00:03\n",
      "   ------------------ --------------------- 21.0/45.9 MB 8.3 MB/s eta 0:00:04\n",
      "   ------------------ --------------------- 21.4/45.9 MB 8.2 MB/s eta 0:00:03\n",
      "   ------------------- -------------------- 22.0/45.9 MB 8.6 MB/s eta 0:00:03\n",
      "   ------------------- -------------------- 22.0/45.9 MB 8.3 MB/s eta 0:00:03\n",
      "   ------------------- -------------------- 22.5/45.9 MB 8.3 MB/s eta 0:00:03\n",
      "   -------------------- ------------------- 23.1/45.9 MB 8.4 MB/s eta 0:00:03\n",
      "   -------------------- ------------------- 23.1/45.9 MB 8.3 MB/s eta 0:00:03\n",
      "   -------------------- ------------------- 23.6/45.9 MB 8.2 MB/s eta 0:00:03\n",
      "   --------------------- ------------------ 24.1/45.9 MB 8.4 MB/s eta 0:00:03\n",
      "   --------------------- ------------------ 24.4/45.9 MB 8.1 MB/s eta 0:00:03\n",
      "   --------------------- ------------------ 24.9/45.9 MB 8.3 MB/s eta 0:00:03\n",
      "   --------------------- ------------------ 25.2/45.9 MB 8.2 MB/s eta 0:00:03\n",
      "   ---------------------- ----------------- 25.7/45.9 MB 8.2 MB/s eta 0:00:03\n",
      "   ---------------------- ----------------- 26.2/45.9 MB 8.3 MB/s eta 0:00:03\n",
      "   ---------------------- ----------------- 26.3/45.9 MB 8.1 MB/s eta 0:00:03\n",
      "   ----------------------- ---------------- 26.7/45.9 MB 8.0 MB/s eta 0:00:03\n",
      "   ----------------------- ---------------- 27.1/45.9 MB 8.1 MB/s eta 0:00:03\n",
      "   ----------------------- ---------------- 27.4/45.9 MB 8.0 MB/s eta 0:00:03\n",
      "   ------------------------ --------------- 27.7/45.9 MB 7.9 MB/s eta 0:00:03\n",
      "   ------------------------ --------------- 28.1/45.9 MB 8.0 MB/s eta 0:00:03\n",
      "   ------------------------ --------------- 28.3/45.9 MB 8.0 MB/s eta 0:00:03\n",
      "   ------------------------ --------------- 28.3/45.9 MB 8.0 MB/s eta 0:00:03\n",
      "   ------------------------- -------------- 28.7/45.9 MB 7.4 MB/s eta 0:00:03\n",
      "   ------------------------- -------------- 29.4/45.9 MB 7.7 MB/s eta 0:00:03\n",
      "   ------------------------- -------------- 29.6/45.9 MB 7.5 MB/s eta 0:00:03\n",
      "   -------------------------- ------------- 30.1/45.9 MB 7.4 MB/s eta 0:00:03\n",
      "   -------------------------- ------------- 30.4/45.9 MB 7.7 MB/s eta 0:00:03\n",
      "   -------------------------- ------------- 30.7/45.9 MB 7.5 MB/s eta 0:00:03\n",
      "   --------------------------- ------------ 31.2/45.9 MB 7.9 MB/s eta 0:00:02\n",
      "   --------------------------- ------------ 31.6/45.9 MB 7.9 MB/s eta 0:00:02\n",
      "   ---------------------------- ----------- 32.1/45.9 MB 7.9 MB/s eta 0:00:02\n",
      "   ---------------------------- ----------- 32.5/45.9 MB 8.2 MB/s eta 0:00:02\n",
      "   ---------------------------- ----------- 32.9/45.9 MB 8.0 MB/s eta 0:00:02\n",
      "   ----------------------------- ---------- 33.4/45.9 MB 8.3 MB/s eta 0:00:02\n",
      "   ----------------------------- ---------- 33.5/45.9 MB 8.3 MB/s eta 0:00:02\n",
      "   ----------------------------- ---------- 34.0/45.9 MB 8.0 MB/s eta 0:00:02\n",
      "   ------------------------------ --------- 34.6/45.9 MB 8.2 MB/s eta 0:00:02\n",
      "   ------------------------------ --------- 34.9/45.9 MB 8.0 MB/s eta 0:00:02\n",
      "   ------------------------------ --------- 35.3/45.9 MB 8.0 MB/s eta 0:00:02\n",
      "   ------------------------------- -------- 35.6/45.9 MB 8.2 MB/s eta 0:00:02\n",
      "   ------------------------------- -------- 36.1/45.9 MB 8.1 MB/s eta 0:00:02\n",
      "   ------------------------------- -------- 36.7/45.9 MB 8.4 MB/s eta 0:00:02\n",
      "   -------------------------------- ------- 37.1/45.9 MB 8.2 MB/s eta 0:00:02\n",
      "   -------------------------------- ------- 37.6/45.9 MB 8.4 MB/s eta 0:00:01\n",
      "   -------------------------------- ------- 37.8/45.9 MB 8.4 MB/s eta 0:00:01\n",
      "   --------------------------------- ------ 38.4/45.9 MB 8.5 MB/s eta 0:00:01\n",
      "   --------------------------------- ------ 38.8/45.9 MB 8.8 MB/s eta 0:00:01\n",
      "   ---------------------------------- ----- 39.3/45.9 MB 8.8 MB/s eta 0:00:01\n",
      "   ---------------------------------- ----- 39.8/45.9 MB 9.2 MB/s eta 0:00:01\n",
      "   ----------------------------------- ---- 40.3/45.9 MB 9.0 MB/s eta 0:00:01\n",
      "   ----------------------------------- ---- 40.7/45.9 MB 9.2 MB/s eta 0:00:01\n",
      "   ----------------------------------- ---- 40.9/45.9 MB 9.2 MB/s eta 0:00:01\n",
      "   ----------------------------------- ---- 41.3/45.9 MB 8.8 MB/s eta 0:00:01\n",
      "   ------------------------------------ --- 41.9/45.9 MB 9.1 MB/s eta 0:00:01\n",
      "   ------------------------------------ --- 42.1/45.9 MB 8.8 MB/s eta 0:00:01\n",
      "   ------------------------------------- -- 42.6/45.9 MB 9.0 MB/s eta 0:00:01\n",
      "   ------------------------------------- -- 43.0/45.9 MB 8.8 MB/s eta 0:00:01\n",
      "   ------------------------------------- -- 43.6/45.9 MB 8.7 MB/s eta 0:00:01\n",
      "   -------------------------------------- - 44.0/45.9 MB 9.2 MB/s eta 0:00:01\n",
      "   -------------------------------------- - 44.4/45.9 MB 9.0 MB/s eta 0:00:01\n",
      "   ---------------------------------------  44.9/45.9 MB 9.1 MB/s eta 0:00:01\n",
      "   ---------------------------------------  45.4/45.9 MB 9.2 MB/s eta 0:00:01\n",
      "   ---------------------------------------  45.8/45.9 MB 9.1 MB/s eta 0:00:01\n",
      "   ---------------------------------------  45.9/45.9 MB 9.0 MB/s eta 0:00:01\n",
      "   ---------------------------------------  45.9/45.9 MB 9.0 MB/s eta 0:00:01\n",
      "   ---------------------------------------  45.9/45.9 MB 9.0 MB/s eta 0:00:01\n",
      "   ---------------------------------------  45.9/45.9 MB 9.0 MB/s eta 0:00:01\n",
      "   ---------------------------------------  45.9/45.9 MB 9.0 MB/s eta 0:00:01\n",
      "   ---------------------------------------  45.9/45.9 MB 9.0 MB/s eta 0:00:01\n",
      "   ---------------------------------------  45.9/45.9 MB 9.0 MB/s eta 0:00:01\n",
      "   ---------------------------------------- 45.9/45.9 MB 7.1 MB/s eta 0:00:00\n",
      "Using cached smart_open-7.3.0.post1-py3-none-any.whl (61 kB)\n",
      "Downloading wrapt-1.17.3-cp312-cp312-win_amd64.whl (38 kB)\n",
      "Installing collected packages: wrapt, tqdm, scipy, smart-open, gensim, node2vec\n",
      "  Attempting uninstall: scipy\n",
      "    Found existing installation: scipy 1.16.1\n",
      "    Uninstalling scipy-1.16.1:\n",
      "      Successfully uninstalled scipy-1.16.1\n",
      "Successfully installed gensim-4.3.3 node2vec-0.5.0 scipy-1.13.1 smart-open-7.3.0.post1 tqdm-4.67.1 wrapt-1.17.3\n",
      "Note: you may need to restart the kernel to use updated packages.\n"
     ]
    },
    {
     "name": "stderr",
     "output_type": "stream",
     "text": [
      "  WARNING: Failed to remove contents in a temporary directory 'C:\\Users\\acast\\AppData\\Local\\Programs\\Python\\Python312\\Lib\\site-packages\\~cipy.libs'.\n",
      "  You can safely remove it manually.\n",
      "  WARNING: Failed to remove contents in a temporary directory 'C:\\Users\\acast\\AppData\\Local\\Programs\\Python\\Python312\\Lib\\site-packages\\~cipy'.\n",
      "  You can safely remove it manually.\n",
      "\n",
      "[notice] A new release of pip is available: 24.0 -> 25.2\n",
      "[notice] To update, run: C:\\Users\\acast\\AppData\\Local\\Programs\\Python\\Python312\\python.exe -m pip install --upgrade pip\n"
     ]
    }
   ],
   "source": [
    "pip install node2vec"
   ]
  },
  {
   "cell_type": "code",
   "execution_count": 6,
   "id": "28de01e0-40c5-4a4f-8cab-f2e8b53228bc",
   "metadata": {},
   "outputs": [],
   "source": [
    "import node2vec"
   ]
  },
  {
   "cell_type": "code",
   "execution_count": 7,
   "id": "e6d41776-dc31-4fa9-925e-7fd527592bd9",
   "metadata": {},
   "outputs": [],
   "source": [
    "import random"
   ]
  },
  {
   "cell_type": "code",
   "execution_count": 8,
   "id": "1186308e-a437-4cea-b232-47f28423f6e6",
   "metadata": {},
   "outputs": [],
   "source": [
    "import itertools"
   ]
  },
  {
   "cell_type": "code",
   "execution_count": 9,
   "id": "1f549a22-dd3d-4038-b87e-76f48d030146",
   "metadata": {},
   "outputs": [],
   "source": [
    "from linkpred.evaluation import Pair"
   ]
  },
  {
   "cell_type": "code",
   "execution_count": 10,
   "id": "7baa1deb-a7b6-4df3-805d-4d00550eb4ee",
   "metadata": {},
   "outputs": [],
   "source": [
    "import warnings"
   ]
  },
  {
   "cell_type": "code",
   "execution_count": 11,
   "id": "80a738d9-704e-4a2b-a2ad-470f97eee412",
   "metadata": {},
   "outputs": [
    {
     "name": "stdout",
     "output_type": "stream",
     "text": [
      "Python 3.11.7\n"
     ]
    }
   ],
   "source": [
    "!python --version"
   ]
  },
  {
   "cell_type": "code",
   "execution_count": 12,
   "id": "5c3f60a6-569c-4b38-858d-756d182d0669",
   "metadata": {},
   "outputs": [],
   "source": [
    "from sklearn.model_selection import train_test_split\n",
    "from sklearn.metrics import accuracy_score, classification_report, precision_score, recall_score, confusion_matrix\n",
    "from sklearn.metrics import precision_recall_fscore_support, f1_score, roc_curve, roc_auc_score, auc, precision_recall_curve\n",
    "from sklearn.model_selection import StratifiedKFold, ParameterGrid,  GridSearchCV\n",
    "\n",
    "\n",
    "from sklearn.tree import DecisionTreeClassifier\n",
    "from sklearn.linear_model import LogisticRegression\n",
    "from sklearn.neighbors import KNeighborsClassifier"
   ]
  },
  {
   "cell_type": "code",
   "execution_count": 13,
   "id": "d60dae5d-f450-4dd1-97c2-87eecb60a7dc",
   "metadata": {},
   "outputs": [],
   "source": [
    "with open(\"C:/Users/acast/Desktop/Progetto sna/data collection/grafo_finale.pickle\", 'rb') as f:  # notice the r instead of w\n",
    "    G = pickle.load(f)"
   ]
  },
  {
   "cell_type": "code",
   "execution_count": 14,
   "id": "960404b4-272a-4a8e-b07e-1b42b1d8e4a8",
   "metadata": {},
   "outputs": [
    {
     "data": {
      "text/plain": [
       "False"
      ]
     },
     "execution_count": 14,
     "metadata": {},
     "output_type": "execute_result"
    }
   ],
   "source": [
    "node_degrees = {node: val for (node, val) in G.degree()}\n",
    "node_degrees\n",
    "G_filtered = (G.subgraph([k for k, v in node_degrees.items() if v>= 5])).copy()\n",
    "nx.is_frozen(G_filtered)"
   ]
  },
  {
   "cell_type": "code",
   "execution_count": 15,
   "id": "5bd14d41-c84a-410f-8afb-1ced9e535317",
   "metadata": {},
   "outputs": [
    {
     "data": {
      "text/plain": [
       "(1082, 2675)"
      ]
     },
     "execution_count": 15,
     "metadata": {},
     "output_type": "execute_result"
    }
   ],
   "source": [
    "(len(G_filtered.nodes()), len(G_filtered.edges()))"
   ]
  },
  {
   "cell_type": "code",
   "execution_count": 16,
   "id": "3efc4c82-22e9-4eff-bbaa-c18abbefed7f",
   "metadata": {},
   "outputs": [],
   "source": [
    "graph_components = sorted(nx.connected_components(G_filtered), key=len, reverse=True)"
   ]
  },
  {
   "cell_type": "code",
   "execution_count": 17,
   "id": "d691052e-52ae-4268-9fb4-e246d343f097",
   "metadata": {},
   "outputs": [
    {
     "data": {
      "text/plain": [
       "207"
      ]
     },
     "execution_count": 17,
     "metadata": {},
     "output_type": "execute_result"
    }
   ],
   "source": [
    "del_nodes = []\n",
    "for component in graph_components:\n",
    "  if len(component) <= 5:\n",
    "    for node in component:\n",
    "      del_nodes.append(node)\n",
    "\n",
    "len(del_nodes)"
   ]
  },
  {
   "cell_type": "code",
   "execution_count": 18,
   "id": "cd5294b1-753a-438d-84e3-a0e15bff3263",
   "metadata": {},
   "outputs": [],
   "source": [
    "G_filtered.remove_nodes_from(del_nodes)"
   ]
  },
  {
   "cell_type": "code",
   "execution_count": 19,
   "id": "a38fdfe3-6567-4005-9e52-40941da3123d",
   "metadata": {},
   "outputs": [
    {
     "data": {
      "text/plain": [
       "(875, 2662)"
      ]
     },
     "execution_count": 19,
     "metadata": {},
     "output_type": "execute_result"
    }
   ],
   "source": [
    "#we further filter out in terms of components size\n",
    "(len(G_filtered.nodes()), len(G_filtered.edges()))"
   ]
  },
  {
   "cell_type": "markdown",
   "id": "63bff7ec-5acc-4fc8-858b-0c58391ad22d",
   "metadata": {},
   "source": [
    "### Unsupervised link prediction"
   ]
  },
  {
   "cell_type": "code",
   "execution_count": 20,
   "id": "dd41f2a1-6a9c-42f1-8cdc-69b18f932766",
   "metadata": {},
   "outputs": [],
   "source": [
    "H = G_filtered.copy()\n",
    "test_size = int(len(H) * 0.3) #keep a 30% test set"
   ]
  },
  {
   "cell_type": "code",
   "execution_count": 21,
   "id": "32c4a7e3-b1b3-4fe4-abe3-87045cbcd61f",
   "metadata": {},
   "outputs": [
    {
     "name": "stdout",
     "output_type": "stream",
     "text": [
      "Training nodes:  875\n",
      "Training edges:  2448\n",
      "Test nodes:  262\n",
      "Test edges:  214\n"
     ]
    }
   ],
   "source": [
    "random.seed(42)\n",
    "\n",
    "# Converte i nodi in lista\n",
    "nodes = list(H.nodes())\n",
    "\n",
    "# Interpreta test_size: frazione (0<test_size<1) oppure intero\n",
    "k = int(round(test_size * len(nodes))) if 0 < test_size < 1 else int(test_size)\n",
    "k = max(1, min(k, len(nodes)))  # clamp per sicurezza\n",
    "\n",
    "# Campiona i nodi e crea il subgrafo di test\n",
    "test_nodes = random.sample(nodes, k)\n",
    "test = H.subgraph(test_nodes).copy()\n",
    "\n",
    "# Training = copia del grafo senza gli archi presenti nel subgrafo di test\n",
    "training = H.copy()\n",
    "training.remove_edges_from(list(test.edges()))\n",
    "\n",
    "print(\"Training nodes: \", training.number_of_nodes())\n",
    "print(\"Training edges: \", training.number_of_edges())\n",
    "print(\"Test nodes: \", test.number_of_nodes())\n",
    "print(\"Test edges: \", test.number_of_edges())\n",
    "\n"
   ]
  },
  {
   "cell_type": "code",
   "execution_count": 22,
   "id": "3507f6fc-dedf-4221-a674-b18738eb82c6",
   "metadata": {},
   "outputs": [],
   "source": [
    "# Node set\n",
    "nodes = list(H.nodes())\n",
    "nodes.extend(list(test.nodes()))"
   ]
  },
  {
   "cell_type": "code",
   "execution_count": 23,
   "id": "f638b3ae-bfde-4d22-99f9-7b91e34a7a79",
   "metadata": {},
   "outputs": [],
   "source": [
    "# Compute the test set and the universe set\n",
    "test = [Pair(i) for i in test.edges()]\n",
    "universe = set([Pair(i) for i in itertools.product(nodes, nodes) if i[0]!=i[1]])"
   ]
  },
  {
   "cell_type": "code",
   "execution_count": 24,
   "id": "c643a935-e3fa-424d-88d2-d6501baa2eab",
   "metadata": {},
   "outputs": [
    {
     "data": {
      "text/plain": [
       "382375"
      ]
     },
     "execution_count": 24,
     "metadata": {},
     "output_type": "execute_result"
    }
   ],
   "source": [
    "len(universe)"
   ]
  },
  {
   "cell_type": "code",
   "execution_count": 39,
   "id": "8820e192-cbce-4b42-8a81-fc6b7cb380e6",
   "metadata": {},
   "outputs": [],
   "source": [
    "#perform unsupervised training and predictions with different methods\n",
    "\n",
    "cn = linkpred.predictors.CommonNeighbours(training, excluded=training.edges())\n",
    "cn_results = cn.predict()\n",
    "\n",
    "aa = linkpred.predictors.AdamicAdar(training, excluded=training.edges())\n",
    "aa_results = aa.predict()\n",
    "\n",
    "jc = linkpred.predictors.Jaccard(training, excluded=training.edges())\n",
    "jc_results = jc.predict()\n",
    "\n",
    "simrank = linkpred.predictors.SimRank(training, excluded=training.edges())\n",
    "simrank_results_03 = simrank.predict(c=0.3)\n",
    "simrank_results_05 = simrank.predict(c=0.5)\n",
    "simrank_results_07 = simrank.predict(c=0.7)\n",
    "\n",
    "random = linkpred.predictors.Random(training, excluded=training.edges())\n",
    "rnd_results = random.predict()"
   ]
  },
  {
   "cell_type": "code",
   "execution_count": 40,
   "id": "3398f7ce-1957-48f4-ac03-423eadacd15d",
   "metadata": {},
   "outputs": [
    {
     "name": "stdout",
     "output_type": "stream",
     "text": [
      "\n",
      " CommonNeighbours \n",
      "\n",
      "Dímelo Flow – Boy Wonder CF 15.0\n",
      "Trap Capos – Boy Wonder CF 14.0\n",
      "Metro Boomin – DJ Khaled 13.0\n",
      "Dímelo Flow – Los Legendarios 12.0\n",
      "Nicki Minaj – DJ Khaled 11.0\n",
      "Boy Wonder CF – Brytiago 11.0\n",
      "Young Thug – Future 10.0\n",
      "Dímelo Flow – Mau y Ricky 10.0\n",
      "Dímelo Flow – Brytiago 10.0\n",
      "Calvin Harris – A$AP Ferg 9.0\n",
      "\n",
      " AdamicAdar \n",
      "\n",
      "Trap Capos – Boy Wonder CF 7.079545779899078\n",
      "Dímelo Flow – Boy Wonder CF 6.179835234609303\n",
      "Boy Wonder CF – Brytiago 5.52420752362467\n",
      "Dímelo Flow – Los Legendarios 5.301106786725891\n",
      "Metro Boomin – DJ Khaled 5.236203152744218\n",
      "Dímelo Flow – Mau y Ricky 4.8887561311971295\n",
      "Nicki Minaj – DJ Khaled 4.736441673240446\n",
      "Dímelo Flow – Sebastian Yatra 4.45763845849576\n",
      "Dímelo Flow – Brytiago 4.253367339977637\n",
      "DJ Khaled – Maroon 5 4.103116690400636\n",
      "\n",
      " Jaccard \n",
      "\n",
      "Duckjay – Mainstreet 1.0\n",
      "George Harrison – Ozzy Osbourne 1.0\n",
      "George Harrison – Tina Turner 1.0\n",
      "Manu Chao – Hank Williams, Jr. 1.0\n",
      "Leo Dan – Liberación 1.0\n",
      "Leo Dan – Pesado 1.0\n",
      "Ozzy Osbourne – Tina Turner 1.0\n",
      "Amy Winehouse – Beastie Boys 1.0\n",
      "Liberación – Pesado 1.0\n",
      "Witt Lowry – Agust D 1.0\n",
      "\n",
      " SimRank_03 \n",
      "\n",
      "Witt Lowry – Agust D 0.30000710989969653\n",
      "Ronnie Flex – Josylvio 0.3000070952447769\n",
      "George Harrison – Ozzy Osbourne 0.30000708806533855\n",
      "George Harrison – Tina Turner 0.30000708806533855\n",
      "Ozzy Osbourne – Tina Turner 0.30000708806533855\n",
      "Nightcrawlers – Simply Red 0.30000708791070085\n",
      "Leo Dan – Liberación 0.30000708360719897\n",
      "Leo Dan – Pesado 0.30000708360719897\n",
      "Liberación – Pesado 0.30000708360719897\n",
      "Manu Chao – Hank Williams, Jr. 0.3000070835734022\n",
      "\n",
      " SimRank_05 \n",
      "\n",
      "Witt Lowry – Agust D 0.50001188088597\n",
      "Ronnie Flex – Josylvio 0.5000118399055441\n",
      "George Harrison – Ozzy Osbourne 0.5000118201015122\n",
      "George Harrison – Tina Turner 0.5000118201015122\n",
      "Ozzy Osbourne – Tina Turner 0.5000118201015122\n",
      "Nightcrawlers – Simply Red 0.5000118193850047\n",
      "Leo Dan – Liberación 0.5000118075222514\n",
      "Leo Dan – Pesado 0.5000118075222514\n",
      "Liberación – Pesado 0.5000118075222514\n",
      "Manu Chao – Hank Williams, Jr. 0.5000118073664978\n",
      "\n",
      " SimRank_07 \n",
      "\n",
      "Witt Lowry – Agust D 0.7000166937535983\n",
      "Ronnie Flex – Josylvio 0.7000166128943857\n",
      "George Harrison – Ozzy Osbourne 0.7000165743502315\n",
      "George Harrison – Tina Turner 0.7000165743502315\n",
      "Ozzy Osbourne – Tina Turner 0.7000165743502315\n",
      "Nightcrawlers – Simply Red 0.7000165723824137\n",
      "Leo Dan – Liberación 0.7000165493109688\n",
      "Leo Dan – Pesado 0.7000165493109688\n",
      "Liberación – Pesado 0.7000165493109688\n",
      "Manu Chao – Hank Williams, Jr. 0.7000165488855508\n",
      "\n",
      " Random \n",
      "\n",
      "Shawn Mendes – Avril Lavigne 0.9999981938283067\n",
      "Luck Ra – Limp Bizkit 0.9999969601742108\n",
      "Nicki Nicole – Jorge & Mateus 0.9999962109754715\n",
      "Alka Yagnik – Gucci Mane 0.9999944223516961\n",
      "Rihanna – Darkiel 0.9999891422757239\n",
      "Ghostface Killah – A.R. Rahman 0.9999818084079438\n",
      "Willie Nelson – Money Man 0.9999786957613781\n",
      "Sin Bandera – T-Pain 0.9999766211030285\n",
      "Fireboy DML – Sido 0.9999758153622291\n",
      "Dave East – G. V. Prakash 0.9999749381692202\n"
     ]
    }
   ],
   "source": [
    "def edge_to_names(edge, G):\n",
    "    u, v = edge\n",
    "    u_name = G.nodes[u].get(\"artist_name\", u)\n",
    "    v_name = G.nodes[v].get(\"artist_name\", v)\n",
    "    return f\"{u_name} – {v_name}\"\n",
    "\n",
    "def print_top(title, results, G, n=10):\n",
    "    print(f\"\\n {title} \\n\")\n",
    "    top = results.top(n)\n",
    "    for edge, score in top.items():\n",
    "        print(edge_to_names(edge, G), score)\n",
    "\n",
    "# uso\n",
    "print_top(\"CommonNeighbours\", cn_results, G)\n",
    "print_top(\"AdamicAdar\", aa_results, G)\n",
    "print_top(\"Jaccard\", jc_results, G)\n",
    "print_top(\"SimRank_03\", simrank_results_03, G)\n",
    "print_top(\"SimRank_05\", simrank_results_05, G)\n",
    "print_top(\"SimRank_07\", simrank_results_07, G)\n",
    "print_top(\"Random\", rnd_results, G)\n"
   ]
  },
  {
   "cell_type": "code",
   "execution_count": 65,
   "id": "8041333a-05b9-4fcc-bcba-716e43e54230",
   "metadata": {},
   "outputs": [],
   "source": [
    "cn_evaluation = linkpred.evaluation.EvaluationSheet(cn_results, test, universe)"
   ]
  },
  {
   "cell_type": "code",
   "execution_count": 66,
   "id": "53c1c3b2-8e81-44a0-bb2d-2a8dbb4bc40f",
   "metadata": {},
   "outputs": [],
   "source": [
    "aa_evaluation = linkpred.evaluation.EvaluationSheet(aa_results, test, universe)"
   ]
  },
  {
   "cell_type": "code",
   "execution_count": 67,
   "id": "69360c83-f4a8-4412-a5da-8f291837c83a",
   "metadata": {},
   "outputs": [],
   "source": [
    "jc_evaluation = linkpred.evaluation.EvaluationSheet(jc_results, test, universe)"
   ]
  },
  {
   "cell_type": "code",
   "execution_count": 68,
   "id": "9ea34adf-0607-4d1d-a63f-a8889dbc5387",
   "metadata": {},
   "outputs": [],
   "source": [
    "rn_evaluation = linkpred.evaluation.EvaluationSheet(rnd_results, test, universe)"
   ]
  },
  {
   "cell_type": "code",
   "execution_count": 69,
   "id": "401740da-b9e9-4ba9-ac01-1e807f73b3d8",
   "metadata": {},
   "outputs": [],
   "source": [
    "simrank_evaluation_03 = linkpred.evaluation.EvaluationSheet(simrank_results_03, test, universe)\n",
    "simrank_evaluation_05 = linkpred.evaluation.EvaluationSheet(simrank_results_05, test, universe)\n",
    "simrank_evaluation_07 = linkpred.evaluation.EvaluationSheet(simrank_results_07, test, universe)"
   ]
  },
  {
   "cell_type": "code",
   "execution_count": 70,
   "id": "0db2e513-f42f-4f1b-9613-719345465286",
   "metadata": {},
   "outputs": [
    {
     "data": {
      "text/plain": [
       "({'CommonNeighbors': 0.005257323080233823,\n",
       "  'AdamicAdar': 0.005836696308690376,\n",
       "  'Jaccard': 0.00548878019943673,\n",
       "  'SimRank_03': 0.7658468567538868,\n",
       "  'SimRank_05': 0.7667611034414165,\n",
       "  'SimRank_07': 0.7705190577501857,\n",
       "  'Random': 0.4905739054047795},\n",
       " {'CommonNeighbors': 0.001078171803570999,\n",
       "  'AdamicAdar': 0.001121660431976227,\n",
       "  'Jaccard': 0.0010595022213893226,\n",
       "  'SimRank_03': 0.0023447165895310643,\n",
       "  'SimRank_05': 0.0023604169679428064,\n",
       "  'SimRank_07': 0.0023921846316047627,\n",
       "  'Random': 0.0006155533730649946})"
      ]
     },
     "execution_count": 70,
     "metadata": {},
     "output_type": "execute_result"
    }
   ],
   "source": [
    "evaluations_dict = {'CommonNeighbors' : cn_evaluation, 'AdamicAdar' : aa_evaluation,\n",
    "                'Jaccard' : jc_evaluation, 'SimRank_03' :simrank_evaluation_03,\n",
    "                'SimRank_05' : simrank_evaluation_05, 'SimRank_07' : simrank_evaluation_07,\n",
    "                'Random' : rn_evaluation}\n",
    "\n",
    "evaluations_dict_AUC = { method : auc(evaluation.fallout(), evaluation.recall()) for method, evaluation in evaluations_dict.items()}\n",
    "evaluations_dict_AUC_PR = { method : auc(evaluation.recall(), evaluation.precision()) for method, evaluation in evaluations_dict.items()}\n",
    "\n",
    "(evaluations_dict_AUC,evaluations_dict_AUC_PR)"
   ]
  },
  {
   "cell_type": "code",
   "execution_count": 71,
   "id": "0a685931-3ccd-4a35-9e03-61551c85cebc",
   "metadata": {},
   "outputs": [
    {
     "data": {
      "image/png": "[encoded data removed]",
      "text/plain": [
       "<Figure size 800x500 with 1 Axes>"
      ]
     },
     "metadata": {},
     "output_type": "display_data"
    }
   ],
   "source": [
    "plt.figure(figsize=(8,5))\n",
    "plt.plot(cn_evaluation.fallout(), cn_evaluation.recall(), label=\"Common Neighbors \" \"(area = \" + str(evaluations_dict_AUC[\"CommonNeighbors\"])[:5] + \")\")\n",
    "plt.plot(aa_evaluation.fallout(), aa_evaluation.recall(), label=\"AdamicAdar \" \"(area = \" + str(evaluations_dict_AUC[\"AdamicAdar\"])[:5] + \")\")\n",
    "plt.plot(jc_evaluation.fallout(), jc_evaluation.recall(), label=\"Jaccard \" \"(area = \" + str(evaluations_dict_AUC[\"Jaccard\"])[:5] + \")\")\n",
    "\n",
    "\n",
    "plt.xlabel('FPR', fontsize=10)\n",
    "plt.ylabel('TPR', fontsize = 10)\n",
    "plt.tick_params(axis='both', which='major', labelsize=10)\n",
    "plt.legend(loc = \"lower right\")\n",
    "plt.show()\n"
   ]
  },
  {
   "cell_type": "code",
   "execution_count": 72,
   "id": "be893188-7849-4a4b-ab76-d3d7fa9be399",
   "metadata": {},
   "outputs": [
    {
     "data": {
      "image/png": "[encoded data removed]",
      "text/plain": [
       "<Figure size 800x500 with 1 Axes>"
      ]
     },
     "metadata": {},
     "output_type": "display_data"
    }
   ],
   "source": [
    "plt.figure(figsize=(8,5))\n",
    "\n",
    "plt.plot(cn_evaluation.recall(), cn_evaluation.precision(), label = \"Common Neighbor \" \"(area = \" + str(evaluations_dict_AUC_PR[\"CommonNeighbors\"])[:5] + \")\")\n",
    "plt.plot(aa_evaluation.recall(), aa_evaluation.precision(), label = \"AdamicAdar \" \"(area = \" + str(evaluations_dict_AUC_PR[\"AdamicAdar\"])[:5] + \")\")\n",
    "plt.plot(jc_evaluation.recall(), jc_evaluation.precision(), label = \"Jaccard \" \"(area = \" + str(evaluations_dict_AUC_PR[\"Jaccard\"])[:5] + \")\")\n",
    "\n",
    "\n",
    "plt.xlabel('Recall', fontsize=10)\n",
    "plt.ylabel('Precision', fontsize = 10)\n",
    "plt.tick_params(axis='both', which='major', labelsize=10)\n",
    "plt.legend(loc = \"lower right\")\n",
    "plt.show()"
   ]
  },
  {
   "cell_type": "code",
   "execution_count": 73,
   "id": "541a5b4c-34af-438c-b4ee-eba584803c24",
   "metadata": {},
   "outputs": [
    {
     "data": {
      "image/png": "[encoded data removed]",
      "text/plain": [
       "<Figure size 800x500 with 1 Axes>"
      ]
     },
     "metadata": {},
     "output_type": "display_data"
    }
   ],
   "source": [
    "plt.figure(figsize=(8,5))\n",
    "plt.plot(simrank_evaluation_03.fallout(), simrank_evaluation_03.recall(), label=\"SimRank_03 \" \"(area = \" + str(evaluations_dict_AUC[\"SimRank_03\"])[:5] + \")\")\n",
    "plt.plot(simrank_evaluation_05.fallout(), simrank_evaluation_05.recall(), label=\"SimRank_05 \" \"(area = \" + str(evaluations_dict_AUC[\"SimRank_05\"])[:5] + \")\")\n",
    "plt.plot(simrank_evaluation_07.fallout(), simrank_evaluation_07.recall(), label=\"SimRank_07 \" \"(area = \" + str(evaluations_dict_AUC[\"SimRank_07\"])[:5] + \")\")\n",
    "plt.plot(rn_evaluation.fallout(), rn_evaluation.recall(), label=\"Random \" \"(area = \" + str(evaluations_dict_AUC[\"Random\"])[:5] + \")\")\n",
    "\n",
    "\n",
    "\n",
    "plt.xlabel('FPR', fontsize=10)\n",
    "plt.ylabel('TPR', fontsize = 10)\n",
    "plt.tick_params(axis='both', which='major', labelsize=10)\n",
    "plt.legend(loc = \"lower right\")\n",
    "plt.show()\n"
   ]
  },
  {
   "cell_type": "code",
   "execution_count": 74,
   "id": "afaf6c53-844a-4426-b72c-ee856949c409",
   "metadata": {},
   "outputs": [
    {
     "data": {
      "image/png": "[encoded data removed]",
      "text/plain": [
       "<Figure size 800x500 with 1 Axes>"
      ]
     },
     "metadata": {},
     "output_type": "display_data"
    }
   ],
   "source": [
    "plt.figure(figsize=(8,5))\n",
    "\n",
    "plt.plot(simrank_evaluation_03.recall(), simrank_evaluation_03.precision(), label = \"SimRank_03 \" \"(area = \" + str(evaluations_dict_AUC_PR[\"SimRank_03\"])[:5] + \")\")\n",
    "plt.plot(simrank_evaluation_05.recall(), simrank_evaluation_05.precision(), label = \"SimRank_05 \" \"(area = \" + str(evaluations_dict_AUC_PR[\"SimRank_05\"])[:5] + \")\")\n",
    "plt.plot(simrank_evaluation_07.recall(), simrank_evaluation_07.precision(), label = \"SimRank_07 \" \"(area = \" + str(evaluations_dict_AUC_PR[\"SimRank_07\"])[:5] + \")\")\n",
    "\n",
    "plt.xlabel('Recall', fontsize=10)\n",
    "plt.ylabel('Precision', fontsize = 10)\n",
    "plt.tick_params(axis='both', which='major', labelsize=10)\n",
    "plt.legend(loc = \"lower right\")\n",
    "plt.show()"
   ]
  },
  {
   "cell_type": "code",
   "execution_count": 75,
   "id": "447d06cf-e710-4dca-9316-cd5a924a0323",
   "metadata": {},
   "outputs": [],
   "source": [
    "#check interesections for top 250 results\n",
    "\n",
    "results_dict = {'CommonNeighbours' : cn_results.top(250), 'AdamicAdar ' : aa_results.top(250),\n",
    "                'Jaccard ' : jc_results.top(250), 'SimRank_03' :simrank_results_03.top(250),\n",
    "                'SimRank_05' : simrank_results_05.top(250), 'SimRank_07' : simrank_results_07.top(250),\n",
    "                'Random' : rnd_results.top(250)}\n",
    "\n",
    "results_intersect = {}\n",
    "\n",
    "results_intersect_counts = {}\n",
    "\n",
    "for method, result in results_dict.items():\n",
    "\n",
    "  for method_, result_  in results_dict.items():\n",
    "\n",
    "    curr_intersection = set(result) & set(result_)\n",
    "    results_intersect[method + ' WITH ' + method_] = tuple(curr_intersection)\n",
    "    results_intersect_counts[method + ' WITH ' + method_] = len(curr_intersection)\n",
    "\n"
   ]
  },
  {
   "cell_type": "code",
   "execution_count": 76,
   "id": "ce13083f-f0b1-467e-9fd0-52e28191b5b4",
   "metadata": {},
   "outputs": [
    {
     "data": {
      "text/plain": [
       "{'CommonNeighbours WITH CommonNeighbours': 250,\n",
       " 'CommonNeighbours WITH AdamicAdar ': 177,\n",
       " 'CommonNeighbours WITH Jaccard ': 21,\n",
       " 'CommonNeighbours WITH SimRank_03': 0,\n",
       " 'CommonNeighbours WITH SimRank_05': 0,\n",
       " 'CommonNeighbours WITH SimRank_07': 1,\n",
       " 'CommonNeighbours WITH Random': 1,\n",
       " 'AdamicAdar  WITH CommonNeighbours': 177,\n",
       " 'AdamicAdar  WITH AdamicAdar ': 250,\n",
       " 'AdamicAdar  WITH Jaccard ': 35,\n",
       " 'AdamicAdar  WITH SimRank_03': 0,\n",
       " 'AdamicAdar  WITH SimRank_05': 0,\n",
       " 'AdamicAdar  WITH SimRank_07': 2,\n",
       " 'AdamicAdar  WITH Random': 0,\n",
       " 'Jaccard  WITH CommonNeighbours': 21,\n",
       " 'Jaccard  WITH AdamicAdar ': 35,\n",
       " 'Jaccard  WITH Jaccard ': 250,\n",
       " 'Jaccard  WITH SimRank_03': 140,\n",
       " 'Jaccard  WITH SimRank_05': 141,\n",
       " 'Jaccard  WITH SimRank_07': 147,\n",
       " 'Jaccard  WITH Random': 0,\n",
       " 'SimRank_03 WITH CommonNeighbours': 0,\n",
       " 'SimRank_03 WITH AdamicAdar ': 0,\n",
       " 'SimRank_03 WITH Jaccard ': 140,\n",
       " 'SimRank_03 WITH SimRank_03': 250,\n",
       " 'SimRank_03 WITH SimRank_05': 244,\n",
       " 'SimRank_03 WITH SimRank_07': 229,\n",
       " 'SimRank_03 WITH Random': 0,\n",
       " 'SimRank_05 WITH CommonNeighbours': 0,\n",
       " 'SimRank_05 WITH AdamicAdar ': 0,\n",
       " 'SimRank_05 WITH Jaccard ': 141,\n",
       " 'SimRank_05 WITH SimRank_03': 244,\n",
       " 'SimRank_05 WITH SimRank_05': 250,\n",
       " 'SimRank_05 WITH SimRank_07': 235,\n",
       " 'SimRank_05 WITH Random': 0,\n",
       " 'SimRank_07 WITH CommonNeighbours': 1,\n",
       " 'SimRank_07 WITH AdamicAdar ': 2,\n",
       " 'SimRank_07 WITH Jaccard ': 147,\n",
       " 'SimRank_07 WITH SimRank_03': 229,\n",
       " 'SimRank_07 WITH SimRank_05': 235,\n",
       " 'SimRank_07 WITH SimRank_07': 250,\n",
       " 'SimRank_07 WITH Random': 0,\n",
       " 'Random WITH CommonNeighbours': 1,\n",
       " 'Random WITH AdamicAdar ': 0,\n",
       " 'Random WITH Jaccard ': 0,\n",
       " 'Random WITH SimRank_03': 0,\n",
       " 'Random WITH SimRank_05': 0,\n",
       " 'Random WITH SimRank_07': 0,\n",
       " 'Random WITH Random': 250}"
      ]
     },
     "execution_count": 76,
     "metadata": {},
     "output_type": "execute_result"
    }
   ],
   "source": [
    "results_intersect_counts"
   ]
  },
  {
   "cell_type": "markdown",
   "id": "d936306a-d045-4d48-8437-a261c97d6617",
   "metadata": {},
   "source": [
    "### Supervised Link Prediction"
   ]
  },
  {
   "cell_type": "code",
   "execution_count": 25,
   "id": "3c0cff27-da6c-4c71-8081-a3bad0c5ec47",
   "metadata": {},
   "outputs": [
    {
     "data": {
      "text/plain": [
       "<networkx.classes.graph.Graph at 0x20305a18f50>"
      ]
     },
     "execution_count": 25,
     "metadata": {},
     "output_type": "execute_result"
    }
   ],
   "source": [
    "G"
   ]
  },
  {
   "cell_type": "code",
   "execution_count": 26,
   "id": "45540860-63ca-4899-8cbb-809f11aa574e",
   "metadata": {},
   "outputs": [],
   "source": [
    "#import node2vec and binary operators on node emebeddings\n",
    "from node2vec import Node2Vec\n",
    "from node2vec.edges import AverageEmbedder, HadamardEmbedder, WeightedL1Embedder, WeightedL2Embedder"
   ]
  },
  {
   "cell_type": "code",
   "execution_count": 27,
   "id": "7b03f693-46a4-4065-813e-fbf0d48b20c2",
   "metadata": {},
   "outputs": [],
   "source": [
    "import random\n",
    "import networkx as nx\n",
    "\n",
    "def edge_split(G, test_fraction=0.2, seed=42):\n",
    "    \"\"\"\n",
    "    Replica EdgeSplitter di StellarGraph:\n",
    "    - G: grafo originale\n",
    "    - test_fraction: frazione di archi da mettere nel test set\n",
    "    - seed: per riproducibilità\n",
    "    \n",
    "    Ritorna:\n",
    "    - G_train: grafo con solo gli archi di training\n",
    "    - test_pos: lista archi positivi (rimossi)\n",
    "    - test_neg: lista archi negativi (coppie non collegate)\n",
    "    \"\"\"\n",
    "    random.seed(seed)\n",
    "    all_edges = list(G.edges())\n",
    "    n_test = int(len(all_edges) * test_fraction)\n",
    "\n",
    "    # scegli archi positivi di test\n",
    "    test_pos = random.sample(all_edges, n_test)\n",
    "\n",
    "    # grafo di training = copia senza archi di test\n",
    "    G_train = G.copy()\n",
    "    G_train.remove_edges_from(test_pos)\n",
    "\n",
    "    # genera coppie negative (uguale numero dei positivi)\n",
    "    nodes = list(G.nodes())\n",
    "    test_neg = set()\n",
    "    while len(test_neg) < len(test_pos):\n",
    "        u, v = random.sample(nodes, 2)\n",
    "        if not G.has_edge(u, v):\n",
    "            test_neg.add(tuple(sorted((u, v))))\n",
    "    test_neg = list(test_neg)\n",
    "\n",
    "    return G_train, test_pos, test_neg\n"
   ]
  },
  {
   "cell_type": "code",
   "execution_count": 28,
   "id": "8a6e8acc-621e-4dbf-8f24-22389cc22663",
   "metadata": {},
   "outputs": [
    {
     "name": "stdout",
     "output_type": "stream",
     "text": [
      "Training edges: 11598\n",
      "Test + (positivi): 2899\n",
      "Test - (negativi): 2899\n"
     ]
    }
   ],
   "source": [
    "G_train, test_pos, test_neg = edge_split(G, test_fraction=0.2, seed=42)\n",
    "\n",
    "print(\"Training edges:\", G_train.number_of_edges())\n",
    "print(\"Test + (positivi):\", len(test_pos))\n",
    "print(\"Test - (negativi):\", len(test_neg))\n"
   ]
  },
  {
   "cell_type": "code",
   "execution_count": 29,
   "id": "cdce2c53-93f7-4ba0-850d-30e0eaacdea8",
   "metadata": {},
   "outputs": [],
   "source": [
    "# funzione adattata (simile a train_test_split di EdgeSplitter)\n",
    "def edge_train_test_split(G, p=0.1, seed=42):\n",
    "    \"\"\"\n",
    "    Divide il grafo in train/test come EdgeSplitter di StellarGraph.\n",
    "    Restituisce:\n",
    "    - G_train: grafo con archi di training\n",
    "    - examples: lista di coppie (u,v) = archi test + coppie negative\n",
    "    - labels: lista di etichette (1 se arco reale, 0 se negativo)\n",
    "    \"\"\"\n",
    "    import random\n",
    "    random.seed(seed)\n",
    "\n",
    "    all_edges = list(G.edges())\n",
    "    n_test = int(len(all_edges) * p)\n",
    "\n",
    "    # seleziona archi di test (positivi)\n",
    "    test_pos = random.sample(all_edges, n_test)\n",
    "\n",
    "    # grafo di training\n",
    "    G_train = G.copy()\n",
    "    G_train.remove_edges_from(test_pos)\n",
    "\n",
    "    # genera archi negativi (pari numero di positivi)\n",
    "    nodes = list(G.nodes())\n",
    "    test_neg = set()\n",
    "    while len(test_neg) < len(test_pos):\n",
    "        u, v = random.sample(nodes, 2)\n",
    "        if not G.has_edge(u, v):\n",
    "            test_neg.add(tuple(sorted((u, v))))\n",
    "    test_neg = list(test_neg)\n",
    "\n",
    "    # prepara examples e labels\n",
    "    examples = test_pos + test_neg\n",
    "    labels = [1]*len(test_pos) + [0]*len(test_neg)\n",
    "\n",
    "    return G_train, examples, labels\n"
   ]
  },
  {
   "cell_type": "code",
   "execution_count": 30,
   "id": "5fe5a4a9-c506-4a36-9951-e0b1d55e54c0",
   "metadata": {},
   "outputs": [
    {
     "name": "stdout",
     "output_type": "stream",
     "text": [
      "Train edges: 13048\n",
      "Examples: 2898\n",
      "Labels distribuzione: 1449 positivi / 1449 negativi\n"
     ]
    }
   ],
   "source": [
    "graph_test, examples_test, labels_test = edge_train_test_split(G, p=0.1, seed=42)\n",
    "\n",
    "print(\"Train edges:\", graph_test.number_of_edges())\n",
    "print(\"Examples:\", len(examples_test))\n",
    "print(\"Labels distribuzione:\", sum(labels_test), \"positivi /\", len(labels_test)-sum(labels_test), \"negativi\")\n"
   ]
  },
  {
   "cell_type": "code",
   "execution_count": 31,
   "id": "cb248ec2-bfa7-486a-bc6a-bf67eb8e5554",
   "metadata": {},
   "outputs": [
    {
     "name": "stdout",
     "output_type": "stream",
     "text": [
      "Train edges dopo secondo split: 11744\n",
      "Examples totali: 2608\n",
      "Positivi: 1304 Negativi: 1304\n",
      "Train examples: 1956\n",
      "Validation examples: 652\n"
     ]
    }
   ],
   "source": [
    "# secondo split: dal grafo di training otteniamo un altro split 10%\n",
    "graph_train, examples, labels = edge_train_test_split(graph_test, p=0.1, seed=123)\n",
    "\n",
    "print(\"Train edges dopo secondo split:\", graph_train.number_of_edges())\n",
    "print(\"Examples totali:\", len(examples))\n",
    "print(\"Positivi:\", sum(labels), \"Negativi:\", len(labels) - sum(labels))\n",
    "\n",
    "# separa in train e validation (model selection)\n",
    "from sklearn.model_selection import train_test_split\n",
    "\n",
    "examples_train, examples_model_selection, labels_train, labels_model_selection = train_test_split(\n",
    "    examples, labels, train_size=0.75, test_size=0.25, random_state=123, stratify=labels\n",
    ")\n",
    "\n",
    "print(\"Train examples:\", len(examples_train))\n",
    "print(\"Validation examples:\", len(examples_model_selection))\n"
   ]
  },
  {
   "cell_type": "code",
   "execution_count": 32,
   "id": "d5690ce7-a8e9-4361-9c92-cce038da3edd",
   "metadata": {},
   "outputs": [
    {
     "data": {
      "text/html": [
       "<div>\n",
       "<style scoped>\n",
       "    .dataframe tbody tr th:only-of-type {\n",
       "        vertical-align: middle;\n",
       "    }\n",
       "\n",
       "    .dataframe tbody tr th {\n",
       "        vertical-align: top;\n",
       "    }\n",
       "\n",
       "    .dataframe thead th {\n",
       "        text-align: right;\n",
       "    }\n",
       "</style>\n",
       "<table border=\"1\" class=\"dataframe\">\n",
       "  <thead>\n",
       "    <tr style=\"text-align: right;\">\n",
       "      <th></th>\n",
       "      <th>Number of Examples</th>\n",
       "      <th>Hidden from</th>\n",
       "      <th>Picked from</th>\n",
       "      <th>Use</th>\n",
       "    </tr>\n",
       "    <tr>\n",
       "      <th>Split</th>\n",
       "      <th></th>\n",
       "      <th></th>\n",
       "      <th></th>\n",
       "      <th></th>\n",
       "    </tr>\n",
       "  </thead>\n",
       "  <tbody>\n",
       "    <tr>\n",
       "      <th>Training Set</th>\n",
       "      <td>1956</td>\n",
       "      <td>Train Graph</td>\n",
       "      <td>Test Graph</td>\n",
       "      <td>Train the Link Classifier</td>\n",
       "    </tr>\n",
       "    <tr>\n",
       "      <th>Model Selection</th>\n",
       "      <td>652</td>\n",
       "      <td>Train Graph</td>\n",
       "      <td>Test Graph</td>\n",
       "      <td>Select the best Link Classifier model</td>\n",
       "    </tr>\n",
       "    <tr>\n",
       "      <th>Test set</th>\n",
       "      <td>2898</td>\n",
       "      <td>Test Graph</td>\n",
       "      <td>Full Graph</td>\n",
       "      <td>Evaluate the best Link Classifier</td>\n",
       "    </tr>\n",
       "  </tbody>\n",
       "</table>\n",
       "</div>"
      ],
      "text/plain": [
       "                 Number of Examples  Hidden from Picked from  \\\n",
       "Split                                                          \n",
       "Training Set                   1956  Train Graph  Test Graph   \n",
       "Model Selection                 652  Train Graph  Test Graph   \n",
       "Test set                       2898   Test Graph  Full Graph   \n",
       "\n",
       "                                                   Use  \n",
       "Split                                                   \n",
       "Training Set                 Train the Link Classifier  \n",
       "Model Selection  Select the best Link Classifier model  \n",
       "Test set             Evaluate the best Link Classifier  "
      ]
     },
     "execution_count": 32,
     "metadata": {},
     "output_type": "execute_result"
    }
   ],
   "source": [
    "pd.DataFrame(\n",
    "    [\n",
    "        (\n",
    "            \"Training Set\",\n",
    "            len(examples_train),\n",
    "            \"Train Graph\",\n",
    "            \"Test Graph\",\n",
    "            \"Train the Link Classifier\",\n",
    "        ),\n",
    "        (\n",
    "            \"Model Selection\",\n",
    "            len(examples_model_selection),\n",
    "            \"Train Graph\",\n",
    "            \"Test Graph\",\n",
    "            \"Select the best Link Classifier model\",\n",
    "        ),\n",
    "        (\n",
    "            \"Test set\",\n",
    "            len(examples_test),\n",
    "            \"Test Graph\",\n",
    "            \"Full Graph\",\n",
    "            \"Evaluate the best Link Classifier\",\n",
    "        ),\n",
    "    ],\n",
    "    columns=(\"Split\", \"Number of Examples\", \"Hidden from\", \"Picked from\", \"Use\"),\n",
    ").set_index(\"Split\")"
   ]
  },
  {
   "cell_type": "code",
   "execution_count": 33,
   "id": "06970620-e480-4a65-a50b-cb4a6645e580",
   "metadata": {},
   "outputs": [],
   "source": [
    "#import node2vec and binary operators on node emebeddings\n",
    "from node2vec import Node2Vec\n",
    "from node2vec.edges import AverageEmbedder, HadamardEmbedder, WeightedL1Embedder, WeightedL2Embedder"
   ]
  },
  {
   "cell_type": "code",
   "execution_count": 34,
   "id": "045f6634-76d3-4ff4-8057-d90f091dcb96",
   "metadata": {},
   "outputs": [
    {
     "data": {
      "application/vnd.jupyter.widget-view+json": {
       "model_id": "27361699b0f34951a96077a70b89152b",
       "version_major": 2,
       "version_minor": 0
      },
      "text/plain": [
       "Computing transition probabilities:   0%|          | 0/11083 [00:00<?, ?it/s]"
      ]
     },
     "metadata": {},
     "output_type": "display_data"
    },
    {
     "name": "stderr",
     "output_type": "stream",
     "text": [
      "Generating walks (CPU: 1): 100%|██████████| 10/10 [02:17<00:00, 13.78s/it]\n"
     ]
    }
   ],
   "source": [
    "node2vec = Node2Vec(graph_train)"
   ]
  },
  {
   "cell_type": "code",
   "execution_count": 35,
   "id": "50c74a25-3121-4dd7-8498-395bfd0869eb",
   "metadata": {},
   "outputs": [],
   "source": [
    "model = node2vec.fit()"
   ]
  },
  {
   "cell_type": "code",
   "execution_count": 36,
   "id": "ba96a03e-f43d-4d63-b12d-14cb4b3bdfdb",
   "metadata": {},
   "outputs": [
    {
     "data": {
      "text/plain": [
       "<gensim.models.word2vec.Word2Vec at 0x2030bfe3890>"
      ]
     },
     "execution_count": 36,
     "metadata": {},
     "output_type": "execute_result"
    }
   ],
   "source": [
    "model"
   ]
  },
  {
   "cell_type": "code",
   "execution_count": 37,
   "id": "c9e78d63-73c0-4445-b193-01c67557e470",
   "metadata": {},
   "outputs": [],
   "source": [
    "keyed_vectors=model.wv"
   ]
  },
  {
   "cell_type": "code",
   "execution_count": 38,
   "id": "72a6042a-2c42-4046-9353-7f28351576a9",
   "metadata": {},
   "outputs": [],
   "source": [
    "hadamard_embeds = HadamardEmbedder(keyed_vectors)\n",
    "avg_embeds = AverageEmbedder(keyed_vectors)\n",
    "L1_embeds = WeightedL1Embedder(keyed_vectors)\n",
    "L2_embeds = WeightedL2Embedder(keyed_vectors)"
   ]
  },
  {
   "cell_type": "code",
   "execution_count": 39,
   "id": "ecaf7a8f-a82e-4eb0-a193-5b1c620f8ef4",
   "metadata": {},
   "outputs": [],
   "source": [
    "train_embeddings_hadamard = [hadamard_embeds[str(x[0]),str(x[1])] for x in examples_train]\n",
    "test_embeddings_hadamard = [hadamard_embeds[str(x[0]),str(x[1])] for x in examples_test]"
   ]
  },
  {
   "cell_type": "code",
   "execution_count": 40,
   "id": "81faf2a2-eb7b-46d2-a833-1e51fd15e1ad",
   "metadata": {},
   "outputs": [],
   "source": [
    "train_embeddings_avg = [avg_embeds[str(x[0]),str(x[1])] for x in examples_train]\n",
    "test_embeddings_avg = [avg_embeds[str(x[0]),str(x[1])] for x in examples_test]"
   ]
  },
  {
   "cell_type": "code",
   "execution_count": 41,
   "id": "daeb828a-d53b-4183-abfa-a139d2ee5b47",
   "metadata": {},
   "outputs": [],
   "source": [
    "train_embeddings_l1 = [L1_embeds[str(x[0]),str(x[1])] for x in examples_train]\n",
    "test_embeddings_l1 = [L1_embeds[str(x[0]),str(x[1])] for x in examples_test]"
   ]
  },
  {
   "cell_type": "code",
   "execution_count": 42,
   "id": "ac29b863-2991-4f35-b387-0d049dadd587",
   "metadata": {},
   "outputs": [],
   "source": [
    "train_embeddings_l2 = [L2_embeds[str(x[0]),str(x[1])] for x in examples_train]\n",
    "test_embeddings_l2 = [L2_embeds[str(x[0]),str(x[1])] for x in examples_test]"
   ]
  },
  {
   "cell_type": "code",
   "execution_count": 43,
   "id": "915ca514-925a-4f56-bd98-b9c3b5160fd0",
   "metadata": {},
   "outputs": [],
   "source": [
    "skf = StratifiedKFold(shuffle=True, random_state = 42)"
   ]
  },
  {
   "cell_type": "code",
   "execution_count": 44,
   "id": "3cc1453a-09b4-4bc2-bbab-5c2daa8dc4a5",
   "metadata": {},
   "outputs": [],
   "source": [
    "#define a function to perform gridsearch over a generic hyperparameter space\n",
    "\n",
    "def perform_gridsearch(classifier, param_grid, cv, X_train, y_train, X_test, y_test, scoring = None):\n",
    "\n",
    "  clf = GridSearchCV(estimator = classifier, param_grid = param_grid, n_jobs = -1, cv = cv, scoring = scoring)\n",
    "  clf.fit(X_train, y_train)\n",
    "\n",
    "  best_model = clf.best_estimator_\n",
    "\n",
    "  predictions = best_model.predict(X_test)\n",
    "\n",
    "  print('Best configuration', clf.best_params_)\n",
    "  print('Best mean score for the validation', clf.best_score_)\n",
    "  print('Std for the best mean score across folds',clf.cv_results_['std_test_score'][clf.best_index_])\n",
    "\n",
    "  print('******************')\n",
    "\n",
    "  print('Classification report:')\n",
    "  print(classification_report(y_test, predictions, digits = 7))\n",
    "  print('Confusion matrix:')\n",
    "  cm = confusion_matrix(y_test, predictions)\n",
    "  print(cm)\n",
    "\n",
    "  print('******************')\n",
    "\n",
    "  y_score = best_model.predict_proba(X_test)\n",
    "\n",
    "  fpr, tpr, th = roc_curve(y_test, y_score[:,1])\n",
    "\n",
    "  roc_auc = auc(fpr, tpr)\n",
    "  print('ROC_AUC value: ', roc_auc)\n",
    "\n",
    "  print('******************')\n",
    "\n",
    "  print(clf.cv_results_['mean_test_score'])\n",
    "\n",
    "  return best_model, fpr, tpr\n"
   ]
  },
  {
   "cell_type": "code",
   "execution_count": 45,
   "id": "9d8d7e57-6326-4f64-b8db-58bf9b24599f",
   "metadata": {},
   "outputs": [],
   "source": [
    "parameters_logistic = {'penalty': ('none', 'l2', 'l1'), 'C':[1.0,0.1,0.001],\n",
    "                       'solver' : [ 'lbfgs','newton-cg','liblinear']}\n",
    "\n",
    "parameters_dt = {'min_samples_split': [2,4,6,8,10], 'min_samples_leaf':[1,2,3,5,8,10],\n",
    "                 'criterion': ['gini','entropy']}\n",
    "\n",
    "\n",
    "parameters_knn = {'n_neighbors': [3,5,7,9,11],\n",
    "                 'weights': ['uniform','distance']}\n"
   ]
  },
  {
   "cell_type": "markdown",
   "id": "5eba4575-bd53-4492-a366-4f5857d05523",
   "metadata": {},
   "source": [
    "#### Logistic Regression"
   ]
  },
  {
   "cell_type": "code",
   "execution_count": 46,
   "id": "94cb0bf4-dda3-47b9-b840-5e86722a8484",
   "metadata": {},
   "outputs": [
    {
     "name": "stdout",
     "output_type": "stream",
     "text": [
      "Best configuration {'C': 0.1, 'penalty': 'l2', 'solver': 'liblinear'}\n",
      "Best mean score for the validation 0.7300628947231067\n",
      "Std for the best mean score across folds 0.015108805547555669\n",
      "******************\n",
      "Classification report:\n",
      "              precision    recall  f1-score   support\n",
      "\n",
      "           0  0.8105451 0.6259489 0.7063863      1449\n",
      "           1  0.6953345 0.8536922 0.7664188      1449\n",
      "\n",
      "    accuracy                      0.7398206      2898\n",
      "   macro avg  0.7529398 0.7398206 0.7364026      2898\n",
      "weighted avg  0.7529398 0.7398206 0.7364026      2898\n",
      "\n",
      "Confusion matrix:\n",
      "[[ 907  542]\n",
      " [ 212 1237]]\n",
      "******************\n",
      "ROC_AUC value:  0.7899553296078636\n",
      "******************\n",
      "[       nan        nan        nan 0.72750926 0.72750926 0.72750926\n",
      "        nan        nan 0.72546192        nan        nan        nan\n",
      " 0.72955269 0.72955269 0.73006289        nan        nan 0.67382562\n",
      "        nan        nan        nan 0.68149173 0.68200193 0.62934522\n",
      "        nan        nan 0.5       ]\n"
     ]
    }
   ],
   "source": [
    "#HadamardEmbedder\n",
    "\n",
    "with warnings.catch_warnings():\n",
    "    warnings.simplefilter(\"ignore\")\n",
    "    perform_gridsearch(LogisticRegression(), parameters_logistic, skf, train_embeddings_hadamard, labels_train, test_embeddings_hadamard, labels_test)"
   ]
  },
  {
   "cell_type": "code",
   "execution_count": 47,
   "id": "c52220a9-5430-4a44-841e-1edfc246f2c3",
   "metadata": {},
   "outputs": [
    {
     "name": "stdout",
     "output_type": "stream",
     "text": [
      "Best configuration {'C': 0.001, 'penalty': 'l2', 'solver': 'lbfgs'}\n",
      "Best mean score for the validation 0.6748381961480244\n",
      "Std for the best mean score across folds 0.0322839508741077\n",
      "******************\n",
      "Classification report:\n",
      "              precision    recall  f1-score   support\n",
      "\n",
      "           0  0.6966618 0.6625259 0.6791652      1449\n",
      "           1  0.6782895 0.7115252 0.6945099      1449\n",
      "\n",
      "    accuracy                      0.6870255      2898\n",
      "   macro avg  0.6874757 0.6870255 0.6868376      2898\n",
      "weighted avg  0.6874757 0.6870255 0.6868376      2898\n",
      "\n",
      "Confusion matrix:\n",
      "[[ 960  489]\n",
      " [ 418 1031]]\n",
      "******************\n",
      "ROC_AUC value:  0.7182645655055413\n",
      "******************\n",
      "[       nan        nan        nan 0.65437653 0.65386502 0.65386372\n",
      "        nan        nan 0.6579571         nan        nan        nan\n",
      " 0.67330628 0.67381779 0.67329975        nan        nan 0.66103398\n",
      "        nan        nan        nan 0.6748382  0.6748382  0.5388525\n",
      "        nan        nan 0.5       ]\n"
     ]
    }
   ],
   "source": [
    "#AverageEmbedder\n",
    "\n",
    "with warnings.catch_warnings():\n",
    "    warnings.simplefilter(\"ignore\")\n",
    "    perform_gridsearch(LogisticRegression(), parameters_logistic, skf, train_embeddings_avg, labels_train, test_embeddings_avg, labels_test)\n"
   ]
  },
  {
   "cell_type": "code",
   "execution_count": 48,
   "id": "ee4d7d34-986a-4199-b236-f10ea2da1a5a",
   "metadata": {},
   "outputs": [
    {
     "name": "stdout",
     "output_type": "stream",
     "text": [
      "Best configuration {'C': 0.001, 'penalty': 'l2', 'solver': 'lbfgs'}\n",
      "Best mean score for the validation 0.6595242444804008\n",
      "Std for the best mean score across folds 0.030135211760409227\n",
      "******************\n",
      "Classification report:\n",
      "              precision    recall  f1-score   support\n",
      "\n",
      "           0  0.6692201 0.6632160 0.6662045      1449\n",
      "           1  0.6662107 0.6721877 0.6691858      1449\n",
      "\n",
      "    accuracy                      0.6677019      2898\n",
      "   macro avg  0.6677154 0.6677019 0.6676952      2898\n",
      "weighted avg  0.6677154 0.6677019 0.6676952      2898\n",
      "\n",
      "Confusion matrix:\n",
      "[[961 488]\n",
      " [475 974]]\n",
      "******************\n",
      "ROC_AUC value:  0.6698820394922654\n",
      "******************\n",
      "[       nan        nan        nan 0.57874498 0.57772196 0.57669764\n",
      "        nan        nan 0.59357091        nan        nan        nan\n",
      " 0.60276763 0.60379065 0.59151965        nan        nan 0.60584321\n",
      "        nan        nan        nan 0.65952424 0.65952424 0.58230075\n",
      "        nan        nan 0.5       ]\n"
     ]
    }
   ],
   "source": [
    "#WeightedL1Embedder\n",
    "\n",
    "with warnings.catch_warnings():\n",
    "    warnings.simplefilter(\"ignore\")\n",
    "    perform_gridsearch(LogisticRegression(), parameters_logistic, skf, train_embeddings_l1, labels_train, test_embeddings_l1, labels_test)\n"
   ]
  },
  {
   "cell_type": "code",
   "execution_count": 49,
   "id": "9c289627-baee-432d-a591-1aea09cebbd2",
   "metadata": {},
   "outputs": [
    {
     "name": "stdout",
     "output_type": "stream",
     "text": [
      "Best configuration {'C': 0.001, 'penalty': 'l2', 'solver': 'lbfgs'}\n",
      "Best mean score for the validation 0.6610522469857508\n",
      "Std for the best mean score across folds 0.030562741742030095\n",
      "******************\n",
      "Classification report:\n",
      "              precision    recall  f1-score   support\n",
      "\n",
      "           0  0.6730633 0.6535542 0.6631653      1449\n",
      "           1  0.6633132 0.6825397 0.6727891      1449\n",
      "\n",
      "    accuracy                      0.6680469      2898\n",
      "   macro avg  0.6681882 0.6680469 0.6679772      2898\n",
      "weighted avg  0.6681882 0.6680469 0.6679772      2898\n",
      "\n",
      "Confusion matrix:\n",
      "[[947 502]\n",
      " [460 989]]\n",
      "******************\n",
      "ROC_AUC value:  0.6789270913854585\n",
      "******************\n",
      "[       nan        nan        nan 0.601742   0.601742   0.60123049\n",
      "        nan        nan 0.614013          nan        nan        nan\n",
      " 0.62168302 0.62117151 0.61759356        nan        nan 0.60736599\n",
      "        nan        nan        nan 0.66105225 0.65951772 0.58537241\n",
      "        nan        nan 0.5       ]\n"
     ]
    }
   ],
   "source": [
    "#WeightedL2Embedder\n",
    "\n",
    "with warnings.catch_warnings():\n",
    "    warnings.simplefilter(\"ignore\")\n",
    "    perform_gridsearch(LogisticRegression(), parameters_logistic, skf, train_embeddings_l2, labels_train, test_embeddings_l2, labels_test)\n"
   ]
  },
  {
   "cell_type": "markdown",
   "id": "1ef43416-b396-42a8-8d02-144a78fdf640",
   "metadata": {},
   "source": [
    "#### Decision Tree Classifier"
   ]
  },
  {
   "cell_type": "code",
   "execution_count": 50,
   "id": "cc3a4494-defc-4500-9bea-efc19507d60b",
   "metadata": {},
   "outputs": [
    {
     "name": "stdout",
     "output_type": "stream",
     "text": [
      "Best configuration {'criterion': 'entropy', 'min_samples_leaf': 8, 'min_samples_split': 4}\n",
      "Best mean score for the validation 0.6283287227934652\n",
      "Std for the best mean score across folds 0.016566760672659556\n",
      "******************\n",
      "Classification report:\n",
      "              precision    recall  f1-score   support\n",
      "\n",
      "           0  0.6021781 0.6487233 0.6245847      1449\n",
      "           1  0.6192969 0.5714286 0.5944006      1449\n",
      "\n",
      "    accuracy                      0.6100759      2898\n",
      "   macro avg  0.6107375 0.6100759 0.6094926      2898\n",
      "weighted avg  0.6107375 0.6100759 0.6094926      2898\n",
      "\n",
      "Confusion matrix:\n",
      "[[940 509]\n",
      " [621 828]]\n",
      "******************\n",
      "ROC_AUC value:  0.6377880844979594\n",
      "******************\n",
      "[0.6140143  0.61605642 0.61197609 0.61044809 0.60992353 0.60839031\n",
      " 0.60174722 0.61607339 0.61759486 0.62067566 0.62219323 0.61042982\n",
      " 0.60890313 0.61503993 0.61400908 0.61657837 0.59612454 0.60327914\n",
      " 0.61095177 0.61248891 0.61094655 0.60276763 0.59867425 0.61095047\n",
      " 0.6083877  0.61402474 0.61351454 0.61453755 0.61146981 0.60328436\n",
      " 0.61555144 0.61145415 0.60736208 0.60788272 0.61758834 0.60379587\n",
      " 0.61197088 0.61401691 0.60889791 0.6083877  0.60941464 0.61862049\n",
      " 0.61758312 0.61963046 0.61553578 0.60890965 0.60531995 0.61605251\n",
      " 0.61196957 0.61146459 0.6247586  0.62832872 0.62679289 0.62168172\n",
      " 0.62423796 0.61657054 0.6150334  0.62168302 0.61553839 0.61247586]\n"
     ]
    }
   ],
   "source": [
    "#HadamardEmbedder\n",
    "\n",
    "with warnings.catch_warnings():\n",
    "    warnings.simplefilter(\"ignore\")\n",
    "    perform_gridsearch(DecisionTreeClassifier(), parameters_dt, skf, train_embeddings_hadamard, labels_train, test_embeddings_hadamard, labels_test)\n"
   ]
  },
  {
   "cell_type": "code",
   "execution_count": 51,
   "id": "14837444-363c-4ab6-b510-a0583cd9cd67",
   "metadata": {},
   "outputs": [
    {
     "name": "stdout",
     "output_type": "stream",
     "text": [
      "Best configuration {'criterion': 'entropy', 'min_samples_leaf': 1, 'min_samples_split': 4}\n",
      "Best mean score for the validation 0.6595138055222088\n",
      "Std for the best mean score across folds 0.013252010992698734\n",
      "******************\n",
      "Classification report:\n",
      "              precision    recall  f1-score   support\n",
      "\n",
      "           0  0.6501129 0.5962733 0.6220302      1449\n",
      "           1  0.6271511 0.6790890 0.6520875      1449\n",
      "\n",
      "    accuracy                      0.6376812      2898\n",
      "   macro avg  0.6386320 0.6376812 0.6370589      2898\n",
      "weighted avg  0.6386320 0.6376812 0.6370589      2898\n",
      "\n",
      "Confusion matrix:\n",
      "[[864 585]\n",
      " [465 984]]\n",
      "******************\n",
      "ROC_AUC value:  0.6393879122747608\n",
      "******************\n",
      "[0.64058145 0.64109035 0.63956104 0.63955321 0.63494833 0.64467874\n",
      " 0.64416593 0.63802651 0.63956365 0.6303578  0.63444073 0.6415862\n",
      " 0.6318858  0.63392139 0.625749   0.63444204 0.63648155 0.64006472\n",
      " 0.63750979 0.63648155 0.6180868  0.6180855  0.618597   0.61809724\n",
      " 0.61654836 0.62985542 0.62729135 0.63292317 0.62934391 0.62934913\n",
      " 0.65082337 0.65951381 0.6513401  0.64621849 0.64468396 0.65798711\n",
      " 0.6477491  0.64827105 0.64366877 0.63957931 0.64264836 0.64775693\n",
      " 0.63957409 0.64826713 0.64111123 0.63956887 0.64008299 0.6472389\n",
      " 0.63905606 0.63445378 0.63036171 0.62422491 0.63292186 0.6364946\n",
      " 0.63292056 0.62576596 0.64007908 0.63752153 0.62832611 0.63140169]\n"
     ]
    }
   ],
   "source": [
    "#AverageEmbedder\n",
    "\n",
    "with warnings.catch_warnings():\n",
    "    warnings.simplefilter(\"ignore\")\n",
    "    perform_gridsearch(DecisionTreeClassifier(), parameters_dt, skf, train_embeddings_avg, labels_train, test_embeddings_avg, labels_test)\n"
   ]
  },
  {
   "cell_type": "code",
   "execution_count": 52,
   "id": "db2cace8-ef27-4412-9842-9fa2cd976446",
   "metadata": {},
   "outputs": [
    {
     "name": "stdout",
     "output_type": "stream",
     "text": [
      "Best configuration {'criterion': 'gini', 'min_samples_leaf': 1, 'min_samples_split': 4}\n",
      "Best mean score for the validation 0.5996894409937888\n",
      "Std for the best mean score across folds 0.014256623781814757\n",
      "******************\n",
      "Classification report:\n",
      "              precision    recall  f1-score   support\n",
      "\n",
      "           0  0.5899076 0.5728088 0.5812325      1449\n",
      "           1  0.5848424 0.6017943 0.5931973      1449\n",
      "\n",
      "    accuracy                      0.5873016      2898\n",
      "   macro avg  0.5873750 0.5873016 0.5872149      2898\n",
      "weighted avg  0.5873750 0.5873016 0.5872149      2898\n",
      "\n",
      "Confusion matrix:\n",
      "[[830 619]\n",
      " [577 872]]\n",
      "******************\n",
      "ROC_AUC value:  0.5915288190470476\n",
      "******************\n",
      "[0.58179837 0.59968944 0.57821911 0.58230336 0.57872801 0.58946318\n",
      " 0.58742888 0.5889595  0.58793648 0.58127903 0.58025993 0.57054648\n",
      " 0.58230466 0.58282269 0.57463464 0.58588392 0.59305026 0.58639412\n",
      " 0.57617438 0.58894906 0.58180359 0.58435983 0.58027428 0.57822433\n",
      " 0.5818049  0.59152357 0.58947362 0.59203116 0.58896472 0.59356438\n",
      " 0.57973668 0.58946448 0.57975234 0.5725886  0.58588392 0.58485568\n",
      " 0.57718827 0.58230466 0.57718174 0.58895036 0.58792082 0.57975364\n",
      " 0.58741714 0.57822042 0.58639021 0.57412574 0.579233   0.58382875\n",
      " 0.57360901 0.5802521  0.5818049  0.58129339 0.58128947 0.5746516\n",
      " 0.58078188 0.58538024 0.57515267 0.57924735 0.58026515 0.57720001]\n"
     ]
    }
   ],
   "source": [
    "#WeightedL1Embedder\n",
    "\n",
    "with warnings.catch_warnings():\n",
    "    warnings.simplefilter(\"ignore\")\n",
    "    perform_gridsearch(DecisionTreeClassifier(), parameters_dt, skf, train_embeddings_l1, labels_train, test_embeddings_l1, labels_test)\n"
   ]
  },
  {
   "cell_type": "code",
   "execution_count": 53,
   "id": "93226885-3c7f-4df1-8445-0a9352a58f20",
   "metadata": {},
   "outputs": [
    {
     "name": "stdout",
     "output_type": "stream",
     "text": [
      "Best configuration {'criterion': 'gini', 'min_samples_leaf': 1, 'min_samples_split': 2}\n",
      "Best mean score for the validation 0.595094994519547\n",
      "Std for the best mean score across folds 0.01783689855838193\n",
      "******************\n",
      "Classification report:\n",
      "              precision    recall  f1-score   support\n",
      "\n",
      "           0  0.5944251 0.5886818 0.5915395      1449\n",
      "           1  0.5926179 0.5983437 0.5954670      1449\n",
      "\n",
      "    accuracy                      0.5935128      2898\n",
      "   macro avg  0.5935215 0.5935128 0.5935033      2898\n",
      "weighted avg  0.5935215 0.5935128 0.5935033      2898\n",
      "\n",
      "Confusion matrix:\n",
      "[[853 596]\n",
      " [582 867]]\n",
      "******************\n",
      "ROC_AUC value:  0.5935127674258109\n",
      "******************\n",
      "[0.59509499 0.58896472 0.58485829 0.58230597 0.57820998 0.59304113\n",
      " 0.59458871 0.57565635 0.5843507  0.58282269 0.57975103 0.57924083\n",
      " 0.57668459 0.57413487 0.5730988  0.58076883 0.58128295 0.58588392\n",
      " 0.57923822 0.58129469 0.57874106 0.58436505 0.5812973  0.57976277\n",
      " 0.58231249 0.59049402 0.58743149 0.59049533 0.59509238 0.58998904\n",
      " 0.59099509 0.58076883 0.57924344 0.58894384 0.57975495 0.5838418\n",
      " 0.57157211 0.58588131 0.59047837 0.58690302 0.58383005 0.57975103\n",
      " 0.58383266 0.58383658 0.58742106 0.5771961  0.57566157 0.57565374\n",
      " 0.57820737 0.57565113 0.57567331 0.57618221 0.57771413 0.58436244\n",
      " 0.57873454 0.57464638 0.57924474 0.57822303 0.57668981 0.5766872 ]\n"
     ]
    }
   ],
   "source": [
    "#WeightedL2Embedder\n",
    "\n",
    "with warnings.catch_warnings():\n",
    "    warnings.simplefilter(\"ignore\")\n",
    "    perform_gridsearch(DecisionTreeClassifier(), parameters_dt, skf, train_embeddings_l2, labels_train, test_embeddings_l2, labels_test)\n"
   ]
  },
  {
   "cell_type": "markdown",
   "id": "b4bd0e10-c6cb-41d8-aab1-6d5c90f0d5ac",
   "metadata": {},
   "source": [
    "#### K-nearest neighbors"
   ]
  },
  {
   "cell_type": "code",
   "execution_count": 54,
   "id": "d839636a-38ef-4eb0-bd5b-3867be92f945",
   "metadata": {},
   "outputs": [
    {
     "name": "stdout",
     "output_type": "stream",
     "text": [
      "Best configuration {'n_neighbors': 3, 'weights': 'distance'}\n",
      "Best mean score for the validation 0.5986677279607495\n",
      "Std for the best mean score across folds 0.01498759244411567\n",
      "******************\n",
      "Classification report:\n",
      "              precision    recall  f1-score   support\n",
      "\n",
      "           0  0.5820130 0.8619738 0.6948540      1449\n",
      "           1  0.7340426 0.3809524 0.5015902      1449\n",
      "\n",
      "    accuracy                      0.6214631      2898\n",
      "   macro avg  0.6580278 0.6214631 0.5982221      2898\n",
      "weighted avg  0.6580278 0.6214631 0.5982221      2898\n",
      "\n",
      "Confusion matrix:\n",
      "[[1249  200]\n",
      " [ 897  552]]\n",
      "******************\n",
      "ROC_AUC value:  0.6670445956160241\n",
      "******************\n",
      "[0.59815622 0.59866773 0.59458479 0.59560781 0.58997991 0.59100292\n",
      " 0.582824   0.58589305 0.57157863 0.57669242]\n"
     ]
    }
   ],
   "source": [
    "#HadamardEmbedder\n",
    "\n",
    "with warnings.catch_warnings():\n",
    "    warnings.simplefilter(\"ignore\")\n",
    "    perform_gridsearch(KNeighborsClassifier(), parameters_knn, skf, train_embeddings_hadamard, labels_train, test_embeddings_hadamard, labels_test)\n"
   ]
  },
  {
   "cell_type": "code",
   "execution_count": 55,
   "id": "94f4c97e-0ee6-4a46-8b18-f0b66d69a497",
   "metadata": {},
   "outputs": [
    {
     "name": "stdout",
     "output_type": "stream",
     "text": [
      "Best configuration {'n_neighbors': 3, 'weights': 'distance'}\n",
      "Best mean score for the validation 0.6641030325173548\n",
      "Std for the best mean score across folds 0.007651640642332961\n",
      "******************\n",
      "Classification report:\n",
      "              precision    recall  f1-score   support\n",
      "\n",
      "           0  0.6902357 0.5659075 0.6219188      1449\n",
      "           1  0.6321637 0.7460317 0.6843938      1449\n",
      "\n",
      "    accuracy                      0.6559696      2898\n",
      "   macro avg  0.6611997 0.6559696 0.6531563      2898\n",
      "weighted avg  0.6611997 0.6559696 0.6531563      2898\n",
      "\n",
      "Confusion matrix:\n",
      "[[ 820  629]\n",
      " [ 368 1081]]\n",
      "******************\n",
      "ROC_AUC value:  0.7111236849287079\n",
      "******************\n",
      "[0.6354768  0.66410303 0.62679159 0.65183856 0.63548202 0.65183465\n",
      " 0.62833786 0.64827105 0.63446944 0.65695887]\n"
     ]
    }
   ],
   "source": [
    "#AverageEmbedder\n",
    "\n",
    "with warnings.catch_warnings():\n",
    "    warnings.simplefilter(\"ignore\")\n",
    "    perform_gridsearch(KNeighborsClassifier(), parameters_knn, skf, train_embeddings_avg, labels_train, test_embeddings_avg, labels_test)\n"
   ]
  },
  {
   "cell_type": "code",
   "execution_count": 56,
   "id": "46465dcb-ccb9-4b87-8651-81d6f84867c2",
   "metadata": {},
   "outputs": [
    {
     "name": "stdout",
     "output_type": "stream",
     "text": [
      "Best configuration {'n_neighbors': 5, 'weights': 'distance'}\n",
      "Best mean score for the validation 0.5910042277780677\n",
      "Std for the best mean score across folds 0.018741187120777943\n",
      "******************\n",
      "Classification report:\n",
      "              precision    recall  f1-score   support\n",
      "\n",
      "           0  0.6594037 0.3968254 0.4954761      1449\n",
      "           1  0.5686081 0.7950311 0.6630216      1449\n",
      "\n",
      "    accuracy                      0.5959282      2898\n",
      "   macro avg  0.6140059 0.5959282 0.5792488      2898\n",
      "weighted avg  0.6140059 0.5959282 0.5792488      2898\n",
      "\n",
      "Confusion matrix:\n",
      "[[ 575  874]\n",
      " [ 297 1152]]\n",
      "******************\n",
      "ROC_AUC value:  0.6767261970250538\n",
      "******************\n",
      "[0.55726291 0.58998382 0.55163892 0.59100423 0.54294979 0.57873454\n",
      " 0.54499582 0.57669111 0.54091158 0.56851741]\n"
     ]
    }
   ],
   "source": [
    "#WeightedL1Embedder\n",
    "\n",
    "with warnings.catch_warnings():\n",
    "    warnings.simplefilter(\"ignore\")\n",
    "    perform_gridsearch(KNeighborsClassifier(), parameters_knn, skf, train_embeddings_l1, labels_train, test_embeddings_l1, labels_test)\n"
   ]
  },
  {
   "cell_type": "code",
   "execution_count": 57,
   "id": "6f97b0c6-c5ce-4850-9db3-722dc439f35a",
   "metadata": {},
   "outputs": [
    {
     "name": "stdout",
     "output_type": "stream",
     "text": [
      "Best configuration {'n_neighbors': 3, 'weights': 'distance'}\n",
      "Best mean score for the validation 0.5915366146458584\n",
      "Std for the best mean score across folds 0.03052890902904187\n",
      "******************\n",
      "Classification report:\n",
      "              precision    recall  f1-score   support\n",
      "\n",
      "           0  0.6440307 0.4057971 0.4978831      1449\n",
      "           1  0.5662469 0.7757074 0.6546302      1449\n",
      "\n",
      "    accuracy                      0.5907522      2898\n",
      "   macro avg  0.6051388 0.5907522 0.5762567      2898\n",
      "weighted avg  0.6051388 0.5907522 0.5762567      2898\n",
      "\n",
      "Confusion matrix:\n",
      "[[ 588  861]\n",
      " [ 325 1124]]\n",
      "******************\n",
      "ROC_AUC value:  0.6384534490124552\n",
      "******************\n",
      "[0.56239365 0.59153661 0.54857378 0.57822564 0.53477608 0.57056736\n",
      " 0.52761757 0.5623806  0.52659977 0.55318127]\n"
     ]
    }
   ],
   "source": [
    "#WeightedL2Embedder\n",
    "\n",
    "with warnings.catch_warnings():\n",
    "    warnings.simplefilter(\"ignore\")\n",
    "    perform_gridsearch(KNeighborsClassifier(), parameters_knn, skf, train_embeddings_l2, labels_train, test_embeddings_l2, labels_test)\n"
   ]
  },
  {
   "cell_type": "markdown",
   "id": "7f46f631-e447-467b-a7a8-42168f04d2e4",
   "metadata": {},
   "source": [
    "####  Supervised methods ROC-CURVE visualization"
   ]
  },
  {
   "cell_type": "code",
   "execution_count": 58,
   "id": "9c153731-0587-4f8a-970d-55cf7551753f",
   "metadata": {},
   "outputs": [],
   "source": [
    "best_LR = {'C': 0.001, 'penalty': 'l2', 'solver': 'lbfgs'}\n",
    "best_KNN = {'n_neighbors': 3, 'weights': 'distance'}\n",
    "best_DT = {'criterion': 'gini', 'min_samples_leaf': 2, 'min_samples_split': 8}\n",
    "\n",
    "train_embeddings_hadamard, labels_train\n",
    "test_embeddings_hadamard, labels_test\n",
    "\n",
    "\n",
    "\n",
    "clf_LR = LogisticRegression(C = 0.001, penalty = 'l2', solver = 'lbfgs').fit(train_embeddings_hadamard, labels_train)\n",
    "clf_DT = DecisionTreeClassifier(criterion = 'gini', min_samples_leaf = 2, min_samples_split = 8).fit(train_embeddings_hadamard, labels_train)\n",
    "clf_KNN = KNeighborsClassifier(n_neighbors=3, weights = 'distance').fit(train_embeddings_hadamard, labels_train)\n",
    "\n",
    "predictions_LR = clf_LR.predict(test_embeddings_hadamard)\n",
    "predictions_DT = clf_DT.predict(test_embeddings_hadamard)\n",
    "predictions_KNN = clf_KNN.predict(test_embeddings_hadamard)"
   ]
  },
  {
   "cell_type": "code",
   "execution_count": 59,
   "id": "a72e2252-983b-4b69-8bfb-5dece547807b",
   "metadata": {},
   "outputs": [
    {
     "data": {
      "text/plain": [
       "{'Logistic Regression': 0.7063499207706606,\n",
       " 'Decision Tree': 0.6039180777681094,\n",
       " 'K-Nearest Neighbors': 0.6670445956160241}"
      ]
     },
     "execution_count": 59,
     "metadata": {},
     "output_type": "execute_result"
    }
   ],
   "source": [
    "y_score_LR = clf_LR.predict_proba(test_embeddings_hadamard)\n",
    "fpr_LR, tpr_LR, th_LR = roc_curve(labels_test, y_score_LR[:,1])\n",
    "roc_auc_LR = auc(fpr_LR, tpr_LR)\n",
    "\n",
    "precision_LR, recall_LR, thr_LR = precision_recall_curve(labels_test, y_score_LR[:,1])\n",
    "\n",
    "y_score_DT = clf_DT.predict_proba(test_embeddings_hadamard)\n",
    "fpr_DT, tpr_DT, th_DT = roc_curve(labels_test, y_score_DT[:,1])\n",
    "roc_auc_DT = auc(fpr_DT, tpr_DT)\n",
    "roc_auc_DT\n",
    "\n",
    "precision_DT, recall_DT, thr_DT = precision_recall_curve(labels_test, y_score_DT[:,1])\n",
    "\n",
    "y_score_KNN = clf_KNN.predict_proba(test_embeddings_hadamard)\n",
    "fpr_KNN, tpr_KNN, th_KNN = roc_curve(labels_test, y_score_KNN[:,1])\n",
    "roc_auc_KNN = auc(fpr_KNN, tpr_KNN)\n",
    "roc_auc_KNN\n",
    "\n",
    "precision_KNN, recall_KNN, thr_KNN = precision_recall_curve(labels_test, y_score_KNN[:,1])\n",
    "\n",
    "AUC_RESULTS = {'Logistic Regression': roc_auc_LR, 'Decision Tree' : roc_auc_DT, 'K-Nearest Neighbors' : roc_auc_KNN}\n",
    "AUC_RESULTS"
   ]
  },
  {
   "cell_type": "code",
   "execution_count": 60,
   "id": "56f6bd50-fba6-43b2-9e8e-3aaa1eeb8795",
   "metadata": {},
   "outputs": [
    {
     "data": {
      "text/plain": [
       "{'Logistic Regression': 0.6586877148913132,\n",
       " 'Decision Tree': 0.6816943108825384,\n",
       " 'K-Nearest Neighbors': 0.7006173646831768}"
      ]
     },
     "execution_count": 60,
     "metadata": {},
     "output_type": "execute_result"
    }
   ],
   "source": [
    "AUC_RESULTS_PR = {'Logistic Regression': auc(recall_LR,precision_LR), 'Decision Tree' : auc(recall_DT,precision_DT), 'K-Nearest Neighbors' :auc(recall_KNN,precision_KNN)}\n",
    "AUC_RESULTS_PR"
   ]
  },
  {
   "cell_type": "code",
   "execution_count": 61,
   "id": "8a6e94de-a109-4673-9c53-587ec97e6dfc",
   "metadata": {},
   "outputs": [
    {
     "data": {
      "image/png": "[encoded data removed]",
      "text/plain": [
       "<Figure size 800x500 with 1 Axes>"
      ]
     },
     "metadata": {},
     "output_type": "display_data"
    }
   ],
   "source": [
    "plt.figure(figsize=(8,5))\n",
    "\n",
    "plt.plot(fpr_LR, tpr_LR, label = \"Logistic Regression \" + \"(area = \" + str(AUC_RESULTS[\"Logistic Regression\"])[:5] + \")\")\n",
    "plt.plot(fpr_DT, tpr_DT, label = \"Decision Tree \" + \"(area = \" + str(AUC_RESULTS[\"Decision Tree\"])[:5] + \")\")\n",
    "plt.plot(fpr_KNN, tpr_KNN, label = \"K-Nearest Neighbors \" + \"(area = \" + str(AUC_RESULTS[\"K-Nearest Neighbors\"])[:5] + \")\")\n",
    "plt.plot([0,1], [0,1], 'k--')\n",
    "\n",
    "plt.xlabel('FPR', fontsize=10)\n",
    "plt.ylabel('TPR', fontsize = 10)\n",
    "plt.tick_params(axis='both', which='major', labelsize=10)\n",
    "plt.legend(loc = \"lower right\")\n",
    "plt.show()"
   ]
  },
  {
   "cell_type": "code",
   "execution_count": 62,
   "id": "d11ccc2a-0569-41cd-8bea-7ad42af4096a",
   "metadata": {},
   "outputs": [
    {
     "data": {
      "image/png": "[encoded data removed]",
      "text/plain": [
       "<Figure size 800x500 with 1 Axes>"
      ]
     },
     "metadata": {},
     "output_type": "display_data"
    }
   ],
   "source": [
    "plt.figure(figsize=(8,5))\n",
    "\n",
    "plt.plot(recall_LR, precision_LR, label = \"Logistic Regression \"+ \"(area = \" + str(AUC_RESULTS_PR[\"Logistic Regression\"])[:5] + \")\")\n",
    "plt.plot(recall_DT, precision_DT, label = \"Decision Tree \"+ \"(area = \" + str(AUC_RESULTS_PR[\"Decision Tree\"])[:5] + \")\")\n",
    "plt.plot(recall_KNN, precision_KNN, label = \"K-Nearest Neighbors \" + \"(area = \" + str(AUC_RESULTS_PR[\"K-Nearest Neighbors\"])[:5] + \")\")\n",
    "\n",
    "\n",
    "plt.xlabel('Recall', fontsize=10)\n",
    "plt.ylabel('Precision', fontsize = 10)\n",
    "plt.tick_params(axis='both', which='major', labelsize=10)\n",
    "plt.legend(loc = \"lower right\")\n",
    "plt.show()"
   ]
  },
  {
   "cell_type": "code",
   "execution_count": null,
   "id": "5532ce33-64a7-402a-9f51-59a105348ad2",
   "metadata": {},
   "outputs": [],
   "source": []
  }
 ],
 "metadata": {
  "kernelspec": {
   "display_name": "Python 3 (ipykernel)",
   "language": "python",
   "name": "python3"
  },
  "language_info": {
   "codemirror_mode": {
    "name": "ipython",
    "version": 3
   },
   "file_extension": ".py",
   "mimetype": "text/x-python",
   "name": "python",
   "nbconvert_exporter": "python",
   "pygments_lexer": "ipython3",
   "version": "3.11.7"
  }
 },
 "nbformat": 4,
 "nbformat_minor": 5
}
